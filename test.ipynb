{
 "cells": [
  {
   "cell_type": "code",
   "execution_count": null,
   "metadata": {},
   "outputs": [],
   "source": [
    "from map_gwas import *"
   ]
  },
  {
   "cell_type": "code",
   "execution_count": null,
   "metadata": {},
   "outputs": [],
   "source": [
    "path_09 = 'Barcode09/medaka-variant-out/medaka.annotated.vcf'\n",
    "path_10 = 'Barcode10/medaka-variant-out/medaka.annotated.vcf'\n",
    "gwas = 'gwas_catalog.csv'\n",
    "QUAL = 20\n",
    "out_09 = f'output/barcode09-map-gwas-QUAL{QUAL}.csv'\n",
    "out_10 = f'output/barcode10-map-gwas-QUAL{QUAL}.csv'"
   ]
  },
  {
   "cell_type": "code",
   "execution_count": null,
   "metadata": {},
   "outputs": [],
   "source": [
    "map_gwas_snps(path_09, gwas, out_09, QUAL).map_report()"
   ]
  },
  {
   "cell_type": "code",
   "execution_count": null,
   "metadata": {},
   "outputs": [],
   "source": [
    "import pandas as pd\n",
    "\n",
    "df = pd.read_csv('in-house_report_test_annotated_gwas.csv')"
   ]
  },
  {
   "cell_type": "code",
   "execution_count": null,
   "metadata": {},
   "outputs": [],
   "source": [
    "df['RISK ALLELE FREQUENCY']"
   ]
  },
  {
   "cell_type": "code",
   "execution_count": null,
   "metadata": {},
   "outputs": [],
   "source": [
    "report_data = df[['DISEASE/TRAIT', 'RISK ALLELE FREQUENCY', 'P-VALUE']].groupby(\n",
    "    'DISEASE/TRAIT', as_index=False\n",
    ").agg({\n",
    "    'RISK ALLELE FREQUENCY': 'max',\n",
    "    'P-VALUE': 'min'\n",
    "})\n",
    "\n",
    "# Convert to numeric and handle non-numeric values\n",
    "report_data['RISK ALLELE FREQUENCY'] = pd.to_numeric(report_data['RISK ALLELE FREQUENCY'], errors='coerce')\n",
    "\n",
    "# Multiply by 100 to get percentages\n",
    "report_data['RISK ALLELE FREQUENCY (%)'] = report_data['RISK ALLELE FREQUENCY'] * 100\n",
    "\n",
    "# Drop rows with missing or invalid values\n",
    "report_data.dropna(subset=['RISK ALLELE FREQUENCY (%)'], inplace=True)"
   ]
  },
  {
   "cell_type": "code",
   "execution_count": null,
   "metadata": {},
   "outputs": [],
   "source": [
    "report_data"
   ]
  },
  {
   "cell_type": "code",
   "execution_count": null,
   "metadata": {},
   "outputs": [],
   "source": [
    "df.dropna(subset=['DISEASE/TRAIT'], inplace=True)"
   ]
  },
  {
   "cell_type": "code",
   "execution_count": null,
   "metadata": {},
   "outputs": [],
   "source": [
    "df.columns"
   ]
  },
  {
   "cell_type": "code",
   "execution_count": null,
   "metadata": {},
   "outputs": [],
   "source": [
    "df"
   ]
  },
  {
   "cell_type": "code",
   "execution_count": null,
   "metadata": {},
   "outputs": [],
   "source": [
    "df['DISEASE/TRAIT'].value_counts()"
   ]
  },
  {
   "cell_type": "code",
   "execution_count": null,
   "metadata": {},
   "outputs": [],
   "source": [
    "from pygwas import MapGWASSNPs\n",
    "mapper = MapGWASSNPs('Barcode09/medaka-variant-out/medaka.annotated.vcf', 'medaka-variant-out/gwas_catalog.csv', 'output/barcode09.csv')\n",
    "annotated_df = mapper.map_report()\n",
    "mapper.generate_report(annotated_df)"
   ]
  },
  {
   "cell_type": "code",
   "execution_count": null,
   "metadata": {},
   "outputs": [],
   "source": [
    "import pandas as pd\n",
    "\n",
    "gwas = pd.read_csv('alternative', sep='\\t')"
   ]
  },
  {
   "cell_type": "code",
   "execution_count": null,
   "metadata": {},
   "outputs": [],
   "source": [
    "gwas['DISEASE/TRAIT'].value_counts().to_csv('gwas_trait_counts.csv')"
   ]
  },
  {
   "cell_type": "code",
   "execution_count": null,
   "metadata": {},
   "outputs": [],
   "source": [
    "gwas['DISEASE/TRAIT'].to_csv('gwas_traits.csv')"
   ]
  },
  {
   "cell_type": "code",
   "execution_count": null,
   "metadata": {},
   "outputs": [],
   "source": [
    "gwas_disease = pd.DataFrame(gwas['DISEASE/TRAIT'].value_counts().reset_index())"
   ]
  },
  {
   "cell_type": "code",
   "execution_count": null,
   "metadata": {},
   "outputs": [],
   "source": [
    "gwas_disease"
   ]
  },
  {
   "cell_type": "code",
   "execution_count": null,
   "metadata": {},
   "outputs": [],
   "source": [
    "gwas_disease = pd.DataFrame(gwas['DISEASE/TRAIT'])"
   ]
  },
  {
   "cell_type": "code",
   "execution_count": null,
   "metadata": {},
   "outputs": [],
   "source": [
    "gwas_disease.to_csv('gwas_disease_trait_groups.csv')"
   ]
  },
  {
   "cell_type": "code",
   "execution_count": null,
   "metadata": {},
   "outputs": [],
   "source": [
    "group_keywords = {\n",
    "    \"Digestive system disease\": [\"digestive\", \"stomach\", \"intestinal\", \"colon\", \"gut\", \"esophageal\", \"bowel\", \"hepatic\", \"ulcer\", \"reflux\", \"IBS\", \"Crohn's disease\", \"colitis\", \"dyspepsia\", \"peptic\", \"gallstones\"],\n",
    "    \"Cardiovascular disease\": [\"cardio\", \"heart\", \"vascular\", \"blood pressure\", \"hypertension\", \"artery\", \"stroke\", \"cholesterol\", \"arrhythmia\", \"coronary artery disease\", \"heart failure\", \"angina\", \"myocardial infarction\", \"atherosclerosis\", \"thrombosis\", \"aneurysm\", \"DVT\", \"pulmonary embolism\"],\n",
    "    \"Metabolic disease\": [\"metabolic\", \"diabetes\", \"obesity\", \"insulin\", \"glucose\", \"metabolism\", \"metabolic syndrome\", \"hypothyroidism\", \"hyperthyroidism\", \"PCOS\", \"fatty liver disease\", \"hypoglycemia\", \"insulin resistance\", \"hyperinsulinism\"],\n",
    "    \"Immune system disease\": [\"immune\", \"autoimmune\", \"immunoglobulin\", \"inflammatory\", \"allergic\", \"allergy\", \"asthma\", \"immunity\", \"cytokine\", \"IgA\", \"IgE\", \"IgG\", \"IgM\", \"lupus\", \"rheumatoid arthritis\", \"HIV\", \"multiple sclerosis\", \"Crohn's disease\", \"type 1 diabetes\", \"psoriasis\", \"eczema\", \"scleroderma\", \"Hashimoto's thyroiditis\"],\n",
    "    \"Neurodevelopmental Disorder\": [\"autism\", \"ASD\", \"spectrum disorder\", \"ADHD\", \"learning disability\", \"intellectual disability\", \"developmental delay\", \"social communication\", \"developmental coordination disorder\", \"Asperger's syndrome\", \"Fragile X syndrome\", \"Rett syndrome\", \"Tourette's syndrome\", \"language disorder\"],\n",
    "    \"Mental disorder\": [\"mental\", \"anxiety\", \"depression\", \"schizophrenia\", \"bipolar\", \"OCD\", \"PTSD\", \"phobia\", \"panic disorder\", \"eating disorder\", \"mood disorder\", \"personality disorder\", \"sleep disorder\", \"suicide\", \"stress\", \"addiction\", \"substance abuse\", \"psychosis\", \"dissociative disorder\", \"self-harm\", \"substance dependence\"],\n",
    "    \"Nervous system disease\": [\"nervous\", \"neuro\", \"brain\", \"cognitive\", \"parkinson\", \"alzheimer\", \"epilepsy\", \"dementia\", \"seizure\", \"stroke\", \"multiple sclerosis\", \"ALS\", \"migraine\", \"headache\", \"neurodegenerative disease\", \"spinal cord injury\"],\n",
    "    \"Liver disease\": [\"liver\", \"hepatic\", \"cirrhosis\", \"fibrosis\", \"liver failure\", \"Hepatitis\", \"hepatitis B\", \"hepatitis C\", \"NAFLD\", \"hepatocellular carcinoma\", \"liver fibrosis\"],\n",
    "    \"Lipid or lipoprotein measurement\": [\"lipid\", \"cholesterol\", \"lipoprotein\", \"triglyceride\", \"fatty acid\", \"HDL\", \"LDL\", \"VLDL\", \"apolipoprotein\", \"lipoprotein(a)\", \"lipoprotein lipase\"],\n",
    "    \"Inflammatory marker measurement\": [\"inflammatory\", \"CRP\", \"cytokine\", \"marker\", \"inflammation\", \"IL-6\", \"TNF-alpha\", \"interleukin\", \"ESR\", \"procalcitonin\", \"fibrinogen\", \"pentraxin-3\"],\n",
    "    \"Hematological measurement\": [\"hematological\", \"blood cell\", \"hemoglobin\", \"platelet\", \"leukocyte\", \"erythrocyte\", \"anemia\", \"hematocrit\", \"WBC\", \"RBC\", \"hematopoiesis\", \"thrombocytopenia\", \"leukopenia\", \"polycythemia\", \"coagulation\", \"clotting factor\", \"blood disorders\", \"hemolysis\", \"sickle cell anemia\", \"hemophilia\"],\n",
    "    \"Body measurement\": [\"height\", \"weight\", \"BMI\", \"body mass\", \"waist\", \"fat percentage\", \"bone density\", \"hip circumference\", \"body composition\", \"lean mass\", \"waist circumference\", \"waist-to-hip ratio\", \"fat mass\", \"muscle mass\", \"BMR\", \"body density\", \"body fat percentage\", \"bone mineral density\", \"body composition analysis\"],\n",
    "    \"Cardiovascular measurement\": [\"cardiovascular\", \"ECG\", \"heart rate\", \"blood flow\", \"pulse\", \"arterial\", \"QT interval\", \"systolic\", \"diastolic\", \"blood pressure\", \"HRV\", \"arterial stiffness\", \"pulse pressure\", \"electrocardiogram\", \"echocardiogram\", \"carotid ultrasound\", \"heart function test\", \"myocardial perfusion\"],\n",
    "    \"Other measurement\": [\"measurement\", \"biomarker\", \"assay\", \"quantification\", \"test\", \"screening\", \"diagnostic\", \"biomarker analysis\", \"genetic testing\", \"lab tests\", \"PCR\", \"ELISA\", \"PCR testing\", \"flow cytometry\"],\n",
    "    \"Response to drug\": [\"drug\", \"pharma\", \"response\", \"medication\", \"treatment\", \"efficacy\", \"side effect\", \"therapy\", \"pharmacogenomics\", \"drug efficacy\", \"pharmacokinetics\", \"drug metabolism\", \"clinical trial\", \"therapeutic drug monitoring\", \"adverse drug reaction\", \"medication compliance\", \"personalized treatment\", \"treatment outcome\"],\n",
    "    \"Biological process\": [\"biological\", \"pathway\", \"process\", \"genomic\", \"transcription\", \"translation\", \"protein expression\", \"cell signaling\", \"epigenetic\", \"cell differentiation\", \"apoptosis\", \"DNA repair\", \"cellular response\", \"protein folding\", \"mitochondrial function\", \"cell cycle\", \"gene expression\", \"metabolism\", \"signal transduction\"],\n",
    "    \"Cancer\": [\"cancer\", \"tumor\", \"neoplasm\", \"carcinoma\", \"oncology\", \"melanoma\", \"leukemia\", \"lymphoma\", \"metastasis\", \"malignant\", \"Breast cancer\", \"prostate cancer\", \"lung cancer\", \"colorectal cancer\", \"sarcoma\", \"lymphoma\", \"glioblastoma\", \"brain tumor\", \"hepatocellular carcinoma\", \"ovarian cancer\"],\n",
    "    \"Liver enzyme measurement\": [\"liver\", \"alanine\", \"aspartate\", \"enzyme\", \"hepatic\", \"bilirubin\", \"ALT\", \"AST\", \"GGT\", \"ALP\", \"bilirubin\", \"albumin\", \"PT\"],\n",
    "    \"Other disease\": [\"disease\", \"syndrome\", \"condition\", \"disorder\", \"illness\", \"pathology\", \"chronic\", \"acute\", \"infection\", \"rare disease\", \"genetic disorder\", \"congenital disorder\", \"hereditary condition\", \"autoimmune disease\", \"genetic disorder\", \"syndrome\", \"pathology\"]\n",
    "}"
   ]
  },
  {
   "cell_type": "code",
   "execution_count": null,
   "metadata": {},
   "outputs": [],
   "source": [
    "'''# Define mapping of keywords to groups\n",
    "group_keywords = {\n",
    "    \"Digestive system disease\": [\"digestive\", \"stomach\", \"intestinal\", \"colon\", \"gut\", \"esophageal\", \"bowel\", \"hepatic\"],\n",
    "    \"Cardiovascular disease\": [\"cardio\", \"heart\", \"vascular\", \"blood pressure\", \"hypertension\", \"artery\", \"stroke\", \"cholesterol\"],\n",
    "    \"Metabolic disease\": [\"metabolic\", \"diabetes\", \"obesity\", \"insulin\", \"glucose\", \"metabolism\", \"metabolic syndrome\"],\n",
    "    \"Immune system disease\": [\"immune\", \"autoimmune\", \"immunoglobulin\", \"inflammatory\", \"allergic\", \"allergy\", \"asthma\", \"immunity\", \"cytokine\", \"IgA\", \"IgE\", \"IgG\", \"IgM\"],\n",
    "    \"Neurodevelopmental Disorder\": [\n",
    "        \"autism\", \"ASD\", \"spectrum disorder\", \"ADHD\", \"learning disability\", \n",
    "        \"intellectual disability\", \"developmental delay\", \"social communication\"\n",
    "    ],\n",
    "    \"Mental disorder\": [\n",
    "        \"mental\", \"anxiety\", \"depression\", \"schizophrenia\", \"bipolar\", \"OCD\", \n",
    "        \"PTSD\", \"phobia\", \"panic disorder\", \"eating disorder\", \"mood disorder\", \n",
    "        \"personality disorder\", \"sleep disorder\", \"suicide\", \"stress\", \"addiction\", \n",
    "        \"substance abuse\"\n",
    "    ],\n",
    "    \"Nervous system disease\": [\n",
    "        \"nervous\", \"neuro\", \"brain\", \"cognitive\", \"parkinson\", \"alzheimer\", \n",
    "        \"epilepsy\", \"dementia\", \"seizure\"\n",
    "    ],\n",
    "    \"Liver disease\": [\"liver\", \"hepatic\", \"cirrhosis\", \"fibrosis\", \"liver failure\", \"Hepatitis\"],\n",
    "    \"Lipid or lipoprotein measurement\": [\"lipid\", \"cholesterol\", \"lipoprotein\", \"triglyceride\", \"fatty acid\", \"HDL\", \"LDL\", \"VLDL\", \"apolipoprotein\"],\n",
    "    \"Inflammatory marker measurement\": [\"inflammatory\", \"CRP\", \"cytokine\", \"marker\", \"inflammation\", \"IL-6\", \"TNF-alpha\", \"interleukin\"],\n",
    "    \"Hematological measurement\": [\"hematological\", \"blood cell\", \"hemoglobin\", \"platelet\", \"leukocyte\", \"erythrocyte\", \"anemia\", \"hematocrit\", \"WBC\", \"RBC\"],\n",
    "    \"Body measurement\": [\"height\", \"weight\", \"BMI\", \"body mass\", \"waist\", \"fat percentage\", \"bone density\", \"hip circumference\", \"body composition\", \"lean mass\"],\n",
    "    \"Cardiovascular measurement\": [\"cardiovascular\", \"ECG\", \"heart rate\", \"blood flow\", \"pulse\", \"arterial\", \"QT interval\", \"systolic\", \"diastolic\"],\n",
    "    \"Other measurement\": [\"measurement\", \"biomarker\", \"assay\", \"quantification\", \"test\", \"screening\", \"diagnostic\"],\n",
    "    \"Response to drug\": [\"drug\", \"pharma\", \"response\", \"medication\", \"treatment\", \"efficacy\", \"side effect\", \"therapy\", \"pharmacogenomics\"],\n",
    "    \"Biological process\": [\"biological\", \"pathway\", \"process\", \"genomic\", \"transcription\", \"translation\", \"protein expression\", \"cell signaling\", \"epigenetic\"],\n",
    "    \"Cancer\": [\"cancer\", \"tumor\", \"neoplasm\", \"carcinoma\", \"oncology\", \"melanoma\", \"leukemia\", \"lymphoma\", \"metastasis\", \"malignant\", \"Breast cancer\", \"prostate cancer\", \"lung cancer\", \"colorectal cancer\", 'sarcoma'],\n",
    "    \"Liver enzyme measurement\": [\"liver\", \"alanine\", \"aspartate\", \"enzyme\", \"hepatic\", \"bilirubin\", \"ALT\", \"AST\", \"GGT\"],\n",
    "    \"Other disease\": [\"disease\", \"syndrome\", \"condition\", \"disorder\", \"illness\", \"pathology\", \"chronic\", \"acute\"],\n",
    "    \"Other trait\": []  # Default category for unclassified traits\n",
    "}\n",
    "'''\n",
    "\n",
    "'''# Function to assign group based on keywords is contauined in the group_keywords dictionary\n",
    "def assign_group(text): # text is the disease/trait column\n",
    "    text = text.lower() # Convert to lowercase for case-insensitive matching\n",
    "    for group, keywords in group_keywords.items(): # Iterate over the dictionary items\n",
    "        for keyword in keywords: # Iterate over the list of keywords for each group \n",
    "            if keyword.lower() in text:\n",
    "                return group\n",
    "    return \"Other trait\"'''\n",
    "    \n",
    "group_keywords = {\n",
    "    \"Digestive system disease\": [\n",
    "        \"digestive\", \"stomach\", \"intestinal\", \"colon\", \"gut\", \"esophageal\", \n",
    "        \"bowel\", \"hepatic\", \"ulcer\", \"reflux\", \"IBS\", \"Crohn's disease\", \n",
    "        \"colitis\", \"dyspepsia\", \"peptic\", \"gallstones\"\n",
    "    ],\n",
    "    \"Cardiovascular disease\": [\n",
    "        \"cardio\", \"heart\", \"vascular\", \"blood pressure\", \"hypertension\", \"artery\", \n",
    "        \"stroke\", \"cholesterol\", \"arrhythmia\", \"coronary artery disease\", \"heart failure\", \n",
    "        \"angina\", \"myocardial infarction\", \"atherosclerosis\", \"thrombosis\", \"aneurysm\", \n",
    "        \"DVT\", \"pulmonary embolism\"\n",
    "    ],\n",
    "    \"Metabolic disease\": [\n",
    "        \"metabolic\", \"diabetes\", \"obesity\", \"insulin\", \"glucose\", \"metabolism\", \n",
    "        \"metabolic syndrome\", \"hypothyroidism\", \"hyperthyroidism\", \"PCOS\", \n",
    "        \"fatty liver disease\", \"hypoglycemia\", \"insulin resistance\", \"hyperinsulinism\"\n",
    "    ],\n",
    "    \"Immune system disease\": [\n",
    "        \"immune\", \"autoimmune\", \"immunoglobulin\", \"inflammatory\", \"allergic\", \"allergy\", \n",
    "        \"asthma\", \"immunity\", \"cytokine\", \"IgA\", \"IgE\", \"IgG\", \"IgM\", \"lupus\", \n",
    "        \"rheumatoid arthritis\", \"HIV\", \"multiple sclerosis\", \"Crohn's disease\", \"type 1 diabetes\", \n",
    "        \"psoriasis\", \"eczema\", \"scleroderma\", \"Hashimoto's thyroiditis\"\n",
    "    ],\n",
    "    \"Neurodevelopmental Disorder\": [\n",
    "        \"autism\", \"ASD\", \"spectrum disorder\", \"ADHD\", \"learning disability\", \n",
    "        \"intellectual disability\", \"developmental delay\", \"social communication\", \n",
    "        \"developmental coordination disorder\", \"Asperger's syndrome\", \"Fragile X syndrome\", \n",
    "        \"Rett syndrome\", \"Tourette's syndrome\", \"language disorder\"\n",
    "    ],\n",
    "    \"Mental disorder\": [\n",
    "        \"mental\", \"anxiety\", \"depression\", \"schizophrenia\", \"bipolar\", \"OCD\", \"PTSD\", \n",
    "        \"phobia\", \"panic disorder\", \"eating disorder\", \"mood disorder\", \"personality disorder\", \n",
    "        \"sleep disorder\", \"suicide\", \"stress\", \"addiction\", \"substance abuse\", \"psychosis\", \n",
    "        \"dissociative disorder\", \"self-harm\", \"substance dependence\"\n",
    "    ],\n",
    "    \"Nervous system disease\": [\n",
    "        \"nervous\", \"neuro\", \"brain\", \"cognitive\", \"parkinson\", \"alzheimer\", \"epilepsy\", \n",
    "        \"dementia\", \"seizure\", \"stroke\", \"multiple sclerosis\", \"ALS\", \"migraine\", \"headache\", \n",
    "        \"neurodegenerative disease\", \"spinal cord injury\"\n",
    "    ],\n",
    "    \"Liver disease\": [\n",
    "        \"liver\", \"hepatic\", \"cirrhosis\", \"fibrosis\", \"liver failure\", \"Hepatitis\", \"hepatitis B\", \n",
    "        \"hepatitis C\", \"NAFLD\", \"hepatocellular carcinoma\", \"liver fibrosis\"\n",
    "    ],\n",
    "    \"Lipid or lipoprotein measurement\": [\n",
    "        \"lipid\", \"cholesterol\", \"lipoprotein\", \"triglyceride\", \"fatty acid\", \"HDL\", \"LDL\", \n",
    "        \"VLDL\", \"apolipoprotein\", \"lipoprotein(a)\", \"lipoprotein lipase\"\n",
    "    ],\n",
    "    \"Inflammatory marker measurement\": [\n",
    "        \"inflammatory\", \"CRP\", \"cytokine\", \"marker\", \"inflammation\", \"IL-6\", \"TNF-alpha\", \n",
    "        \"interleukin\", \"ESR\", \"procalcitonin\", \"fibrinogen\", \"pentraxin-3\"\n",
    "    ],\n",
    "    \"Hematological measurement\": [\n",
    "        \"hematological\", \"blood cell\", \"hemoglobin\", \"platelet\", \"leukocyte\", \"erythrocyte\", \n",
    "        \"anemia\", \"hematocrit\", \"WBC\", \"RBC\", \"hematopoiesis\", \"thrombocytopenia\", \"leukopenia\", \n",
    "        \"polycythemia\", \"coagulation\", \"clotting factor\", \"blood disorders\", \"hemolysis\", \n",
    "        \"sickle cell anemia\", \"hemophilia\"\n",
    "    ],\n",
    "    \"Body measurement\": [\n",
    "        \"height\", \"weight\", \"BMI\", \"body mass\", \"waist\", \"fat percentage\", \"bone density\", \n",
    "        \"hip circumference\", \"body composition\", \"lean mass\", \"waist circumference\", \"waist-to-hip ratio\", \n",
    "        \"fat mass\", \"muscle mass\", \"BMR\", \"body density\", \"body fat percentage\", \"bone mineral density\", \n",
    "        \"body composition analysis\"\n",
    "    ],\n",
    "    \"Cardiovascular measurement\": [\n",
    "        \"cardiovascular\", \"ECG\", \"heart rate\", \"blood flow\", \"pulse\", \"arterial\", \"QT interval\", \n",
    "        \"systolic\", \"diastolic\", \"blood pressure\", \"HRV\", \"arterial stiffness\", \"pulse pressure\", \n",
    "        \"electrocardiogram\", \"echocardiogram\", \"carotid ultrasound\", \"heart function test\", \"myocardial perfusion\"\n",
    "    ],\n",
    "    \"Other measurement\": [\n",
    "        \"measurement\", \"biomarker\", \"assay\", \"quantification\", \"test\", \"screening\", \"diagnostic\", \n",
    "        \"biomarker analysis\", \"genetic testing\", \"lab tests\", \"PCR\", \"ELISA\", \"PCR testing\", \"flow cytometry\"\n",
    "    ],\n",
    "    \"Response to drug\": [\n",
    "        \"drug\", \"pharma\", \"response\", \"medication\", \"treatment\", \"efficacy\", \"side effect\", \n",
    "        \"therapy\", \"pharmacogenomics\", \"drug efficacy\", \"pharmacokinetics\", \"drug metabolism\", \n",
    "        \"clinical trial\", \"therapeutic drug monitoring\", \"adverse drug reaction\", \"medication compliance\", \n",
    "        \"personalized treatment\", \"treatment outcome\"\n",
    "    ],\n",
    "    \"Biological process\": [\n",
    "        \"biological\", \"pathway\", \"process\", \"genomic\", \"transcription\", \"translation\", \"protein expression\", \n",
    "        \"cell signaling\", \"epigenetic\", \"cell differentiation\", \"apoptosis\", \"DNA repair\", \"cellular response\", \n",
    "        \"protein folding\", \"mitochondrial function\", \"cell cycle\", \"gene expression\", \"metabolism\", \n",
    "        \"signal transduction\"\n",
    "    ],\n",
    "    \"Cancer\": [\n",
    "        \"cancer\", \"tumor\", \"neoplasm\", \"carcinoma\", \"oncology\", \"melanoma\", \"leukemia\", \"lymphoma\", \n",
    "        \"metastasis\", \"malignant\", \"Breast cancer\", \"prostate cancer\", \"lung cancer\", \"colorectal cancer\", \n",
    "        \"sarcoma\", \"lymphoma\", \"glioblastoma\", \"brain tumor\", \"hepatocellular carcinoma\", \"ovarian cancer\"\n",
    "    ],\n",
    "    \"Liver enzyme measurement\": [\n",
    "        \"liver\", \"alanine\", \"aspartate\", \"enzyme\", \"hepatic\", \"bilirubin\", \"ALT\", \"AST\", \"GGT\", \"ALP\", \n",
    "        \"bilirubin\", \"albumin\", \"PT\"\n",
    "    ],\n",
    "    \"Other disease\": [\n",
    "        \"disease\", \"syndrome\", \"condition\", \"disorder\", \"illness\", \"pathology\", \"chronic\", \"acute\", \n",
    "        \"infection\", \"rare disease\", \"genetic disorder\", \"congenital disorder\", \"hereditary condition\", \n",
    "        \"autoimmune disease\", \"genetic disorder\", \"syndrome\", \"pathology\"\n",
    "    ],\n",
    "    \"Other trait\": []  # Default category for unclassified traits\n",
    "}\n",
    "\n",
    "def assign_group(disease_trait):\n",
    "    for group, keywords in group_keywords.items():\n",
    "        for keyword in keywords:\n",
    "            if keyword.lower() in disease_trait.lower():\n",
    "                return group\n",
    "    return \"Other trait\"\n",
    "\n",
    "# Apply the function to create the new column\n",
    "gwas['Groups of Disease/Trait'] = gwas['DISEASE/TRAIT'].apply(assign_group)\n",
    "\n",
    "gwas.to_csv('gwas_catalog_grouped.csv')\n",
    "# Display a sample of the updated dataset\n",
    "gwas.head()"
   ]
  },
  {
   "cell_type": "code",
   "execution_count": null,
   "metadata": {},
   "outputs": [],
   "source": [
    "gwas.to_csv('data/gwas_database.csv', index=False)"
   ]
  },
  {
   "cell_type": "code",
   "execution_count": null,
   "metadata": {},
   "outputs": [],
   "source": [
    "gwas['Groups of Disease/Trait'].unique()"
   ]
  },
  {
   "cell_type": "code",
   "execution_count": null,
   "metadata": {},
   "outputs": [],
   "source": [
    "col = ['Other trait', \n",
    "       'Mental disorder', \n",
    "       'Cancer',\n",
    "       'Immune system disease', \n",
    "       'Metabolic disease',\n",
    "       'Digestive system disease', \n",
    "       'Hematological measurement',\n",
    "       'Response to drug', \n",
    "       'Lipid or lipoprotein measurement',\n",
    "       'Cardiovascular disease', \n",
    "       'Nervous system disease',\n",
    "       'Body measurement', \n",
    "       'Liver disease', \n",
    "       'Neurodevelopmental Disorder',\n",
    "       'Inflammatory marker measurement', \n",
    "       'Other disease',\n",
    "       'Liver enzyme measurement', \n",
    "       'Cardiovascular measurement',\n",
    "       'Other measurement', \n",
    "       'Biological process']"
   ]
  },
  {
   "cell_type": "code",
   "execution_count": null,
   "metadata": {},
   "outputs": [],
   "source": [
    "\n",
    "\n",
    "# Add an Icon column to the dataset\n",
    "gwas['Icon'] = gwas['Groups of Disease/Trait'].map(icon_mapping)\n",
    "\n",
    "# Display updated dataset\n",
    "gwas.head()"
   ]
  },
  {
   "cell_type": "code",
   "execution_count": null,
   "metadata": {},
   "outputs": [],
   "source": [
    "gwas.to_csv('gwas_catalog_grouped.csv', index=False)"
   ]
  },
  {
   "cell_type": "code",
   "execution_count": null,
   "metadata": {},
   "outputs": [],
   "source": [
    "gwas_disease.to_csv('gwas_disease_trait_groups.csv')"
   ]
  },
  {
   "cell_type": "code",
   "execution_count": null,
   "metadata": {},
   "outputs": [],
   "source": [
    "gwas_disease['Groups of Disease/Trait'].unique()"
   ]
  },
  {
   "cell_type": "code",
   "execution_count": null,
   "metadata": {},
   "outputs": [],
   "source": []
  },
  {
   "cell_type": "code",
   "execution_count": null,
   "metadata": {},
   "outputs": [],
   "source": [
    "gwas_disease"
   ]
  },
  {
   "cell_type": "code",
   "execution_count": null,
   "metadata": {},
   "outputs": [],
   "source": [
    "import plotly.express as px\n",
    "#Create a DataFrame linspace of 100 values\n",
    "\n",
    "import numpy as np\n",
    "import pandas as pd\n",
    "import plotly.express as px\n",
    "#Create a DataFrame linspace of 100 values\n",
    "df = pd.DataFrame(np.linspace(0, 100, 100), columns=['Values'])\n"
   ]
  },
  {
   "cell_type": "code",
   "execution_count": null,
   "metadata": {},
   "outputs": [],
   "source": [
    "str_test = \"Biological process\""
   ]
  },
  {
   "cell_type": "code",
   "execution_count": null,
   "metadata": {},
   "outputs": [],
   "source": [
    "with open(\"data/Group of disease traits/Biological process.svg\", \"r\", encoding=\"utf-8\") as file:\n",
    "    img = file.read()\n",
    "\n",
    "print(str(img))"
   ]
  },
  {
   "cell_type": "code",
   "execution_count": null,
   "metadata": {},
   "outputs": [],
   "source": [
    "test = f\"{img}\""
   ]
  },
  {
   "cell_type": "code",
   "execution_count": null,
   "metadata": {},
   "outputs": [],
   "source": [
    "test"
   ]
  },
  {
   "cell_type": "code",
   "execution_count": null,
   "metadata": {},
   "outputs": [],
   "source": [
    "img"
   ]
  },
  {
   "cell_type": "code",
   "execution_count": null,
   "metadata": {},
   "outputs": [],
   "source": [
    "import plotly.io as pio"
   ]
  },
  {
   "cell_type": "code",
   "execution_count": null,
   "metadata": {},
   "outputs": [],
   "source": [
    "svg_bytes = pio.to_image(img, format=\"svg\")\n",
    "svg_string = svg_bytes.decode(\"utf-8\")"
   ]
  },
  {
   "cell_type": "code",
   "execution_count": null,
   "metadata": {},
   "outputs": [],
   "source": [
    "import pyperclip\n",
    "\n",
    "pyperclip.copy(img)  # Copy text to clipboard"
   ]
  },
  {
   "cell_type": "code",
   "execution_count": null,
   "metadata": {},
   "outputs": [],
   "source": [
    "import plotly.graph_objects as go\n",
    "import numpy as np\n",
    "\n",
    "fig = go.Figure()\n",
    "\n",
    "z_ = np.linspace(0, 100, 100)\n",
    "\n",
    "fig.add_trace(go.Heatmap(\n",
    "    z=[z_],\n",
    "    colorscale=[\n",
    "        #Create color scale 0-100 with 100 steps from blue to red\n",
    "        [0, '#008AA5'],\n",
    "        [1, '#F1423E']\n",
    "        ],\n",
    "    showscale=False,\n",
    "    colorbar=dict(\n",
    "        tick0=0,\n",
    "        dtick=1\n",
    "    )\n",
    "\n",
    "))\n",
    "\n",
    "#X scale from 0 to 100\n",
    "fig.update_layout(\n",
    "    xaxis=dict(\n",
    "        range=[0, 100]\n",
    "    )\n",
    ")\n",
    "\n",
    "#X-axis title\n",
    "fig.update_layout(\n",
    "    xaxis_title=\"Risk Allele Frequency (%)\",\n",
    ")\n",
    "#Add triangle-down marker at 50 on the x-axis and 0 on the y-axis with size 30 and black color\n",
    "fig.add_trace(go.Scatter(\n",
    "    x=[50],\n",
    "    y=[0.5],\n",
    "    mode='markers',\n",
    "    marker=dict(\n",
    "        symbol='triangle-down',\n",
    "        size=50,\n",
    "        color='black'\n",
    "    )\n",
    "))\n",
    "\n",
    "#Add line at 50 on the x-axis with width 2 and black color\n",
    "\n",
    "#set size of the plot\n",
    "fig.update_layout(\n",
    "    width=1000,\n",
    "    height=300\n",
    ")\n",
    "\n",
    "#Gide y-axis\n",
    "fig.update_layout(\n",
    "    yaxis=dict(\n",
    "        visible=False,\n",
    "    ),\n",
    "    showlegend=False,\n",
    "    xaxis=dict(\n",
    "        showgrid=False,\n",
    "        zeroline=False\n",
    "        ),\n",
    "    plot_bgcolor='rgba(0,0,0,0)',\n",
    "    paper_bgcolor='rgba(0,0,0,0)'\n",
    ")\n",
    "\n",
    "\n",
    "fig.update_layout(\n",
    "    font=dict(\n",
    "        size=16,  \n",
    "    )\n",
    ")\n",
    "\n",
    "#optimise margin\n",
    "fig.update_layout(\n",
    "    margin=dict(\n",
    "        l=0,\n",
    "        r=300,\n",
    "        b=300,\n",
    "        t=300,\n",
    "        pad=0\n",
    "    )\n",
    ")\n",
    "\n",
    "fig.show()"
   ]
  },
  {
   "cell_type": "code",
   "execution_count": null,
   "metadata": {},
   "outputs": [],
   "source": [
    "str_p = pio.to_image(fig, format=\"svg\")"
   ]
  },
  {
   "cell_type": "code",
   "execution_count": null,
   "metadata": {},
   "outputs": [],
   "source": [
    "str_p.decode(\"utf-8\")"
   ]
  },
  {
   "cell_type": "code",
   "execution_count": null,
   "metadata": {},
   "outputs": [],
   "source": [
    "\n",
    "fig = px.bar(df, y=\"continent\", x=\"pop\", color=\"lifeExp\", orientation=\"h\",\n",
    "             color_continuous_scale='Bluered_r', hover_name=\"country\")\n",
    "\n",
    "fig.show()"
   ]
  },
  {
   "cell_type": "code",
   "execution_count": null,
   "metadata": {},
   "outputs": [],
   "source": [
    "barcode = ['Barcode09', 'Barcode10']\n",
    "filter_Q = [0, 10, 20]\n",
    "gwas_file = \"gwas_catalog_grouped.csv\"\n",
    "\n",
    "for i in barcode:\n",
    "    for j in filter_Q:\n",
    "        path = f'{i}/medaka-variant-out/medaka.annotated.vcf'\n",
    "        out = f'{i}-map-gwas-QUAL{j}'\n",
    "\n",
    "        mapper = MapGWASSNPs(path, gwas_file, out, cut_off_qual=j, filt_nr_disease=True)\n",
    "        annotated_df = mapper.map_snps()\n",
    "        mapper.generate_report()"
   ]
  },
  {
   "cell_type": "code",
   "execution_count": null,
   "metadata": {},
   "outputs": [],
   "source": [
    "import pandas as pd\n",
    "import gwaspy\n",
    "\n",
    "# Function to search for disease/trait description based on SNP\n",
    "def get_trait_description(snp_id):\n",
    "    try:\n",
    "        # Search for the SNP in the GWAS Catalog using gwaspy\n",
    "        result = gwaspy.search(snp=snp_id)\n",
    "        \n",
    "        if result:\n",
    "            # Extracting the trait or disease description\n",
    "            description = result[0].get('trait', 'No description found')\n",
    "        else:\n",
    "            description = 'No description found'\n",
    "        \n",
    "        return description\n",
    "    except Exception as e:\n",
    "        print(f\"Error fetching data for SNP {snp_id}: {e}\")\n",
    "        return 'Error fetching description'\n",
    "\n",
    "# Example SNP dataset (replace this with your actual dataset)\n",
    "data = {\n",
    "    'SNP': ['rs1234', 'rs5678', 'rs91011'],  # Example SNP IDs\n",
    "    'Other_Column': [1.2, 3.4, 5.6]\n",
    "}\n",
    "\n",
    "# Create a DataFrame from your SNP dataset\n",
    "df = pd.DataFrame(data)\n",
    "\n",
    "# Create a new column with the trait descriptions for each SNP\n",
    "df['Trait_Description'] = df['SNP'].apply(get_trait_description)\n",
    "\n",
    "# Display the updated DataFrame\n",
    "print(df)"
   ]
  },
  {
   "cell_type": "code",
   "execution_count": null,
   "metadata": {},
   "outputs": [],
   "source": [
    "!pip3 install gwaspy"
   ]
  },
  {
   "cell_type": "code",
   "execution_count": null,
   "metadata": {},
   "outputs": [],
   "source": []
  },
  {
   "cell_type": "code",
   "execution_count": null,
   "metadata": {},
   "outputs": [],
   "source": [
    "import requests\n",
    "from bs4 import BeautifulSoup\n",
    "\n",
    "# Function to fetch the EFO ID from the GWAS Catalog search page for a given trait\n",
    "def fetch_efo_id(trait_name):\n",
    "    base_url = \"https://www.ebi.ac.uk/gwas/rest/api/search\"\n",
    "    params = {\"query\": trait_name}\n",
    "    \n",
    "    try:\n",
    "        # Make a request to the GWAS Catalog search API\n",
    "        response = requests.get(base_url, params=params)\n",
    "        response.raise_for_status()\n",
    "        \n",
    "        # Parse the response JSON to extract EFO ID\n",
    "        data = response.json()\n",
    "        if 'response' in data and 'docs' in data['response']:\n",
    "            docs = data['response']['docs']\n",
    "            if docs:\n",
    "                # Extract the first document's EFO ID (if it exists)\n",
    "                efo_id = docs[0].get('efo_trait', None)\n",
    "                if efo_id:\n",
    "                    return efo_id\n",
    "        return None\n",
    "\n",
    "    except requests.exceptions.RequestException as err:\n",
    "        print(f\"Error fetching data: {err}\")\n",
    "        return None\n",
    "\n",
    "# Function to scrape the description from the EFO trait page\n",
    "def fetch_description_from_efo_page(efo_id):\n",
    "    url = f\"https://www.ebi.ac.uk/gwas/efotraits/{efo_id}\"\n",
    "    \n",
    "    try:\n",
    "        # Request the EFO trait page\n",
    "        response = requests.get(url)\n",
    "        response.raise_for_status()\n",
    "        \n",
    "        # Parse the HTML page using BeautifulSoup\n",
    "        soup = BeautifulSoup(response.content, 'html.parser')\n",
    "        \n",
    "        # Extract the description of the trait from the page (assuming it's within a specific tag, e.g., <p>)\n",
    "        description_tag = soup.find('div', class_='panel-body')\n",
    "        if description_tag:\n",
    "            description = description_tag.get_text(strip=True)\n",
    "            return description\n",
    "        \n",
    "        return \"Description not found.\"\n",
    "    \n",
    "    except requests.exceptions.RequestException as err:\n",
    "        print(f\"Error fetching EFO page: {err}\")\n",
    "        return \"Error fetching description\"\n",
    "\n",
    "# Example usage\n",
    "trait_name = \"Response to radiotherapy in cancer (late toxicity)\"\n",
    "\n",
    "# Step 1: Fetch the EFO ID for the trait\n",
    "efo_id = fetch_efo_id(trait_name)\n",
    "\n",
    "if efo_id:\n",
    "    print(f\"EFO ID for '{trait_name}': {efo_id}\")\n",
    "    \n",
    "    # Step 2: Fetch the description from the EFO page using the EFO ID\n",
    "    description = fetch_description_from_efo_page(efo_id)\n",
    "    print(f\"Description for '{trait_name}': {description}\")\n",
    "else:\n",
    "    print(f\"EFO ID not found for '{trait_name}'.\")"
   ]
  },
  {
   "cell_type": "code",
   "execution_count": null,
   "metadata": {},
   "outputs": [],
   "source": [
    "!pip3 install beautifulsoup4"
   ]
  },
  {
   "cell_type": "code",
   "execution_count": null,
   "metadata": {},
   "outputs": [],
   "source": [
    "import pandas as pd"
   ]
  },
  {
   "cell_type": "code",
   "execution_count": null,
   "metadata": {},
   "outputs": [],
   "source": [
    "df = pd.read_csv('alternative', sep='\\t')\n",
    "df2 = pd.read_csv('data/gwas_catalog_grouped.csv', index_col=0)"
   ]
  },
  {
   "cell_type": "code",
   "execution_count": null,
   "metadata": {},
   "outputs": [],
   "source": [
    "df['CONTEXT'].value_counts()"
   ]
  },
  {
   "cell_type": "code",
   "execution_count": null,
   "metadata": {},
   "outputs": [],
   "source": [
    "def check_snp_type_gwas(reference, sample):\n",
    "    # Check if it's an SNP (Single-Nucleotide Polymorphism)\n",
    "    if len(reference) == 1 and len(sample) == 1:\n",
    "        if reference != sample:\n",
    "            return \"SNP\"\n",
    "    \n",
    "    # Check if it's an Insertion\n",
    "    elif len(reference) < len(sample):\n",
    "        if reference == sample[:len(reference)]:\n",
    "            return \"Insertion\"\n",
    "    \n",
    "    # Check if it's a Deletion\n",
    "    elif len(reference) > len(sample):\n",
    "        if sample == reference[:len(sample)]:\n",
    "            return \"Deletion\"\n",
    "    \n",
    "    # Check if it's an MNP (Multiple-Nucleotide Polymorphism)\n",
    "    elif len(reference) == len(sample):\n",
    "        if reference != sample:\n",
    "            return \"MNP\"\n",
    "    \n",
    "    # Check if it's a Complex Variation (MIXED: SNP+InDel, or others)\n",
    "    elif len(reference) != len(sample):\n",
    "        return \"Complex Variation\"\n",
    "    \n",
    "    return \"Unknown\"\n",
    "\n",
    "# Example usage:\n",
    "print(check_snp_type_gwas('A', 'C'))           # SNP\n",
    "print(check_snp_type_gwas('A', 'AGT'))         # Insertion\n",
    "print(check_snp_type_gwas('AC', 'C'))          # Deletion\n",
    "print(check_snp_type_gwas('ATA', 'GTC'))       # MNP\n",
    "print(check_snp_type_gwas('ATA', 'GTCAGT'))    # Complex Variation"
   ]
  },
  {
   "cell_type": "code",
   "execution_count": null,
   "metadata": {},
   "outputs": [],
   "source": [
    "df3 = df2.loc[:, ['CHR_POS', 'MAPPED_TRAIT', 'STUDY ACCESSION', 'GENOTYPING TECHNOLOGY']]"
   ]
  },
  {
   "cell_type": "code",
   "execution_count": null,
   "metadata": {},
   "outputs": [],
   "source": [
    "df.columns, df2.columns"
   ]
  },
  {
   "cell_type": "code",
   "execution_count": null,
   "metadata": {},
   "outputs": [],
   "source": [
    "common_columns = list(set(df.columns) & set(df2.columns))"
   ]
  },
  {
   "cell_type": "code",
   "execution_count": null,
   "metadata": {},
   "outputs": [],
   "source": [
    "df.shape"
   ]
  },
  {
   "cell_type": "code",
   "execution_count": null,
   "metadata": {},
   "outputs": [],
   "source": [
    "df2.shape"
   ]
  },
  {
   "cell_type": "code",
   "execution_count": null,
   "metadata": {},
   "outputs": [],
   "source": [
    "df2.shape, df3.shape, df2.shape[0] + df3.shape[0]"
   ]
  },
  {
   "cell_type": "code",
   "execution_count": null,
   "metadata": {},
   "outputs": [],
   "source": [
    "import pandas as pd\n",
    "\n",
    "# Merge on a common key (adjust as needed)\n",
    "df4 = pd.merge(df2, df3, on='CHR_POS', how='inner')\n",
    "\n"
   ]
  },
  {
   "cell_type": "code",
   "execution_count": null,
   "metadata": {},
   "outputs": [],
   "source": [
    "df4.shape"
   ]
  },
  {
   "cell_type": "code",
   "execution_count": null,
   "metadata": {},
   "outputs": [],
   "source": [
    "df4.to_csv('merged_gwas_data_outer.csv', index=False)"
   ]
  },
  {
   "cell_type": "code",
   "execution_count": null,
   "metadata": {},
   "outputs": [],
   "source": [
    "df3.shape"
   ]
  },
  {
   "cell_type": "code",
   "execution_count": null,
   "metadata": {},
   "outputs": [],
   "source": [
    "df3"
   ]
  },
  {
   "cell_type": "code",
   "execution_count": null,
   "metadata": {},
   "outputs": [],
   "source": []
  },
  {
   "cell_type": "code",
   "execution_count": null,
   "metadata": {},
   "outputs": [],
   "source": [
    "df4 = df3.drop(df3[df3['RISK ALLELE FREQUENCY'] == \"NR\"].index)"
   ]
  },
  {
   "cell_type": "code",
   "execution_count": null,
   "metadata": {},
   "outputs": [],
   "source": [
    "df4"
   ]
  },
  {
   "cell_type": "code",
   "execution_count": null,
   "metadata": {},
   "outputs": [],
   "source": [
    "ALLELE = df4['STRONGEST SNP-RISK ALLELE'].str.split('-', expand=True)[1]"
   ]
  },
  {
   "cell_type": "code",
   "execution_count": null,
   "metadata": {},
   "outputs": [],
   "source": [
    "ALLELE.shape"
   ]
  },
  {
   "cell_type": "code",
   "execution_count": null,
   "metadata": {},
   "outputs": [],
   "source": [
    "df4.shape"
   ]
  },
  {
   "cell_type": "code",
   "execution_count": null,
   "metadata": {},
   "outputs": [],
   "source": [
    "df4.insert(20, 'ALLELE', ALLELE)"
   ]
  },
  {
   "cell_type": "code",
   "execution_count": null,
   "metadata": {},
   "outputs": [],
   "source": [
    "df4.columns"
   ]
  },
  {
   "cell_type": "code",
   "execution_count": null,
   "metadata": {},
   "outputs": [],
   "source": [
    "vcf_df = pd.read_csv('data/medaka.annotated.vcf', comment=\"#\", sep=r'\\s+', names=[\"CHROM\", \"POS\", \"ID\", \"REF\", \"ALT\", \"QUAL\", \"FILTER\", \"INFO\", \"FORMAT\", \"SAMPLE\"])"
   ]
  },
  {
   "cell_type": "code",
   "execution_count": null,
   "metadata": {},
   "outputs": [],
   "source": []
  },
  {
   "cell_type": "code",
   "execution_count": null,
   "metadata": {},
   "outputs": [],
   "source": [
    "df4"
   ]
  },
  {
   "cell_type": "code",
   "execution_count": null,
   "metadata": {},
   "outputs": [],
   "source": [
    "df4[df4['CHR_POS'] == 94165]"
   ]
  },
  {
   "cell_type": "code",
   "execution_count": null,
   "metadata": {},
   "outputs": [],
   "source": [
    "vcf_df"
   ]
  },
  {
   "cell_type": "code",
   "execution_count": null,
   "metadata": {},
   "outputs": [],
   "source": [
    "#read vcf file\n",
    "with open(vcf_file, 'r') as f:\n",
    "    lines = f.readlines()\n",
    "    #skip header\n",
    "    for line in lines:\n",
    "        if line.startswith('#CHROM'):\n",
    "            break\n",
    "    #parse the data\n",
    "    data = []\n",
    "    for line in lines:\n",
    "        if not line.startswith('#'):\n",
    "            data.append(line.strip().split('\\t'))\n",
    "            #print the data\n",
    "            printdf['MAPPED_TRAIT_URI(data)\n",
    "            "
   ]
  },
  {
   "cell_type": "code",
   "execution_count": null,
   "metadata": {},
   "outputs": [],
   "source": [
    "import pandas as pd\n",
    "\n",
    "df = pd.read_csv('data/gwas_database.csv')\n"
   ]
  },
  {
   "cell_type": "code",
   "execution_count": null,
   "metadata": {},
   "outputs": [],
   "source": [
    "df['MAPPED_TRAIT_URI']"
   ]
  },
  {
   "cell_type": "code",
   "execution_count": null,
   "metadata": {},
   "outputs": [],
   "source": [
    "from selenium import webdriver\n",
    "from selenium.webdriver.common.by import By\n",
    "\n",
    "# Set up the Safari WebDriver\n",
    "driver = webdriver.Safari()\n",
    "\n",
    "# Open the website\n",
    "url = \"http://www.ebi.ac.uk/efo/EFO_0004761\"\n",
    "driver.get(url)\n",
    "\n",
    "# Wait for the content to load (you can adjust the time if needed)\n",
    "driver.implicitly_wait(5)  # seconds\n",
    "\n",
    "# Find the <p> tag with class 'pb-3' and get the text\n",
    "p_tag = driver.find_element(By.CSS_SELECTOR, \"p.pb-3\")\n",
    "text = p_tag.text\n",
    "\n",
    "print(text)\n",
    "\n",
    "# Close the driver\n",
    "driver.quit()"
   ]
  },
  {
   "cell_type": "code",
   "execution_count": null,
   "metadata": {},
   "outputs": [],
   "source": [
    "!pip3 install webdriver_manager\n"
   ]
  },
  {
   "cell_type": "code",
   "execution_count": null,
   "metadata": {},
   "outputs": [],
   "source": []
  },
  {
   "cell_type": "code",
   "execution_count": null,
   "metadata": {},
   "outputs": [],
   "source": [
    "from selenium import webdriver\n",
    "from selenium.webdriver.common.by import By\n",
    "from selenium.common.exceptions import NoSuchElementException, WebDriverException\n",
    "from tqdm import tqdm\n",
    "import pandas as pd\n",
    "\n",
    "# Load the data\n",
    "df = pd.read_csv('data/gwas_database.csv')\n",
    "\n",
    "url_ = []\n",
    "description = []\n",
    "\n",
    "for i in tqdm(df['MAPPED_TRAIT_URI'].unique()):\n",
    "    if i == 'No URI':\n",
    "        description.append('Description not available')\n",
    "        continue\n",
    "    \n",
    "    try:\n",
    "        # Set up the Safari WebDriver\n",
    "        driver = webdriver.Safari()\n",
    "        driver.get(i)\n",
    "        driver.implicitly_wait(300)  # Wait for the content to load\n",
    "\n",
    "        # Extract the description\n",
    "        p_tag = driver.find_element(By.CSS_SELECTOR, \"p.pb-3\")\n",
    "        text = p_tag.text\n",
    "        \n",
    "        url_.append(i)\n",
    "        description.append(text)\n",
    "    \n",
    "    except NoSuchElementException:\n",
    "        description.append('Description not found')\n",
    "    except WebDriverException:\n",
    "        description.append('WebDriver error occurred')\n",
    "    except Exception as e:\n",
    "        description.append(f'Error: {str(e)}')\n",
    "    \n",
    "    finally:\n",
    "        driver.quit()\n",
    "    \n",
    "# Create a mapping dictionary\n",
    "dict_ = dict(zip(url_, description))\n",
    "\n",
    "# Map the descriptions to the original dataframe\n",
    "df['MAPPED_TRAIT_DESCRIPTION'] = df['MAPPED_TRAIT_URI'].map(dict_)\n",
    "\n",
    "df.to_csv('data/gwas_database_with_description.csv', index=False)\n"
   ]
  },
  {
   "cell_type": "code",
   "execution_count": null,
   "metadata": {},
   "outputs": [],
   "source": [
    "df= pd.read_csv('data/gwas_database.csv')"
   ]
  },
  {
   "cell_type": "code",
   "execution_count": null,
   "metadata": {},
   "outputs": [],
   "source": [
    "df['MAPPED_TRAIT_URI'].unique()[16], df['MAPPED_TRAIT_URI'].unique()[15], df['MAPPED_TRAIT_URI']"
   ]
  },
  {
   "cell_type": "code",
   "execution_count": null,
   "metadata": {},
   "outputs": [],
   "source": [
    "df['MAPPED_TRAIT_URI'].str.split('/').str[-1].str.split('_').str[0].unique()"
   ]
  },
  {
   "cell_type": "code",
   "execution_count": null,
   "metadata": {},
   "outputs": [],
   "source": [
    "for i in ['EFO', 'MONDO', 'GO', 'OBA', 'HP', 'No URI', 'Orphanet', 'NCIT', 'HANCESTRO', 'PATO', 'MP']:\n",
    "\n",
    "    test = df[df['MAPPED_TRAIT_URI'].str.split('/').str[-1].str.split('_').str[0].str.contains(i)]['MAPPED_TRAIT_URI'].reset_index(drop=True)\n",
    "    print(i, test.shape)"
   ]
  },
  {
   "cell_type": "code",
   "execution_count": null,
   "metadata": {},
   "outputs": [],
   "source": [
    "from selenium import webdriver\n",
    "from selenium.webdriver.common.by import By\n",
    "from selenium.common.exceptions import NoSuchElementException, WebDriverException\n",
    "from tqdm import tqdm\n",
    "import pandas as pd\n",
    "\n",
    "\n",
    "url = 'http://purl.obolibrary.org/obo/GO_0097336'\n",
    "\n",
    "OLS = ['EFO', 'MONDO', 'Orphanet']\n",
    "Abigo = ['GO']\n",
    "Ontobee = ['OBA', 'NCIT', 'HANCESTRO', 'PATO', 'MP']\n",
    "HPO = ['HP']\n",
    "\n",
    "\n",
    "driver = webdriver.Safari()\n",
    "driver.get(url)\n",
    "driver.implicitly_wait(300)  # Wait for the content to load\n",
    "if url.split('/')[-1].split('_')[0] in OLS:\n",
    "    print(url.split('/')[-1].split('_')[0])\n",
    "    # Set up the Safari WebDriver\n",
    "    # Extract the description\n",
    "    p_tag = driver.find_element(By.CSS_SELECTOR, \"p.pb-3\")\n",
    "    text = p_tag.text\n",
    "elif url.split('/')[-1].split('_')[0] in Abigo:\n",
    "    print(url.split('/')[-1].split('_')[0])\n",
    "    # Set up the Safari WebDriver\n",
    "    # Extract the description\n",
    "    p_tag = driver.find_element(By.XPATH, \"//meta[@name='description']\").get_attribute(\"content\")\n",
    "    text = p_tag\n",
    "print(text)\n",
    "\n",
    "driver.quit()"
   ]
  },
  {
   "cell_type": "code",
   "execution_count": null,
   "metadata": {},
   "outputs": [],
   "source": [
    "df2 = pd.read_csv('data/gwas_database.csv.gz', compression='gzip')"
   ]
  },
  {
   "cell_type": "code",
   "execution_count": null,
   "metadata": {},
   "outputs": [],
   "source": []
  },
  {
   "cell_type": "code",
   "execution_count": null,
   "metadata": {},
   "outputs": [],
   "source": [
    "import pandas as pd\n",
    "df = pd.read_csv('data/gwas_database.csv')  \n",
    "for i in df['MAPPED_TRAIT_URI'].str.split('/').str[-1].str.split('_').str[0].unique():\n",
    "\n",
    "    print(df[df['MAPPED_TRAIT_URI'].str.split('/').str[-1].str.split('_').str[0].str.contains(i)]['MAPPED_TRAIT_URI'].to_list()[1])"
   ]
  },
  {
   "cell_type": "code",
   "execution_count": null,
   "metadata": {},
   "outputs": [],
   "source": [
    "test"
   ]
  },
  {
   "cell_type": "code",
   "execution_count": null,
   "metadata": {},
   "outputs": [],
   "source": [
    "df[df['MAPPED_TRAIT_URI'].str.split('/').str[-1].str.split('_').str[0].str.contains('EFO')]['MAPPED_TRAIT_URI'][0],\n",
    "df[df['MAPPED_TRAIT_URI'].str.split('/').str[-1].str.split('_').str[0].str.contains('MONDO')]['MAPPED_TRAIT_URI'][11],\n",
    "df[df['MAPPED_TRAIT_URI'].str.split('/').str[-1].str.split('_').str[0].str.contains('GO')]['MAPPED_TRAIT_URI'],"
   ]
  },
  {
   "cell_type": "code",
   "execution_count": null,
   "metadata": {},
   "outputs": [],
   "source": [
    "df[df['MAPPED_TRAIT_URI'].str.contains('www.orpha.net')]"
   ]
  },
  {
   "cell_type": "code",
   "execution_count": null,
   "metadata": {},
   "outputs": [],
   "source": [
    "df['MAPPED_TRAIT_URI'].str.split('/').str[].unique()"
   ]
  },
  {
   "cell_type": "code",
   "execution_count": null,
   "metadata": {},
   "outputs": [],
   "source": [
    "#Create dict url: description\n",
    "description = ['A', 'B', 'C']\n",
    "num = [1, 2, 3]\n",
    "\n",
    "dict_ = dict(zip(num, description))"
   ]
  },
  {
   "cell_type": "code",
   "execution_count": null,
   "metadata": {},
   "outputs": [],
   "source": [
    "dict_"
   ]
  },
  {
   "cell_type": "code",
   "execution_count": null,
   "metadata": {},
   "outputs": [],
   "source": [
    "df['MAPPED_TRAIT_URI'].isnull().sum()"
   ]
  },
  {
   "cell_type": "code",
   "execution_count": null,
   "metadata": {},
   "outputs": [],
   "source": [
    "# Plint blank if df['MAPPED_TRAIT_URI'] is null\n",
    "for i in df['MAPPED_TRAIT_URI'].index:\n",
    "    if pd.isnull(df['MAPPED_TRAIT_URI'][i]):\n",
    "        df['MAPPED_TRAIT_URI'][i] = 'No URI'\n"
   ]
  },
  {
   "cell_type": "code",
   "execution_count": null,
   "metadata": {},
   "outputs": [],
   "source": [
    "df.to_csv('data/gwas_database.csv', index=False)"
   ]
  },
  {
   "cell_type": "code",
   "execution_count": null,
   "metadata": {},
   "outputs": [],
   "source": [
    "df['MAPPED_TRAIT_URI'].value_counts()"
   ]
  },
  {
   "cell_type": "code",
   "execution_count": null,
   "metadata": {},
   "outputs": [],
   "source": [
    "from selenium import webdriver\n",
    "from selenium.webdriver.common.by import By\n",
    "from selenium.common.exceptions import NoSuchElementException, WebDriverException\n",
    "from tqdm import tqdm\n",
    "import pandas as pd\n",
    "\n",
    "# Load the data\n",
    "\n",
    "\n",
    "url_ = []\n",
    "description = []\n",
    "i = 'http://purl.obolibrary.org/obo/HP_0000483'\n",
    "try:\n",
    "    # Set up the Safari WebDriver\n",
    "    driver = webdriver.Safari()\n",
    "    driver.get(i)\n",
    "    driver.implicitly_wait(3)  # Wait for the content to load\n",
    "\n",
    "    # Extract the description\n",
    "    text = driver.find_element(By.XPATH, \"/html/body/app-root/mat-sidenav-container/mat-sidenav-content/div/app-term/div/div/div/div[2]/mat-card/mat-card-content/div/div[2]/p\").text\n",
    "    \n",
    "    url_.append(i)\n",
    "    description.append(text)\n",
    "\n",
    "except NoSuchElementException:\n",
    "    description.append('Description not found')\n",
    "except WebDriverException:\n",
    "    description.append('WebDriver error occurred')\n",
    "except Exception as e:\n",
    "    description.append(f'Error: {str(e)}')\n",
    "\n",
    "finally:\n",
    "    driver.quit()\n",
    "    \n",
    "print(description)"
   ]
  },
  {
   "cell_type": "code",
   "execution_count": null,
   "metadata": {},
   "outputs": [],
   "source": [
    "from selenium import webdriver\n",
    "from selenium.webdriver.common.by import By\n",
    "from selenium.common.exceptions import NoSuchElementException, WebDriverException\n",
    "from tqdm import tqdm\n",
    "import pandas as pd\n",
    "\n",
    "# Load the data\n",
    "\n",
    "\n",
    "url_ = []\n",
    "description = []\n",
    "i = 'http://purl.obolibrary.org/obo/GO_0097336'\n",
    "try:\n",
    "    # Set up the Safari WebDriver\n",
    "    driver = webdriver.Safari()\n",
    "    driver.get(i)\n",
    "    driver.implicitly_wait(3)  # Wait for the content to load\n",
    "\n",
    "    # Extract the description\n",
    "    text = driver.find_element(By.XPATH, \"//dt[contains(text(), 'Definition')]/following-sibling::dd\").text\n",
    "    \n",
    "    url_.append(i)\n",
    "    description.append(text)\n",
    "\n",
    "except NoSuchElementException:\n",
    "    description.append('Description not found')\n",
    "except WebDriverException:\n",
    "    description.append('WebDriver error occurred')\n",
    "except Exception as e:\n",
    "    description.append(f'Error: {str(e)}')\n",
    "\n",
    "finally:\n",
    "    driver.quit()\n",
    "    \n",
    "print(description)"
   ]
  },
  {
   "cell_type": "code",
   "execution_count": null,
   "metadata": {},
   "outputs": [],
   "source": [
    "df2 = pd.read_csv('data/gwas_database.csv.gz', compression='gzip', low_memory=False)"
   ]
  },
  {
   "cell_type": "code",
   "execution_count": null,
   "metadata": {},
   "outputs": [],
   "source": [
    "df2['CHR_POS']"
   ]
  },
  {
   "cell_type": "code",
   "execution_count": null,
   "metadata": {},
   "outputs": [],
   "source": [
    "text.split('\\n')[0]"
   ]
  },
  {
   "cell_type": "code",
   "execution_count": null,
   "metadata": {},
   "outputs": [],
   "source": [
    "df = pd.read_csv('data/gwas_database.csv.gz', compression='gzip')"
   ]
  },
  {
   "cell_type": "code",
   "execution_count": null,
   "metadata": {},
   "outputs": [],
   "source": [
    "df['MAPPED_TRAIT_URI'].value_counts().to_clipboard()"
   ]
  },
  {
   "cell_type": "code",
   "execution_count": null,
   "metadata": {},
   "outputs": [],
   "source": [
    "df = pd.read_csv('data/gwas_database_with_description.csv.gz', compression='gzip')"
   ]
  },
  {
   "cell_type": "code",
   "execution_count": null,
   "metadata": {},
   "outputs": [],
   "source": [
    "df['MAPPED_TRAIT_DESCRIPTION'].value_counts()"
   ]
  },
  {
   "cell_type": "code",
   "execution_count": null,
   "metadata": {},
   "outputs": [],
   "source": [
    "ols = ['EFO', 'MONDO', 'Orphanet']\n",
    "amigo = ['GO']\n",
    "ontobee = ['OBA', 'NCIT', 'HANCESTRO', 'PATO', 'MP']\n",
    "hpo = ['HP']\n"
   ]
  },
  {
   "cell_type": "code",
   "execution_count": null,
   "metadata": {},
   "outputs": [],
   "source": [
    "df['MAPPED_TRAIT_URI'][0].split('/')[-1].split('_')[0]"
   ]
  },
  {
   "cell_type": "code",
   "execution_count": null,
   "metadata": {},
   "outputs": [],
   "source": [
    "df['MAPPED_TRAIT_URI'].unique()[0].split('/')[-1].split('_')[0]"
   ]
  },
  {
   "cell_type": "code",
   "execution_count": null,
   "metadata": {},
   "outputs": [],
   "source": []
  },
  {
   "cell_type": "code",
   "execution_count": null,
   "metadata": {},
   "outputs": [],
   "source": [
    "df2 = pd.read_csv('data/gwas_database_with_description.csv.gz', compression='gzip')"
   ]
  },
  {
   "cell_type": "code",
   "execution_count": null,
   "metadata": {},
   "outputs": [],
   "source": []
  },
  {
   "cell_type": "code",
   "execution_count": null,
   "metadata": {},
   "outputs": [],
   "source": [
    "import pandas as pd\n",
    "df = pd.read_csv('data/gwas_database.csv.gz', compression='gzip')  \n",
    "for i in df['MAPPED_TRAIT_URI'].str.split('/').str[-1].str.split('_').str[0].unique():\n",
    "\n",
    "    print(df[df['MAPPED_TRAIT_URI'].str.split('/').str[-1].str.split('_').str[0].str.contains(i)]['MAPPED_TRAIT_URI'].to_list()[1])"
   ]
  },
  {
   "cell_type": "code",
   "execution_count": null,
   "metadata": {},
   "outputs": [],
   "source": [
    "from selenium import webdriver\n",
    "from selenium.webdriver.common.by import By\n",
    "from selenium.webdriver.support.ui import WebDriverWait\n",
    "from selenium.webdriver.support import expected_conditions as EC\n",
    "\n",
    "# Set up the Safari WebDriver\n",
    "driver = webdriver.Safari()\n",
    "\n",
    "# Open the target webpage\n",
    "url = \"https://ontobee.org/ontology/NCIT?iri=http://purl.obolibrary.org/obo/NCIT_C117245\"\n",
    "driver.get(url)\n",
    "\n",
    "try:\n",
    "    # Wait until the definition container is loaded\n",
    "    definition_element = WebDriverWait(driver, 10).until(\n",
    "        EC.presence_of_element_located((By.XPATH, \"//*[@id='mainbody']/div[2]\"))  # Adjust XPath if necessary\n",
    "    )\n",
    "\n",
    "    # Extract the definition text\n",
    "    definition_text = definition_element.text\n",
    "    print(\"Definition:\", definition_text)\n",
    "\n",
    "except Exception as e:\n",
    "    print(\"Error:\", e)\n",
    "\n",
    "finally:\n",
    "    # Close the browser\n",
    "    driver.quit()"
   ]
  },
  {
   "cell_type": "code",
   "execution_count": null,
   "metadata": {},
   "outputs": [],
   "source": [
    "from selenium import webdriver\n",
    "from selenium.webdriver.common.by import By\n",
    "from selenium.webdriver.support.ui import WebDriverWait\n",
    "from selenium.webdriver.support import expected_conditions as EC\n",
    "# Open the target webpage\n",
    "url = \"https://hpo.jax.org/browse/term/HP:0000483\"  # Replace with the actual URL\n",
    "#driver.get(url)\n",
    "\n",
    "from selenium import webdriver\n",
    "from selenium.webdriver.common.by import By\n",
    "from selenium.webdriver.support.ui import WebDriverWait\n",
    "from selenium.webdriver.support import expected_conditions as EC\n",
    "\n",
    "# Set up the Selenium WebDriver\n",
    "driver = webdriver.Safari()  # Ensure your browser driver is correctly set up\n",
    "\n",
    "\n",
    "driver.get(url)\n",
    "\n",
    "try:\n",
    "    # Wait for the parent div and locate the <p> tag inside it\n",
    "    description_element = WebDriverWait(driver, 10).until(\n",
    "        EC.presence_of_element_located((By.XPATH, \"/html/body/app-root/mat-sidenav-container/mat-sidenav-content/div/app-term/div/div/div/div[2]/mat-card/mat-card-content/div/div[2]/p\"))\n",
    "    )\n",
    "\n",
    "    # Extract the text content from the <p> tag\n",
    "    description_text = description_element.text\n",
    "    print(\"Description:\", description_text)\n",
    "except Exception as e:\n",
    "    print(\"Error:\", e)\n",
    "finally:\n",
    "    # Close the browser\n",
    "    driver.quit()\n",
    "    "
   ]
  },
  {
   "cell_type": "code",
   "execution_count": null,
   "metadata": {},
   "outputs": [],
   "source": [
    "import pandas as pd\n",
    "\n",
    "df = pd.read_csv('data/gwas_database_with_description.csv.gz', compression='gzip')"
   ]
  },
  {
   "cell_type": "code",
   "execution_count": null,
   "metadata": {},
   "outputs": [],
   "source": [
    "set(df['MAPPED_TRAIT_URI'].dropna())"
   ]
  },
  {
   "cell_type": "code",
   "execution_count": null,
   "metadata": {},
   "outputs": [],
   "source": [
    "from selenium import webdriver\n",
    "from selenium.webdriver.common.by import By\n",
    "from selenium.common.exceptions import NoSuchElementException, WebDriverException\n",
    "from tqdm import tqdm\n",
    "import pandas as pd\n",
    "\n",
    "url = 'http://purl.obolibrary.org/obo/NCIT_C117245'\n",
    "    # Set up the Safari WebDriver\n",
    "driver = webdriver.Safari()\n",
    "driver.get(url)\n",
    "driver.implicitly_wait(300)  # Wait for the content to load\n",
    "\n",
    "# Extract the description\n",
    "p_tag = driver.find_element(By.XPATH, \"//div[@class='def']//span[@class='label'][contains(text(), 'Definition:')]\")\n",
    "text = p_tag.text\n",
    "\n",
    "print(text)\n",
    "\n",
    "\n",
    "driver.quit()\n",
    "\n"
   ]
  },
  {
   "cell_type": "code",
   "execution_count": null,
   "metadata": {},
   "outputs": [],
   "source": [
    "\n",
    "import pandas as pd\n",
    "df = pd.read_csv('data/gwas_database.csv.gz', compression='gzip', low_memory=False)  "
   ]
  },
  {
   "cell_type": "code",
   "execution_count": null,
   "metadata": {},
   "outputs": [],
   "source": [
    "df['MAPPED_TRAIT_URI'].str.split('/').str[-1].str.split('_').str[0].value_counts()"
   ]
  },
  {
   "cell_type": "code",
   "execution_count": null,
   "metadata": {},
   "outputs": [],
   "source": [
    "import pandas as pd\n",
    "df2 = pd.read_csv('data/gwas_database_with_description.csv.gz', compression='gzip', low_memory=False)"
   ]
  },
  {
   "cell_type": "code",
   "execution_count": null,
   "metadata": {},
   "outputs": [],
   "source": [
    "df2['MAPPED_TRAIT_DESCRIPTION'].value_counts().to_csv('data/gwas_description_counts.csv')"
   ]
  },
  {
   "cell_type": "code",
   "execution_count": null,
   "metadata": {},
   "outputs": [],
   "source": [
    "# Create list of 'Ontology not covered', 'Description not available', 'Description not found', 'WebDriver error occurred', 'Error fetching description' and NaN\n",
    "list_of_reprocess = ['Ontology not covered', 'Description not available', 'Description not found', 'WebDriver error occurred', 'Error fetching description']\n",
    "\n",
    "\n",
    "df2[df2['MAPPED_TRAIT_DESCRIPTION'].isin(list_of_reprocess) | df2['MAPPED_TRAIT_DESCRIPTION'].isnull()]['MAPPED_TRAIT_DESCRIPTION'].value_counts()"
   ]
  },
  {
   "cell_type": "code",
   "execution_count": null,
   "metadata": {},
   "outputs": [],
   "source": [
    "# Create list of 'Ontology not covered', 'Description not available', 'Description not found', 'WebDriver error occurred', 'Error fetching description' and NaN\n",
    "list_of_reprocess = ['Ontology not covered', 'Description not available', 'Description not found', 'WebDriver error occurred', 'Error fetching description']\n",
    "\n",
    "\n",
    "#df2[df2['MAPPED_TRAIT_DESCRIPTION'].isin(list_of_reprocess) | df2['MAPPED_TRAIT_DESCRIPTION'].isnull()]['MAPPED_TRAIT_DESCRIPTION'].value_counts()\n",
    "# qhat if is not in the list\n",
    "df2[~df2['MAPPED_TRAIT_DESCRIPTION'].isin(list_of_reprocess) | df2['MAPPED_TRAIT_DESCRIPTION'].notnull()]['MAPPED_TRAIT_DESCRIPTION'].value_counts().sum()"
   ]
  },
  {
   "cell_type": "code",
   "execution_count": 9,
   "metadata": {},
   "outputs": [],
   "source": [
    "import pandas as pd\n",
    "df2 = pd.read_csv('data/gwas_database_with_description.csv.gz', compression='gzip', low_memory=False)  "
   ]
  },
  {
   "cell_type": "code",
   "execution_count": 10,
   "metadata": {},
   "outputs": [
    {
     "data": {
      "text/plain": [
       "MAPPED_TRAIT_DESCRIPTION\n",
       "Ontology not covered         20000\n",
       "Description not available    10369\n",
       "Description not found         7036\n",
       "WebDriver error occurred      4132\n",
       "Name: count, dtype: int64"
      ]
     },
     "execution_count": 10,
     "metadata": {},
     "output_type": "execute_result"
    }
   ],
   "source": [
    "# Create list of 'Ontology not covered', 'Description not available', 'Description not found', 'WebDriver error occurred', 'Error fetching description' and NaN\n",
    "list_of_reprocess = ['Ontology not covered', 'Description not available', 'Description not found', 'WebDriver error occurred', 'Error fetching description']\n",
    "\n",
    "\n",
    "df2[df2['MAPPED_TRAIT_DESCRIPTION'].isin(list_of_reprocess) | df2['MAPPED_TRAIT_DESCRIPTION'].isnull()]['MAPPED_TRAIT_DESCRIPTION'].value_counts()"
   ]
  },
  {
   "cell_type": "code",
   "execution_count": 11,
   "metadata": {},
   "outputs": [
    {
     "data": {
      "text/plain": [
       "716876"
      ]
     },
     "execution_count": 11,
     "metadata": {},
     "output_type": "execute_result"
    }
   ],
   "source": [
    "# Create list of 'Ontology not covered', 'Description not available', 'Description not found', 'WebDriver error occurred', 'Error fetching description' and NaN\n",
    "list_of_reprocess = ['Ontology not covered', 'Description not available', 'Description not found', 'WebDriver error occurred', 'Error fetching description']\n",
    "\n",
    "\n",
    "#df2[df2['MAPPED_TRAIT_DESCRIPTION'].isin(list_of_reprocess) | df2['MAPPED_TRAIT_DESCRIPTION'].isnull()]['MAPPED_TRAIT_DESCRIPTION'].value_counts()\n",
    "# qhat if is not in the list\n",
    "df2[~df2['MAPPED_TRAIT_DESCRIPTION'].isin(list_of_reprocess) | df2['MAPPED_TRAIT_DESCRIPTION'].notnull()]['MAPPED_TRAIT_DESCRIPTION'].value_counts().sum()"
   ]
  },
  {
   "cell_type": "code",
   "execution_count": null,
   "metadata": {},
   "outputs": [],
   "source": [
    "df2['MAPPED_TRAIT_DESCRIPTION'].isnull().sum()"
   ]
  },
  {
   "cell_type": "code",
   "execution_count": null,
   "metadata": {},
   "outputs": [],
   "source": [
    "df2['MAPPED_TRAIT_DESCRIPTION'].to_csv('data/gwas_description.csv')"
   ]
  },
  {
   "cell_type": "code",
   "execution_count": null,
   "metadata": {},
   "outputs": [],
   "source": [
    "df2[df2['MAPPED_TRAIT_DESCRIPTION'] == 'Description not found']['MAPPED_TRAIT_URI'].to_csv('data/Description_not_found.csv', index=False)"
   ]
  },
  {
   "cell_type": "code",
   "execution_count": null,
   "metadata": {},
   "outputs": [],
   "source": [
    "df2['MAPPED_TRAIT_DESCRIPTION'].isnull().sum()"
   ]
  },
  {
   "cell_type": "code",
   "execution_count": null,
   "metadata": {},
   "outputs": [],
   "source": [
    "for i in df['MAPPED_TRAIT_URI'].str.split('/').str[-1].str.split('_').str[0].unique():\n",
    "\n",
    "    print(df[df['MAPPED_TRAIT_URI'].str.split('/').str[-1].str.split('_').str[0].str.contains(i)]['MAPPED_TRAIT_URI'].to_list()[1])\n"
   ]
  },
  {
   "cell_type": "code",
   "execution_count": null,
   "metadata": {},
   "outputs": [],
   "source": [
    "df[df['MAPPED_TRAIT_URI'].str.split('/').str[-1].str.split('_').str[0].str.contains('NCIT')]['MAPPED_TRAIT_URI']"
   ]
  },
  {
   "cell_type": "code",
   "execution_count": null,
   "metadata": {},
   "outputs": [],
   "source": [
    "for index, x in enumerate(df2['MAPPED_TRAIT_URI'].dropna().unique()):\n",
    "    if df2['MAPPED_TRAIT_DESCRIPTION'][index] in list_of_reprocess:\n",
    "        "
   ]
  },
  {
   "cell_type": "code",
   "execution_count": null,
   "metadata": {},
   "outputs": [],
   "source": [
    "len(df2.loc[55520, 'MAPPED_TRAIT_URI'].split(','))"
   ]
  },
  {
   "cell_type": "code",
   "execution_count": null,
   "metadata": {},
   "outputs": [],
   "source": [
    "vcf = pd.read_csv('data/medaka.annotated.vcf', comment=\"#\", sep=r'\\s+', names=[\"CHROM\", \"POS\", \"ID\", \"REF\", \"ALT\", \"QUAL\", \"FILTER\", \"INFO\", \"FORMAT\", \"SAMPLE\"])"
   ]
  },
  {
   "cell_type": "code",
   "execution_count": null,
   "metadata": {},
   "outputs": [],
   "source": [
    "# Function to classify variant type\n",
    "def classify_variant(ref, alt):\n",
    "    ref_len = len(ref)\n",
    "    alt_len = len(alt)\n",
    "\n",
    "    if ref_len == 1 and alt_len == 1:\n",
    "        return \"SNPs\"\n",
    "    elif ref_len < alt_len:\n",
    "        return \"Insertion\"\n",
    "    elif ref_len > alt_len:\n",
    "        return \"Deletion\"\n",
    "    elif ref_len == alt_len and ref != alt:\n",
    "        return \"MNPs\"\n",
    "    else:\n",
    "        return \"Complex Variation\"\n",
    "\n",
    "# Apply classification to the DataFrame\n",
    "vcf[\"TYPE\"] = vcf.apply(lambda row: classify_variant(row[\"REF\"], row[\"ALT\"]), axis=1)\n",
    "\n",
    "# Count occurrences of each variant type\n",
    "variant_counts = vcf[\"Variant_Type\"].value_counts()\n",
    "variant_counts"
   ]
  },
  {
   "cell_type": "code",
   "execution_count": null,
   "metadata": {},
   "outputs": [],
   "source": [
    "vcf"
   ]
  },
  {
   "cell_type": "code",
   "execution_count": null,
   "metadata": {},
   "outputs": [],
   "source": [
    "df2[['CHR_ID','CHR_POS']].sort_values(by='CHR_POS').to_csv('data/CHR_POS.csv', index=False)"
   ]
  },
  {
   "cell_type": "code",
   "execution_count": null,
   "metadata": {},
   "outputs": [],
   "source": [
    "#Normalise the chromosome ID\n",
    "df2['CHR_ID'].str.split(' ')[0]"
   ]
  },
  {
   "cell_type": "code",
   "execution_count": null,
   "metadata": {},
   "outputs": [],
   "source": [
    "df2['CHR_ID'].value_counts().to_csv('data/CHR_ID_counts.csv')"
   ]
  },
  {
   "cell_type": "code",
   "execution_count": null,
   "metadata": {},
   "outputs": [],
   "source": [
    "#Check SNPs, Insertions, Deletions, MNPs, Complex Variations\n",
    "snps = []\n",
    "insertions = []\n",
    "deletions = []\n",
    "mnp = []\n",
    "complex_variations = []\n",
    "for record in vcf_reader:\n",
    "    for info in record.INFO:\n",
    "        if info.startswith('SNP'):\n",
    "            snps.append(info)\n",
    "        elif info.startswith('Insertion'):\n",
    "            insertions.append(info)\n",
    "        elif info.startswith('Deletion'):\n",
    "            deletions.append(info)\n",
    "        elif info.startswith('MNP'):\n",
    "            mnp.append(info)\n",
    "        else:\n",
    "            complex_variations.append(info)\n",
    "print(\"SNPs:\", len(snps))\n",
    "print(\"Insertions:\", len(insertions))\n",
    "print(\"Deletions:\", len(deletions))\n",
    "print(\"MNPs:\", len(mnp))\n",
    "print(\"Complex Variations:\", len(complex_variations))\n",
    "            \n",
    "            "
   ]
  },
  {
   "cell_type": "code",
   "execution_count": null,
   "metadata": {},
   "outputs": [],
   "source": [
    "import pandas as pd\n",
    "import plotly.graph_objects as go\n",
    "import numpy as np\n",
    "\n",
    "# Load data\n",
    "data = pd.DataFrame({\n",
    "    \"CHROM\": [\"chr1\"]*5,\n",
    "    \"POS\": [94163, 94165, 94323, 94334, 94537],\n",
    "    \"REF\": [\"C\", \"A\", \"C\", \"TT\", \"A\"],\n",
    "    \"ALT\": [\"G\", \"AAG\", \"AT\", \"CA\", \"G\"]\n",
    "})\n",
    "\n",
    "# Classify mutations\n",
    "def classify_variant(ref, alt):\n",
    "    if len(ref) == len(alt) == 1:\n",
    "        return \"SNP\"\n",
    "    elif len(ref) < len(alt):\n",
    "        return \"Insertion\"\n",
    "    elif len(ref) > len(alt):\n",
    "        return \"Deletion\"\n",
    "    else:\n",
    "        return \"MNP\"\n",
    "\n",
    "data[\"Type\"] = data.apply(lambda row: classify_variant(row[\"REF\"], row[\"ALT\"]), axis=1)\n",
    "\n",
    "# Assign colors\n",
    "colors = {\"SNP\": \"blue\", \"Insertion\": \"green\", \"Deletion\": \"red\", \"MNP\": \"purple\"}\n",
    "\n",
    "# Convert positions to angles for circular layout\n",
    "num_variants = len(data)\n",
    "angles = np.linspace(0, 360, num_variants, endpoint=False)\n",
    "angles_rad = np.radians(angles)\n",
    "radius = 1\n",
    "\n",
    "# Compute x and y positions\n",
    "x = radius * np.cos(angles_rad)\n",
    "y = radius * np.sin(angles_rad)\n",
    "\n",
    "# Create circular plot\n",
    "fig = go.Figure()\n",
    "\n",
    "for variant_type in colors.keys():\n",
    "    mask = data[\"Type\"] == variant_type\n",
    "    fig.add_trace(go.Scatter(\n",
    "        x=x[mask], y=y[mask],\n",
    "        mode='markers+text',\n",
    "        marker=dict(size=12, color=colors[variant_type]),\n",
    "        text=data[\"Type\"][mask],\n",
    "        textposition=\"top center\",\n",
    "        name=variant_type\n",
    "    ))\n",
    "\n",
    "# Draw circular boundary\n",
    "circle_angles = np.linspace(0, 2*np.pi, 100)\n",
    "fig.add_trace(go.Scatter(\n",
    "    x=radius * np.cos(circle_angles),\n",
    "    y=radius * np.sin(circle_angles),\n",
    "    mode='lines', line=dict(color='black', width=2),\n",
    "    showlegend=False\n",
    "))\n",
    "\n",
    "# Adjust layout\n",
    "fig.update_layout(\n",
    "    title=\"Circular Genomic Variants Plot\",\n",
    "    xaxis=dict(showgrid=False, zeroline=False, visible=False),\n",
    "    yaxis=dict(showgrid=False, zeroline=False, visible=False),\n",
    "    showlegend=True,\n",
    "    width=600, height=600\n",
    ")\n",
    "\n",
    "fig.show()"
   ]
  },
  {
   "cell_type": "code",
   "execution_count": null,
   "metadata": {},
   "outputs": [],
   "source": [
    "import matplotlib.pyplot as plt\n",
    "import numpy as np\n",
    "\n",
    "# Generate random positions\n",
    "num_points = 20\n",
    "angles = np.linspace(0, 2 * np.pi, num_points, endpoint=False)\n",
    "radius = 1  # Circle radius\n",
    "\n",
    "mutation_types = [\"SNP\", \"Insertion\", \"Deletion\", \"MNP\"]\n",
    "colors = {\"SNP\": \"blue\", \"Insertion\": \"green\", \"Deletion\": \"red\", \"MNP\": \"purple\"}\n",
    "mutations = np.random.choice(mutation_types, num_points)\n",
    "\n",
    "fig, ax = plt.subplots(figsize=(6, 6), subplot_kw={'projection': 'polar'})\n",
    "\n",
    "# Plot mutations\n",
    "for i, angle in enumerate(angles):\n",
    "    ax.scatter(angle, radius, color=colors[mutations[i]], label=mutations[i] if i == 0 else \"\")\n",
    "\n",
    "# Add circular boundary\n",
    "ax.set_ylim(0, radius + 0.1)\n",
    "ax.set_xticks([])\n",
    "ax.set_yticks([])\n",
    "\n",
    "plt.title(\"Circular Mutation Plot\")\n",
    "plt.legend()\n",
    "plt.show()"
   ]
  },
  {
   "cell_type": "code",
   "execution_count": null,
   "metadata": {},
   "outputs": [],
   "source": [
    "import pandas as pd\n",
    "\n",
    "df2 = pd.read_csv('data/gwas_database_with_description.csv.gz', compression='gzip', low_memory=False)"
   ]
  },
  {
   "cell_type": "code",
   "execution_count": null,
   "metadata": {},
   "outputs": [],
   "source": [
    "df2['CHR_POS'].isna().sum()"
   ]
  },
  {
   "cell_type": "code",
   "execution_count": null,
   "metadata": {},
   "outputs": [],
   "source": [
    "df2.dropna(subset=['CHR_POS'], inplace=True)"
   ]
  },
  {
   "cell_type": "code",
   "execution_count": null,
   "metadata": {},
   "outputs": [],
   "source": [
    "df2.shape"
   ]
  },
  {
   "cell_type": "code",
   "execution_count": null,
   "metadata": {},
   "outputs": [],
   "source": [
    "df2[['CHR_ID', 'CHR_POS']].to_csv('data/CHR_POS.csv', index=False)"
   ]
  },
  {
   "cell_type": "code",
   "execution_count": null,
   "metadata": {},
   "outputs": [],
   "source": [
    "import pandas as pd\n",
    "\n",
    "\n",
    "# Function to split and expand rows\n",
    "def expand_rows(df):\n",
    "    expanded_rows = []\n",
    "    \n",
    "    for index, row in df.iterrows():\n",
    "        # Ensure 'CHR_POS' is treated as a string\n",
    "        chr_pos = str(row['CHR_POS'])\n",
    "        \n",
    "        # Split 'CHR_POS' by ';' or 'x' (adjust separator as needed)\n",
    "        positions = chr_pos.replace(' x ', ';').split(';')\n",
    "        \n",
    "        # Create a new row for each position and duplicate the other values\n",
    "        for pos in positions:\n",
    "            new_row = row.copy()\n",
    "            new_row['CHR_POS'] = pos\n",
    "            expanded_rows.append(new_row)\n",
    "            \n",
    "            print(new_row)\n",
    "    \n",
    "    # Create a new DataFrame from the expanded rows\n",
    "    return pd.DataFrame(expanded_rows)\n"
   ]
  },
  {
   "cell_type": "code",
   "execution_count": null,
   "metadata": {},
   "outputs": [],
   "source": [
    "expand_df = expand_rows(df2)"
   ]
  },
  {
   "cell_type": "code",
   "execution_count": null,
   "metadata": {},
   "outputs": [],
   "source": [
    "expand_df"
   ]
  },
  {
   "cell_type": "code",
   "execution_count": null,
   "metadata": {},
   "outputs": [],
   "source": [
    "expand_df[['CHR_ID', 'CHR_POS']].to_csv('data/CHR_POS.csv', index=False)"
   ]
  },
  {
   "cell_type": "code",
   "execution_count": null,
   "metadata": {},
   "outputs": [],
   "source": [
    "#Print CHR_POS if can't be int\n",
    "print(expand_df[expand_df['CHR_POS'].apply(lambda x: isinstance(x, int))])\n",
    "#Print CHR_POS if can't be int\n",
    "#expand_df['CHR_POS'] = expand_df['CHR_POS'].apply(lambda x: int(x) if x.isdigit() else x)\n"
   ]
  },
  {
   "cell_type": "code",
   "execution_count": null,
   "metadata": {},
   "outputs": [],
   "source": [
    "# Ensure CHR_ID is treated as a string before checking for ';'\n",
    "expand_df['CHR_ID'] = expand_df['CHR_ID'].apply(lambda x: str(x).split(';')[0] if ';' in str(x) else x)"
   ]
  },
  {
   "cell_type": "code",
   "execution_count": null,
   "metadata": {},
   "outputs": [],
   "source": [
    "expand_df[['CHR_ID', 'CHR_POS']].to_csv('data/CHR_POS.csv', index=False)"
   ]
  },
  {
   "cell_type": "code",
   "execution_count": null,
   "metadata": {},
   "outputs": [],
   "source": [
    "# Iterate through the 'CHR_ID' column using .iloc to access rows by position\n",
    "for i in range(1, len(expand_df)):\n",
    "    # Use .iloc[] for positional indexing to avoid issues with custom indices\n",
    "    current_chr_id = str(expand_df.iloc[i]['CHR_ID'])\n",
    "    previous_chr_id = str(expand_df.iloc[i - 1]['CHR_ID'])\n",
    "    \n",
    "    if ' x ' in current_chr_id and current_chr_id.split(' x ')[0] == previous_chr_id:\n",
    "        # Split the 'CHR_ID' on ' x ' and keep the second value for the current row\n",
    "        expand_df.iloc[i, expand_df.columns.get_loc('CHR_ID')] = current_chr_id.split(' x ')[1]\n",
    "\n",
    "# Ensure the first row keeps the original 'CHR_ID' value\n",
    "expand_df['CHR_ID'] = expand_df['CHR_ID'].apply(lambda x: str(x).split(' x ')[0] if ' x ' in str(x) else x)"
   ]
  },
  {
   "cell_type": "code",
   "execution_count": null,
   "metadata": {},
   "outputs": [],
   "source": [
    "expand_df['CHR_ID'] = expand_df['CHR_ID'].str.replace('.0', '')\n",
    "#Add prefix\n",
    "expand_df['CHR_ID'] = 'chr' + expand_df['CHR_ID'].astype(str)\n"
   ]
  },
  {
   "cell_type": "code",
   "execution_count": null,
   "metadata": {},
   "outputs": [],
   "source": [
    "expand_df['CHR_ID'].value_counts().sort_index()"
   ]
  },
  {
   "cell_type": "code",
   "execution_count": null,
   "metadata": {},
   "outputs": [],
   "source": [
    "expand_df.shape, df2.shape"
   ]
  },
  {
   "cell_type": "code",
   "execution_count": null,
   "metadata": {},
   "outputs": [],
   "source": [
    "nan_ = []\n",
    "for i in expand_df['CHR_ID']:\n",
    "    if i == 'nan':\n",
    "        nan_.append(i)"
   ]
  },
  {
   "cell_type": "code",
   "execution_count": null,
   "metadata": {},
   "outputs": [],
   "source": [
    "expand_df[['CHR_ID', 'CHR_POS']].to_csv('data/CHR_POS.csv', index=False)"
   ]
  },
  {
   "cell_type": "code",
   "execution_count": null,
   "metadata": {},
   "outputs": [],
   "source": [
    "#drop row nan in CHR_ID\n",
    "expand_df = expand_df.drop(expand_df[expand_df['CHR_POS'] == 'nan'].index)"
   ]
  },
  {
   "cell_type": "code",
   "execution_count": null,
   "metadata": {},
   "outputs": [],
   "source": [
    "expand_df['CHR_POS'].value_counts()"
   ]
  },
  {
   "cell_type": "code",
   "execution_count": null,
   "metadata": {},
   "outputs": [],
   "source": [
    "expand_df['CHR_ID'].value_counts()"
   ]
  },
  {
   "cell_type": "code",
   "execution_count": null,
   "metadata": {},
   "outputs": [],
   "source": [
    "expand_df['CHR_POS'] = expand_df['CHR_POS'].apply(lambda x: int(x) if isinstance(x, str) and x.isdigit() else x)\n"
   ]
  },
  {
   "cell_type": "code",
   "execution_count": null,
   "metadata": {},
   "outputs": [],
   "source": [
    "expand_df['CHR_POS'] = pd.to_numeric(expand_df['CHR_POS'], errors='coerce').fillna(0).astype(int)\n"
   ]
  },
  {
   "cell_type": "code",
   "execution_count": null,
   "metadata": {},
   "outputs": [],
   "source": [
    "expand_df['CHR_POS'].value_counts()"
   ]
  },
  {
   "cell_type": "code",
   "execution_count": null,
   "metadata": {},
   "outputs": [],
   "source": []
  },
  {
   "cell_type": "code",
   "execution_count": null,
   "metadata": {},
   "outputs": [],
   "source": [
    "import pandas as pd\n",
    "\n",
    "\n",
    "df = pd.read_csv('data/gwas_database_with_description.csv.gz', compression='gzip', low_memory=False)"
   ]
  },
  {
   "cell_type": "code",
   "execution_count": null,
   "metadata": {},
   "outputs": [],
   "source": [
    "df2 = df\n",
    "# Create list of 'Ontology not covered', 'Description not available', 'Description not found', 'WebDriver error occurred', 'Error fetching description' and NaN\n",
    "list_of_reprocess = ['Ontology not covered', 'Description not available', 'Description not found', 'WebDriver error occurred', 'Error fetching description']\n",
    "\n",
    "\n",
    "reprocess = df2[df2['MAPPED_TRAIT_DESCRIPTION'].isin(list_of_reprocess) | df2['MAPPED_TRAIT_DESCRIPTION'].isnull()]['MAPPED_TRAIT_DESCRIPTION'].value_counts()\n",
    "\n",
    "\n",
    "# Create list of 'Ontology not covered', 'Description not available', 'Description not found', 'WebDriver error occurred', 'Error fetching description' and NaN\n",
    "list_of_reprocess = ['Ontology not covered', 'Description not available', 'Description not found', 'WebDriver error occurred', 'Error fetching description']\n",
    "\n",
    "\n",
    "#df2[df2['MAPPED_TRAIT_DESCRIPTION'].isin(list_of_reprocess) | df2['MAPPED_TRAIT_DESCRIPTION'].isnull()]['MAPPED_TRAIT_DESCRIPTION'].value_counts()\n",
    "# qhat if is not in the list\n",
    "done = df2[~df2['MAPPED_TRAIT_DESCRIPTION'].isin(list_of_reprocess) | df2['MAPPED_TRAIT_DESCRIPTION'].notnull()]['MAPPED_TRAIT_DESCRIPTION'].value_counts().sum()"
   ]
  },
  {
   "cell_type": "code",
   "execution_count": null,
   "metadata": {},
   "outputs": [],
   "source": [
    "reprocess"
   ]
  },
  {
   "cell_type": "code",
   "execution_count": null,
   "metadata": {},
   "outputs": [],
   "source": [
    "done"
   ]
  },
  {
   "cell_type": "code",
   "execution_count": null,
   "metadata": {},
   "outputs": [],
   "source": [
    "import pandas as pd\n",
    "\n",
    "def expand_rows(df):\n",
    "    # Ensure 'CHR_POS' is treated as a string and expand it\n",
    "    df['CHR_POS'] = df['CHR_POS'].astype(str).str.replace(' x ', ';')\n",
    "    expanded_df = df.assign(CHR_POS=df['CHR_POS'].str.split(';')).explode('CHR_POS')\n",
    "    \n",
    "    return expanded_df\n",
    "\n",
    "def process_chromosome_ids(df):\n",
    "    # Ensure 'CHR_ID' is a string and handle ';' separator\n",
    "    df['CHR_ID'] = df['CHR_ID'].astype(str).str.split(';').str[0]\n",
    "    \n",
    "    # Ensure consistent formatting for 'CHR_ID'\n",
    "    df['CHR_ID'] = df['CHR_ID'].str.split(' x ').str[0]\n",
    "    df['CHR_ID'] = 'chr' + df['CHR_ID'].str.replace('.0', '', regex=False)\n",
    "    \n",
    "    return df\n",
    "\n",
    "def preprocess_gwas_data(filepath):\n",
    "    df = pd.read_csv(filepath, compression='gzip', low_memory=False)\n",
    "    df = expand_rows(df)\n",
    "    df = process_chromosome_ids(df)\n",
    "    \n",
    "    # Convert 'CHR_POS' to numeric, coercing errors to NaN, then filling with 0 and converting to int\n",
    "    df['CHR_POS'] = pd.to_numeric(df['CHR_POS'], errors='coerce').fillna(0).astype(int)\n",
    "    \n",
    "    return df\n",
    "\n",
    "# Load and process the dataset\n",
    "df3 = preprocess_gwas_data('data/gwas_database_with_description.csv.gz')\n"
   ]
  },
  {
   "cell_type": "code",
   "execution_count": null,
   "metadata": {},
   "outputs": [],
   "source": [
    "df3.to_csv('data/gwas_database_preprocessed.csv', index=False)"
   ]
  },
  {
   "cell_type": "code",
   "execution_count": null,
   "metadata": {},
   "outputs": [],
   "source": [
    "df3['CHR_POS'].value_counts()"
   ]
  },
  {
   "cell_type": "code",
   "execution_count": null,
   "metadata": {},
   "outputs": [],
   "source": [
    "df3['CHR_ID'].value_counts().sum(), df2.shape[0]"
   ]
  },
  {
   "cell_type": "code",
   "execution_count": null,
   "metadata": {},
   "outputs": [],
   "source": [
    "df3.drop(df3[df3['CHR_POS'] == 0].index, inplace=True)"
   ]
  },
  {
   "cell_type": "code",
   "execution_count": 7,
   "metadata": {},
   "outputs": [
    {
     "name": "stdout",
     "output_type": "stream",
     "text": [
      "782879\n",
      "121308\n",
      "661571\n",
      "Missing values have been found: 121308\n",
      "Missing values were droped\n",
      "Rows were expanded\n",
      "Chromosome IDs were processed\n",
      "675573\n"
     ]
    }
   ],
   "source": [
    "import pandas as pd\n",
    "\n",
    "df = pd.read_csv('data/gwas_database_with_description.csv.gz', compression='gzip', low_memory=False)\n",
    "\n",
    "print(df.shape[0])\n",
    "print(df['CHR_POS'].isnull().sum())\n",
    "df.dropna(subset=['CHR_POS'], inplace=True)\n",
    "print(df.shape[0])\n",
    "\n",
    "import pandas as pd\n",
    "\n",
    "class ExpandReplicateChr:\n",
    "    def __init__(self, df):\n",
    "        self.df = df\n",
    "    \n",
    "    def expand_rows(self):\n",
    "        # Ensure 'CHR_POS' is treated as a string and expand it\n",
    "        self.df['CHR_POS'] = self.df['CHR_POS'].astype(str).str.replace(' x ', ';')\n",
    "        expanded_df = self.df.assign(CHR_POS=self.df['CHR_POS'].str.split(';')).explode('CHR_POS')\n",
    "\n",
    "        return expanded_df\n",
    "\n",
    "    def process_chromosome_ids(self):\n",
    "        # Ensure 'CHR_ID' is a string and handle ';' separator\n",
    "        self.df['CHR_ID'] = self.df['CHR_ID'].astype(str).str.split(';').str[0]\n",
    "\n",
    "        # Ensure consistent formatting for 'CHR_ID'\n",
    "        self.df['CHR_ID'] = self.df['CHR_ID'].str.split(' x ').str[0]\n",
    "        self.df['CHR_ID'] = 'chr' + self.df['CHR_ID'].str.replace('.0', '', regex=False)\n",
    "\n",
    "        return self.df\n",
    "\n",
    "    def preprocess_gwas_data(self):\n",
    "        print ('Missing values have been found:', self.df['CHR_POS'].isnull().sum())\n",
    "        self.df.dropna(subset=['CHR_POS'], inplace=True)\n",
    "        print ('Missing values were droped')\n",
    "        self.df = self.expand_rows()\n",
    "        print ('Rows were expanded')\n",
    "        self.df = self.process_chromosome_ids()\n",
    "        print ('Chromosome IDs were processed')\n",
    "\n",
    "        # Convert 'CHR_POS' to numeric, coercing errors to NaN, then filling with 0 and converting to int\n",
    "        self.df['CHR_POS'] = pd.to_numeric(self.df['CHR_POS'], errors='coerce').fillna(0).astype(int)\n",
    "\n",
    "        return self.df\n",
    "    \n",
    "\n",
    "# Load and process the dataset\n",
    "df = pd.read_csv('data/gwas_database_with_description.csv.gz', compression='gzip', low_memory=False)\n",
    "expand_replicate_chr = ExpandReplicateChr(df)\n",
    "df2 = expand_replicate_chr.preprocess_gwas_data()\n",
    "\n",
    "\n",
    "\n",
    "\n",
    "print(df2.shape[0])\n"
   ]
  },
  {
   "cell_type": "code",
   "execution_count": 8,
   "metadata": {},
   "outputs": [
    {
     "data": {
      "text/plain": [
       "MAPPED_TRAIT_DESCRIPTION\n",
       "The distance from the sole to the crown of the head with body standing on a flat surface and fully extended.                                                                                                                                                                                                                                                                                                                                                       28064\n",
       "An indicator of body density as determined by the relationship of BODY WEIGHT to BODY HEIGHT. BMI=weight (kg)/height squared (m2). BMI correlates with body fat (ADIPOSE TISSUE). Their relationship varies with age and gender. For adults, BMI falls into these categories: below 18.5 (underweight); 18.5-24.9 (normal); 25.0-29.9 (overweight); 30.0 and above (obese). (National Center for Health Statistics, Centers for Disease Control and Prevention)    16672\n",
       "quantification of the levels of some protein in a blood sample                                                                                                                                                                                                                                                                                                                                                                                                     16323\n",
       "Acute myeloid leukemia (AML) is a group of neoplasms arising from precursor cells committed to the myeloid cell-line differentiation. All of them are characterized by clonal expansion of myeloid blasts. AML manifests by fever, pallor, anemia, hemorrhages and recurrent infections.                                                                                                                                                                           12279\n",
       "Is a quantification of some protein, typically obtained from an individual with the intention of using the measurement in some diagnostic process.                                                                                                                                                                                                                                                                                                                  8987\n",
       "                                                                                                                                                                                                                                                                                                                                                                                                                                                                   ...  \n",
       "Quantification of sphingomyeline C18:0 measurement in a sample.                                                                                                                                                                                                                                                                                                                                                                                                        1\n",
       "Quantification of sphingomyeline C16:1 measurement in a sample.                                                                                                                                                                                                                                                                                                                                                                                                        1\n",
       "Quantification of phosphatidylcholine acyl-alkyl C44:6 measurement in a sample.                                                                                                                                                                                                                                                                                                                                                                                        1\n",
       "Quantification of phosphatidylcholine acyl-alkyl C44:5 measurement in a sample.                                                                                                                                                                                                                                                                                                                                                                                        1\n",
       "Pain associated with cancer or its diagnosis or treatment. It may be caused by or related to cellular, tissue, and systemic changes that occur during neoplasm growth, tissue invasion, and metastasis.                                                                                                                                                                                                                                                                1\n",
       "Name: count, Length: 7535, dtype: int64"
      ]
     },
     "execution_count": 8,
     "metadata": {},
     "output_type": "execute_result"
    }
   ],
   "source": [
    "df2['MAPPED_TRAIT_DESCRIPTION'].value_counts()"
   ]
  },
  {
   "cell_type": "code",
   "execution_count": 4,
   "metadata": {},
   "outputs": [
    {
     "data": {
      "text/plain": [
       "CHR_POS\n",
       "0            121308\n",
       "28367840       1937\n",
       "27508073       1552\n",
       "116778201      1302\n",
       "56815721        999\n",
       "              ...  \n",
       "153914397         1\n",
       "73718726          1\n",
       "88579655          1\n",
       "28742564          1\n",
       "43807209          1\n",
       "Name: count, Length: 322214, dtype: int64"
      ]
     },
     "execution_count": 4,
     "metadata": {},
     "output_type": "execute_result"
    }
   ],
   "source": [
    "df2['CHR_POS'].value_counts()"
   ]
  }
 ],
 "metadata": {
  "kernelspec": {
   "display_name": "Python 3",
   "language": "python",
   "name": "python3"
  },
  "language_info": {
   "codemirror_mode": {
    "name": "ipython",
    "version": 3
   },
   "file_extension": ".py",
   "mimetype": "text/x-python",
   "name": "python",
   "nbconvert_exporter": "python",
   "pygments_lexer": "ipython3",
   "version": "3.13.1"
  }
 },
 "nbformat": 4,
 "nbformat_minor": 2
}
