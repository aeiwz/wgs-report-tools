{
 "cells": [
  {
   "cell_type": "code",
   "execution_count": null,
   "metadata": {},
   "outputs": [],
   "source": [
    "from map_gwas import *"
   ]
  },
  {
   "cell_type": "code",
   "execution_count": null,
   "metadata": {},
   "outputs": [],
   "source": [
    "path_09 = 'Barcode09/medaka-variant-out/medaka.annotated.vcf'\n",
    "path_10 = 'Barcode10/medaka-variant-out/medaka.annotated.vcf'\n",
    "gwas = 'gwas_catalog.csv'\n",
    "QUAL = 20\n",
    "out_09 = f'output/barcode09-map-gwas-QUAL{QUAL}.csv'\n",
    "out_10 = f'output/barcode10-map-gwas-QUAL{QUAL}.csv'"
   ]
  },
  {
   "cell_type": "code",
   "execution_count": null,
   "metadata": {},
   "outputs": [],
   "source": [
    "map_gwas_snps(path_09, gwas, out_09, QUAL).map_report()"
   ]
  },
  {
   "cell_type": "code",
   "execution_count": null,
   "metadata": {},
   "outputs": [],
   "source": [
    "import pandas as pd\n",
    "\n",
    "df = pd.read_csv('in-house_report_test_annotated_gwas.csv')"
   ]
  },
  {
   "cell_type": "code",
   "execution_count": null,
   "metadata": {},
   "outputs": [],
   "source": [
    "df['RISK ALLELE FREQUENCY']"
   ]
  },
  {
   "cell_type": "code",
   "execution_count": null,
   "metadata": {},
   "outputs": [],
   "source": [
    "report_data = df[['DISEASE/TRAIT', 'RISK ALLELE FREQUENCY', 'P-VALUE']].groupby(\n",
    "    'DISEASE/TRAIT', as_index=False\n",
    ").agg({\n",
    "    'RISK ALLELE FREQUENCY': 'max',\n",
    "    'P-VALUE': 'min'\n",
    "})\n",
    "\n",
    "# Convert to numeric and handle non-numeric values\n",
    "report_data['RISK ALLELE FREQUENCY'] = pd.to_numeric(report_data['RISK ALLELE FREQUENCY'], errors='coerce')\n",
    "\n",
    "# Multiply by 100 to get percentages\n",
    "report_data['RISK ALLELE FREQUENCY (%)'] = report_data['RISK ALLELE FREQUENCY'] * 100\n",
    "\n",
    "# Drop rows with missing or invalid values\n",
    "report_data.dropna(subset=['RISK ALLELE FREQUENCY (%)'], inplace=True)"
   ]
  },
  {
   "cell_type": "code",
   "execution_count": null,
   "metadata": {},
   "outputs": [],
   "source": [
    "report_data"
   ]
  },
  {
   "cell_type": "code",
   "execution_count": null,
   "metadata": {},
   "outputs": [],
   "source": [
    "df.dropna(subset=['DISEASE/TRAIT'], inplace=True)"
   ]
  },
  {
   "cell_type": "code",
   "execution_count": null,
   "metadata": {},
   "outputs": [],
   "source": [
    "df.columns"
   ]
  },
  {
   "cell_type": "code",
   "execution_count": null,
   "metadata": {},
   "outputs": [],
   "source": [
    "df"
   ]
  },
  {
   "cell_type": "code",
   "execution_count": null,
   "metadata": {},
   "outputs": [],
   "source": [
    "df['DISEASE/TRAIT'].value_counts()"
   ]
  },
  {
   "cell_type": "code",
   "execution_count": null,
   "metadata": {},
   "outputs": [],
   "source": [
    "from pygwas import MapGWASSNPs\n",
    "mapper = MapGWASSNPs('Barcode09/medaka-variant-out/medaka.annotated.vcf', 'medaka-variant-out/gwas_catalog.csv', 'output/barcode09.csv')\n",
    "annotated_df = mapper.map_report()\n",
    "mapper.generate_report(annotated_df)"
   ]
  },
  {
   "cell_type": "code",
   "execution_count": null,
   "metadata": {},
   "outputs": [],
   "source": [
    "import pandas as pd\n",
    "\n",
    "gwas = pd.read_csv('alternative', sep='\\t')"
   ]
  },
  {
   "cell_type": "code",
   "execution_count": null,
   "metadata": {},
   "outputs": [],
   "source": [
    "gwas['DISEASE/TRAIT'].value_counts().to_csv('gwas_trait_counts.csv')"
   ]
  },
  {
   "cell_type": "code",
   "execution_count": null,
   "metadata": {},
   "outputs": [],
   "source": [
    "gwas['DISEASE/TRAIT'].to_csv('gwas_traits.csv')"
   ]
  },
  {
   "cell_type": "code",
   "execution_count": null,
   "metadata": {},
   "outputs": [],
   "source": [
    "gwas_disease = pd.DataFrame(gwas['DISEASE/TRAIT'].value_counts().reset_index())"
   ]
  },
  {
   "cell_type": "code",
   "execution_count": null,
   "metadata": {},
   "outputs": [],
   "source": [
    "gwas_disease"
   ]
  },
  {
   "cell_type": "code",
   "execution_count": null,
   "metadata": {},
   "outputs": [],
   "source": [
    "gwas_disease = pd.DataFrame(gwas['DISEASE/TRAIT'])"
   ]
  },
  {
   "cell_type": "code",
   "execution_count": null,
   "metadata": {},
   "outputs": [],
   "source": [
    "gwas_disease.to_csv('gwas_disease_trait_groups.csv')"
   ]
  },
  {
   "cell_type": "code",
   "execution_count": null,
   "metadata": {},
   "outputs": [],
   "source": [
    "group_keywords = {\n",
    "    \"Digestive system disease\": [\"digestive\", \"stomach\", \"intestinal\", \"colon\", \"gut\", \"esophageal\", \"bowel\", \"hepatic\", \"ulcer\", \"reflux\", \"IBS\", \"Crohn's disease\", \"colitis\", \"dyspepsia\", \"peptic\", \"gallstones\"],\n",
    "    \"Cardiovascular disease\": [\"cardio\", \"heart\", \"vascular\", \"blood pressure\", \"hypertension\", \"artery\", \"stroke\", \"cholesterol\", \"arrhythmia\", \"coronary artery disease\", \"heart failure\", \"angina\", \"myocardial infarction\", \"atherosclerosis\", \"thrombosis\", \"aneurysm\", \"DVT\", \"pulmonary embolism\"],\n",
    "    \"Metabolic disease\": [\"metabolic\", \"diabetes\", \"obesity\", \"insulin\", \"glucose\", \"metabolism\", \"metabolic syndrome\", \"hypothyroidism\", \"hyperthyroidism\", \"PCOS\", \"fatty liver disease\", \"hypoglycemia\", \"insulin resistance\", \"hyperinsulinism\"],\n",
    "    \"Immune system disease\": [\"immune\", \"autoimmune\", \"immunoglobulin\", \"inflammatory\", \"allergic\", \"allergy\", \"asthma\", \"immunity\", \"cytokine\", \"IgA\", \"IgE\", \"IgG\", \"IgM\", \"lupus\", \"rheumatoid arthritis\", \"HIV\", \"multiple sclerosis\", \"Crohn's disease\", \"type 1 diabetes\", \"psoriasis\", \"eczema\", \"scleroderma\", \"Hashimoto's thyroiditis\"],\n",
    "    \"Neurodevelopmental Disorder\": [\"autism\", \"ASD\", \"spectrum disorder\", \"ADHD\", \"learning disability\", \"intellectual disability\", \"developmental delay\", \"social communication\", \"developmental coordination disorder\", \"Asperger's syndrome\", \"Fragile X syndrome\", \"Rett syndrome\", \"Tourette's syndrome\", \"language disorder\"],\n",
    "    \"Mental disorder\": [\"mental\", \"anxiety\", \"depression\", \"schizophrenia\", \"bipolar\", \"OCD\", \"PTSD\", \"phobia\", \"panic disorder\", \"eating disorder\", \"mood disorder\", \"personality disorder\", \"sleep disorder\", \"suicide\", \"stress\", \"addiction\", \"substance abuse\", \"psychosis\", \"dissociative disorder\", \"self-harm\", \"substance dependence\"],\n",
    "    \"Nervous system disease\": [\"nervous\", \"neuro\", \"brain\", \"cognitive\", \"parkinson\", \"alzheimer\", \"epilepsy\", \"dementia\", \"seizure\", \"stroke\", \"multiple sclerosis\", \"ALS\", \"migraine\", \"headache\", \"neurodegenerative disease\", \"spinal cord injury\"],\n",
    "    \"Liver disease\": [\"liver\", \"hepatic\", \"cirrhosis\", \"fibrosis\", \"liver failure\", \"Hepatitis\", \"hepatitis B\", \"hepatitis C\", \"NAFLD\", \"hepatocellular carcinoma\", \"liver fibrosis\"],\n",
    "    \"Lipid or lipoprotein measurement\": [\"lipid\", \"cholesterol\", \"lipoprotein\", \"triglyceride\", \"fatty acid\", \"HDL\", \"LDL\", \"VLDL\", \"apolipoprotein\", \"lipoprotein(a)\", \"lipoprotein lipase\"],\n",
    "    \"Inflammatory marker measurement\": [\"inflammatory\", \"CRP\", \"cytokine\", \"marker\", \"inflammation\", \"IL-6\", \"TNF-alpha\", \"interleukin\", \"ESR\", \"procalcitonin\", \"fibrinogen\", \"pentraxin-3\"],\n",
    "    \"Hematological measurement\": [\"hematological\", \"blood cell\", \"hemoglobin\", \"platelet\", \"leukocyte\", \"erythrocyte\", \"anemia\", \"hematocrit\", \"WBC\", \"RBC\", \"hematopoiesis\", \"thrombocytopenia\", \"leukopenia\", \"polycythemia\", \"coagulation\", \"clotting factor\", \"blood disorders\", \"hemolysis\", \"sickle cell anemia\", \"hemophilia\"],\n",
    "    \"Body measurement\": [\"height\", \"weight\", \"BMI\", \"body mass\", \"waist\", \"fat percentage\", \"bone density\", \"hip circumference\", \"body composition\", \"lean mass\", \"waist circumference\", \"waist-to-hip ratio\", \"fat mass\", \"muscle mass\", \"BMR\", \"body density\", \"body fat percentage\", \"bone mineral density\", \"body composition analysis\"],\n",
    "    \"Cardiovascular measurement\": [\"cardiovascular\", \"ECG\", \"heart rate\", \"blood flow\", \"pulse\", \"arterial\", \"QT interval\", \"systolic\", \"diastolic\", \"blood pressure\", \"HRV\", \"arterial stiffness\", \"pulse pressure\", \"electrocardiogram\", \"echocardiogram\", \"carotid ultrasound\", \"heart function test\", \"myocardial perfusion\"],\n",
    "    \"Other measurement\": [\"measurement\", \"biomarker\", \"assay\", \"quantification\", \"test\", \"screening\", \"diagnostic\", \"biomarker analysis\", \"genetic testing\", \"lab tests\", \"PCR\", \"ELISA\", \"PCR testing\", \"flow cytometry\"],\n",
    "    \"Response to drug\": [\"drug\", \"pharma\", \"response\", \"medication\", \"treatment\", \"efficacy\", \"side effect\", \"therapy\", \"pharmacogenomics\", \"drug efficacy\", \"pharmacokinetics\", \"drug metabolism\", \"clinical trial\", \"therapeutic drug monitoring\", \"adverse drug reaction\", \"medication compliance\", \"personalized treatment\", \"treatment outcome\"],\n",
    "    \"Biological process\": [\"biological\", \"pathway\", \"process\", \"genomic\", \"transcription\", \"translation\", \"protein expression\", \"cell signaling\", \"epigenetic\", \"cell differentiation\", \"apoptosis\", \"DNA repair\", \"cellular response\", \"protein folding\", \"mitochondrial function\", \"cell cycle\", \"gene expression\", \"metabolism\", \"signal transduction\"],\n",
    "    \"Cancer\": [\"cancer\", \"tumor\", \"neoplasm\", \"carcinoma\", \"oncology\", \"melanoma\", \"leukemia\", \"lymphoma\", \"metastasis\", \"malignant\", \"Breast cancer\", \"prostate cancer\", \"lung cancer\", \"colorectal cancer\", \"sarcoma\", \"lymphoma\", \"glioblastoma\", \"brain tumor\", \"hepatocellular carcinoma\", \"ovarian cancer\"],\n",
    "    \"Liver enzyme measurement\": [\"liver\", \"alanine\", \"aspartate\", \"enzyme\", \"hepatic\", \"bilirubin\", \"ALT\", \"AST\", \"GGT\", \"ALP\", \"bilirubin\", \"albumin\", \"PT\"],\n",
    "    \"Other disease\": [\"disease\", \"syndrome\", \"condition\", \"disorder\", \"illness\", \"pathology\", \"chronic\", \"acute\", \"infection\", \"rare disease\", \"genetic disorder\", \"congenital disorder\", \"hereditary condition\", \"autoimmune disease\", \"genetic disorder\", \"syndrome\", \"pathology\"]\n",
    "}"
   ]
  },
  {
   "cell_type": "code",
   "execution_count": null,
   "metadata": {},
   "outputs": [],
   "source": [
    "'''# Define mapping of keywords to groups\n",
    "group_keywords = {\n",
    "    \"Digestive system disease\": [\"digestive\", \"stomach\", \"intestinal\", \"colon\", \"gut\", \"esophageal\", \"bowel\", \"hepatic\"],\n",
    "    \"Cardiovascular disease\": [\"cardio\", \"heart\", \"vascular\", \"blood pressure\", \"hypertension\", \"artery\", \"stroke\", \"cholesterol\"],\n",
    "    \"Metabolic disease\": [\"metabolic\", \"diabetes\", \"obesity\", \"insulin\", \"glucose\", \"metabolism\", \"metabolic syndrome\"],\n",
    "    \"Immune system disease\": [\"immune\", \"autoimmune\", \"immunoglobulin\", \"inflammatory\", \"allergic\", \"allergy\", \"asthma\", \"immunity\", \"cytokine\", \"IgA\", \"IgE\", \"IgG\", \"IgM\"],\n",
    "    \"Neurodevelopmental Disorder\": [\n",
    "        \"autism\", \"ASD\", \"spectrum disorder\", \"ADHD\", \"learning disability\", \n",
    "        \"intellectual disability\", \"developmental delay\", \"social communication\"\n",
    "    ],\n",
    "    \"Mental disorder\": [\n",
    "        \"mental\", \"anxiety\", \"depression\", \"schizophrenia\", \"bipolar\", \"OCD\", \n",
    "        \"PTSD\", \"phobia\", \"panic disorder\", \"eating disorder\", \"mood disorder\", \n",
    "        \"personality disorder\", \"sleep disorder\", \"suicide\", \"stress\", \"addiction\", \n",
    "        \"substance abuse\"\n",
    "    ],\n",
    "    \"Nervous system disease\": [\n",
    "        \"nervous\", \"neuro\", \"brain\", \"cognitive\", \"parkinson\", \"alzheimer\", \n",
    "        \"epilepsy\", \"dementia\", \"seizure\"\n",
    "    ],\n",
    "    \"Liver disease\": [\"liver\", \"hepatic\", \"cirrhosis\", \"fibrosis\", \"liver failure\", \"Hepatitis\"],\n",
    "    \"Lipid or lipoprotein measurement\": [\"lipid\", \"cholesterol\", \"lipoprotein\", \"triglyceride\", \"fatty acid\", \"HDL\", \"LDL\", \"VLDL\", \"apolipoprotein\"],\n",
    "    \"Inflammatory marker measurement\": [\"inflammatory\", \"CRP\", \"cytokine\", \"marker\", \"inflammation\", \"IL-6\", \"TNF-alpha\", \"interleukin\"],\n",
    "    \"Hematological measurement\": [\"hematological\", \"blood cell\", \"hemoglobin\", \"platelet\", \"leukocyte\", \"erythrocyte\", \"anemia\", \"hematocrit\", \"WBC\", \"RBC\"],\n",
    "    \"Body measurement\": [\"height\", \"weight\", \"BMI\", \"body mass\", \"waist\", \"fat percentage\", \"bone density\", \"hip circumference\", \"body composition\", \"lean mass\"],\n",
    "    \"Cardiovascular measurement\": [\"cardiovascular\", \"ECG\", \"heart rate\", \"blood flow\", \"pulse\", \"arterial\", \"QT interval\", \"systolic\", \"diastolic\"],\n",
    "    \"Other measurement\": [\"measurement\", \"biomarker\", \"assay\", \"quantification\", \"test\", \"screening\", \"diagnostic\"],\n",
    "    \"Response to drug\": [\"drug\", \"pharma\", \"response\", \"medication\", \"treatment\", \"efficacy\", \"side effect\", \"therapy\", \"pharmacogenomics\"],\n",
    "    \"Biological process\": [\"biological\", \"pathway\", \"process\", \"genomic\", \"transcription\", \"translation\", \"protein expression\", \"cell signaling\", \"epigenetic\"],\n",
    "    \"Cancer\": [\"cancer\", \"tumor\", \"neoplasm\", \"carcinoma\", \"oncology\", \"melanoma\", \"leukemia\", \"lymphoma\", \"metastasis\", \"malignant\", \"Breast cancer\", \"prostate cancer\", \"lung cancer\", \"colorectal cancer\", 'sarcoma'],\n",
    "    \"Liver enzyme measurement\": [\"liver\", \"alanine\", \"aspartate\", \"enzyme\", \"hepatic\", \"bilirubin\", \"ALT\", \"AST\", \"GGT\"],\n",
    "    \"Other disease\": [\"disease\", \"syndrome\", \"condition\", \"disorder\", \"illness\", \"pathology\", \"chronic\", \"acute\"],\n",
    "    \"Other trait\": []  # Default category for unclassified traits\n",
    "}\n",
    "'''\n",
    "\n",
    "'''# Function to assign group based on keywords is contauined in the group_keywords dictionary\n",
    "def assign_group(text): # text is the disease/trait column\n",
    "    text = text.lower() # Convert to lowercase for case-insensitive matching\n",
    "    for group, keywords in group_keywords.items(): # Iterate over the dictionary items\n",
    "        for keyword in keywords: # Iterate over the list of keywords for each group \n",
    "            if keyword.lower() in text:\n",
    "                return group\n",
    "    return \"Other trait\"'''\n",
    "    \n",
    "group_keywords = {\n",
    "    \"Digestive system disease\": [\n",
    "        \"digestive\", \"stomach\", \"intestinal\", \"colon\", \"gut\", \"esophageal\", \n",
    "        \"bowel\", \"hepatic\", \"ulcer\", \"reflux\", \"IBS\", \"Crohn's disease\", \n",
    "        \"colitis\", \"dyspepsia\", \"peptic\", \"gallstones\"\n",
    "    ],\n",
    "    \"Cardiovascular disease\": [\n",
    "        \"cardio\", \"heart\", \"vascular\", \"blood pressure\", \"hypertension\", \"artery\", \n",
    "        \"stroke\", \"cholesterol\", \"arrhythmia\", \"coronary artery disease\", \"heart failure\", \n",
    "        \"angina\", \"myocardial infarction\", \"atherosclerosis\", \"thrombosis\", \"aneurysm\", \n",
    "        \"DVT\", \"pulmonary embolism\"\n",
    "    ],\n",
    "    \"Metabolic disease\": [\n",
    "        \"metabolic\", \"diabetes\", \"obesity\", \"insulin\", \"glucose\", \"metabolism\", \n",
    "        \"metabolic syndrome\", \"hypothyroidism\", \"hyperthyroidism\", \"PCOS\", \n",
    "        \"fatty liver disease\", \"hypoglycemia\", \"insulin resistance\", \"hyperinsulinism\"\n",
    "    ],\n",
    "    \"Immune system disease\": [\n",
    "        \"immune\", \"autoimmune\", \"immunoglobulin\", \"inflammatory\", \"allergic\", \"allergy\", \n",
    "        \"asthma\", \"immunity\", \"cytokine\", \"IgA\", \"IgE\", \"IgG\", \"IgM\", \"lupus\", \n",
    "        \"rheumatoid arthritis\", \"HIV\", \"multiple sclerosis\", \"Crohn's disease\", \"type 1 diabetes\", \n",
    "        \"psoriasis\", \"eczema\", \"scleroderma\", \"Hashimoto's thyroiditis\"\n",
    "    ],\n",
    "    \"Neurodevelopmental Disorder\": [\n",
    "        \"autism\", \"ASD\", \"spectrum disorder\", \"ADHD\", \"learning disability\", \n",
    "        \"intellectual disability\", \"developmental delay\", \"social communication\", \n",
    "        \"developmental coordination disorder\", \"Asperger's syndrome\", \"Fragile X syndrome\", \n",
    "        \"Rett syndrome\", \"Tourette's syndrome\", \"language disorder\"\n",
    "    ],\n",
    "    \"Mental disorder\": [\n",
    "        \"mental\", \"anxiety\", \"depression\", \"schizophrenia\", \"bipolar\", \"OCD\", \"PTSD\", \n",
    "        \"phobia\", \"panic disorder\", \"eating disorder\", \"mood disorder\", \"personality disorder\", \n",
    "        \"sleep disorder\", \"suicide\", \"stress\", \"addiction\", \"substance abuse\", \"psychosis\", \n",
    "        \"dissociative disorder\", \"self-harm\", \"substance dependence\"\n",
    "    ],\n",
    "    \"Nervous system disease\": [\n",
    "        \"nervous\", \"neuro\", \"brain\", \"cognitive\", \"parkinson\", \"alzheimer\", \"epilepsy\", \n",
    "        \"dementia\", \"seizure\", \"stroke\", \"multiple sclerosis\", \"ALS\", \"migraine\", \"headache\", \n",
    "        \"neurodegenerative disease\", \"spinal cord injury\"\n",
    "    ],\n",
    "    \"Liver disease\": [\n",
    "        \"liver\", \"hepatic\", \"cirrhosis\", \"fibrosis\", \"liver failure\", \"Hepatitis\", \"hepatitis B\", \n",
    "        \"hepatitis C\", \"NAFLD\", \"hepatocellular carcinoma\", \"liver fibrosis\"\n",
    "    ],\n",
    "    \"Lipid or lipoprotein measurement\": [\n",
    "        \"lipid\", \"cholesterol\", \"lipoprotein\", \"triglyceride\", \"fatty acid\", \"HDL\", \"LDL\", \n",
    "        \"VLDL\", \"apolipoprotein\", \"lipoprotein(a)\", \"lipoprotein lipase\"\n",
    "    ],\n",
    "    \"Inflammatory marker measurement\": [\n",
    "        \"inflammatory\", \"CRP\", \"cytokine\", \"marker\", \"inflammation\", \"IL-6\", \"TNF-alpha\", \n",
    "        \"interleukin\", \"ESR\", \"procalcitonin\", \"fibrinogen\", \"pentraxin-3\"\n",
    "    ],\n",
    "    \"Hematological measurement\": [\n",
    "        \"hematological\", \"blood cell\", \"hemoglobin\", \"platelet\", \"leukocyte\", \"erythrocyte\", \n",
    "        \"anemia\", \"hematocrit\", \"WBC\", \"RBC\", \"hematopoiesis\", \"thrombocytopenia\", \"leukopenia\", \n",
    "        \"polycythemia\", \"coagulation\", \"clotting factor\", \"blood disorders\", \"hemolysis\", \n",
    "        \"sickle cell anemia\", \"hemophilia\"\n",
    "    ],\n",
    "    \"Body measurement\": [\n",
    "        \"height\", \"weight\", \"BMI\", \"body mass\", \"waist\", \"fat percentage\", \"bone density\", \n",
    "        \"hip circumference\", \"body composition\", \"lean mass\", \"waist circumference\", \"waist-to-hip ratio\", \n",
    "        \"fat mass\", \"muscle mass\", \"BMR\", \"body density\", \"body fat percentage\", \"bone mineral density\", \n",
    "        \"body composition analysis\"\n",
    "    ],\n",
    "    \"Cardiovascular measurement\": [\n",
    "        \"cardiovascular\", \"ECG\", \"heart rate\", \"blood flow\", \"pulse\", \"arterial\", \"QT interval\", \n",
    "        \"systolic\", \"diastolic\", \"blood pressure\", \"HRV\", \"arterial stiffness\", \"pulse pressure\", \n",
    "        \"electrocardiogram\", \"echocardiogram\", \"carotid ultrasound\", \"heart function test\", \"myocardial perfusion\"\n",
    "    ],\n",
    "    \"Other measurement\": [\n",
    "        \"measurement\", \"biomarker\", \"assay\", \"quantification\", \"test\", \"screening\", \"diagnostic\", \n",
    "        \"biomarker analysis\", \"genetic testing\", \"lab tests\", \"PCR\", \"ELISA\", \"PCR testing\", \"flow cytometry\"\n",
    "    ],\n",
    "    \"Response to drug\": [\n",
    "        \"drug\", \"pharma\", \"response\", \"medication\", \"treatment\", \"efficacy\", \"side effect\", \n",
    "        \"therapy\", \"pharmacogenomics\", \"drug efficacy\", \"pharmacokinetics\", \"drug metabolism\", \n",
    "        \"clinical trial\", \"therapeutic drug monitoring\", \"adverse drug reaction\", \"medication compliance\", \n",
    "        \"personalized treatment\", \"treatment outcome\"\n",
    "    ],\n",
    "    \"Biological process\": [\n",
    "        \"biological\", \"pathway\", \"process\", \"genomic\", \"transcription\", \"translation\", \"protein expression\", \n",
    "        \"cell signaling\", \"epigenetic\", \"cell differentiation\", \"apoptosis\", \"DNA repair\", \"cellular response\", \n",
    "        \"protein folding\", \"mitochondrial function\", \"cell cycle\", \"gene expression\", \"metabolism\", \n",
    "        \"signal transduction\"\n",
    "    ],\n",
    "    \"Cancer\": [\n",
    "        \"cancer\", \"tumor\", \"neoplasm\", \"carcinoma\", \"oncology\", \"melanoma\", \"leukemia\", \"lymphoma\", \n",
    "        \"metastasis\", \"malignant\", \"Breast cancer\", \"prostate cancer\", \"lung cancer\", \"colorectal cancer\", \n",
    "        \"sarcoma\", \"lymphoma\", \"glioblastoma\", \"brain tumor\", \"hepatocellular carcinoma\", \"ovarian cancer\"\n",
    "    ],\n",
    "    \"Liver enzyme measurement\": [\n",
    "        \"liver\", \"alanine\", \"aspartate\", \"enzyme\", \"hepatic\", \"bilirubin\", \"ALT\", \"AST\", \"GGT\", \"ALP\", \n",
    "        \"bilirubin\", \"albumin\", \"PT\"\n",
    "    ],\n",
    "    \"Other disease\": [\n",
    "        \"disease\", \"syndrome\", \"condition\", \"disorder\", \"illness\", \"pathology\", \"chronic\", \"acute\", \n",
    "        \"infection\", \"rare disease\", \"genetic disorder\", \"congenital disorder\", \"hereditary condition\", \n",
    "        \"autoimmune disease\", \"genetic disorder\", \"syndrome\", \"pathology\"\n",
    "    ],\n",
    "    \"Other trait\": []  # Default category for unclassified traits\n",
    "}\n",
    "\n",
    "def assign_group(disease_trait):\n",
    "    for group, keywords in group_keywords.items():\n",
    "        for keyword in keywords:\n",
    "            if keyword.lower() in disease_trait.lower():\n",
    "                return group\n",
    "    return \"Other trait\"\n",
    "\n",
    "# Apply the function to create the new column\n",
    "gwas['Groups of Disease/Trait'] = gwas['DISEASE/TRAIT'].apply(assign_group)\n",
    "\n",
    "gwas.to_csv('gwas_catalog_grouped.csv')\n",
    "# Display a sample of the updated dataset\n",
    "gwas.head()"
   ]
  },
  {
   "cell_type": "code",
   "execution_count": null,
   "metadata": {},
   "outputs": [],
   "source": [
    "gwas.to_csv('data/gwas_database.csv', index=False)"
   ]
  },
  {
   "cell_type": "code",
   "execution_count": null,
   "metadata": {},
   "outputs": [],
   "source": [
    "gwas['Groups of Disease/Trait'].unique()"
   ]
  },
  {
   "cell_type": "code",
   "execution_count": null,
   "metadata": {},
   "outputs": [],
   "source": [
    "col = ['Other trait', \n",
    "       'Mental disorder', \n",
    "       'Cancer',\n",
    "       'Immune system disease', \n",
    "       'Metabolic disease',\n",
    "       'Digestive system disease', \n",
    "       'Hematological measurement',\n",
    "       'Response to drug', \n",
    "       'Lipid or lipoprotein measurement',\n",
    "       'Cardiovascular disease', \n",
    "       'Nervous system disease',\n",
    "       'Body measurement', \n",
    "       'Liver disease', \n",
    "       'Neurodevelopmental Disorder',\n",
    "       'Inflammatory marker measurement', \n",
    "       'Other disease',\n",
    "       'Liver enzyme measurement', \n",
    "       'Cardiovascular measurement',\n",
    "       'Other measurement', \n",
    "       'Biological process']"
   ]
  },
  {
   "cell_type": "code",
   "execution_count": null,
   "metadata": {},
   "outputs": [],
   "source": [
    "\n",
    "\n",
    "# Add an Icon column to the dataset\n",
    "gwas['Icon'] = gwas['Groups of Disease/Trait'].map(icon_mapping)\n",
    "\n",
    "# Display updated dataset\n",
    "gwas.head()"
   ]
  },
  {
   "cell_type": "code",
   "execution_count": null,
   "metadata": {},
   "outputs": [],
   "source": [
    "gwas.to_csv('gwas_catalog_grouped.csv', index=False)"
   ]
  },
  {
   "cell_type": "code",
   "execution_count": null,
   "metadata": {},
   "outputs": [],
   "source": [
    "gwas_disease.to_csv('gwas_disease_trait_groups.csv')"
   ]
  },
  {
   "cell_type": "code",
   "execution_count": null,
   "metadata": {},
   "outputs": [],
   "source": [
    "gwas_disease['Groups of Disease/Trait'].unique()"
   ]
  },
  {
   "cell_type": "code",
   "execution_count": null,
   "metadata": {},
   "outputs": [],
   "source": []
  },
  {
   "cell_type": "code",
   "execution_count": null,
   "metadata": {},
   "outputs": [],
   "source": [
    "gwas_disease"
   ]
  },
  {
   "cell_type": "code",
   "execution_count": null,
   "metadata": {},
   "outputs": [],
   "source": [
    "import plotly.express as px\n",
    "#Create a DataFrame linspace of 100 values\n",
    "\n",
    "import numpy as np\n",
    "import pandas as pd\n",
    "import plotly.express as px\n",
    "#Create a DataFrame linspace of 100 values\n",
    "df = pd.DataFrame(np.linspace(0, 100, 100), columns=['Values'])\n"
   ]
  },
  {
   "cell_type": "code",
   "execution_count": null,
   "metadata": {},
   "outputs": [],
   "source": [
    "str_test = \"Biological process\""
   ]
  },
  {
   "cell_type": "code",
   "execution_count": null,
   "metadata": {},
   "outputs": [],
   "source": [
    "with open(\"data/Group of disease traits/Biological process.svg\", \"r\", encoding=\"utf-8\") as file:\n",
    "    img = file.read()\n",
    "\n",
    "print(str(img))"
   ]
  },
  {
   "cell_type": "code",
   "execution_count": null,
   "metadata": {},
   "outputs": [],
   "source": [
    "test = f\"{img}\""
   ]
  },
  {
   "cell_type": "code",
   "execution_count": null,
   "metadata": {},
   "outputs": [],
   "source": [
    "test"
   ]
  },
  {
   "cell_type": "code",
   "execution_count": null,
   "metadata": {},
   "outputs": [],
   "source": [
    "img"
   ]
  },
  {
   "cell_type": "code",
   "execution_count": null,
   "metadata": {},
   "outputs": [],
   "source": [
    "import plotly.io as pio"
   ]
  },
  {
   "cell_type": "code",
   "execution_count": null,
   "metadata": {},
   "outputs": [],
   "source": [
    "svg_bytes = pio.to_image(img, format=\"svg\")\n",
    "svg_string = svg_bytes.decode(\"utf-8\")"
   ]
  },
  {
   "cell_type": "code",
   "execution_count": null,
   "metadata": {},
   "outputs": [],
   "source": [
    "import pyperclip\n",
    "\n",
    "pyperclip.copy(img)  # Copy text to clipboard"
   ]
  },
  {
   "cell_type": "code",
   "execution_count": null,
   "metadata": {},
   "outputs": [],
   "source": [
    "import plotly.graph_objects as go\n",
    "import numpy as np\n",
    "\n",
    "fig = go.Figure()\n",
    "\n",
    "z_ = np.linspace(0, 100, 100)\n",
    "\n",
    "fig.add_trace(go.Heatmap(\n",
    "    z=[z_],\n",
    "    colorscale=[\n",
    "        #Create color scale 0-100 with 100 steps from blue to red\n",
    "        [0, '#008AA5'],\n",
    "        [1, '#F1423E']\n",
    "        ],\n",
    "    showscale=False,\n",
    "    colorbar=dict(\n",
    "        tick0=0,\n",
    "        dtick=1\n",
    "    )\n",
    "\n",
    "))\n",
    "\n",
    "#X scale from 0 to 100\n",
    "fig.update_layout(\n",
    "    xaxis=dict(\n",
    "        range=[0, 100]\n",
    "    )\n",
    ")\n",
    "\n",
    "#X-axis title\n",
    "fig.update_layout(\n",
    "    xaxis_title=\"Risk Allele Frequency (%)\",\n",
    ")\n",
    "#Add triangle-down marker at 50 on the x-axis and 0 on the y-axis with size 30 and black color\n",
    "fig.add_trace(go.Scatter(\n",
    "    x=[50],\n",
    "    y=[0.5],\n",
    "    mode='markers',\n",
    "    marker=dict(\n",
    "        symbol='triangle-down',\n",
    "        size=50,\n",
    "        color='black'\n",
    "    )\n",
    "))\n",
    "\n",
    "#Add line at 50 on the x-axis with width 2 and black color\n",
    "\n",
    "#set size of the plot\n",
    "fig.update_layout(\n",
    "    width=1000,\n",
    "    height=300\n",
    ")\n",
    "\n",
    "#Gide y-axis\n",
    "fig.update_layout(\n",
    "    yaxis=dict(\n",
    "        visible=False,\n",
    "    ),\n",
    "    showlegend=False,\n",
    "    xaxis=dict(\n",
    "        showgrid=False,\n",
    "        zeroline=False\n",
    "        ),\n",
    "    plot_bgcolor='rgba(0,0,0,0)',\n",
    "    paper_bgcolor='rgba(0,0,0,0)'\n",
    ")\n",
    "\n",
    "\n",
    "fig.update_layout(\n",
    "    font=dict(\n",
    "        size=16,  \n",
    "    )\n",
    ")\n",
    "\n",
    "#optimise margin\n",
    "fig.update_layout(\n",
    "    margin=dict(\n",
    "        l=0,\n",
    "        r=300,\n",
    "        b=300,\n",
    "        t=300,\n",
    "        pad=0\n",
    "    )\n",
    ")\n",
    "\n",
    "fig.show()"
   ]
  },
  {
   "cell_type": "code",
   "execution_count": null,
   "metadata": {},
   "outputs": [],
   "source": [
    "str_p = pio.to_image(fig, format=\"svg\")"
   ]
  },
  {
   "cell_type": "code",
   "execution_count": null,
   "metadata": {},
   "outputs": [],
   "source": [
    "str_p.decode(\"utf-8\")"
   ]
  },
  {
   "cell_type": "code",
   "execution_count": null,
   "metadata": {},
   "outputs": [],
   "source": [
    "\n",
    "fig = px.bar(df, y=\"continent\", x=\"pop\", color=\"lifeExp\", orientation=\"h\",\n",
    "             color_continuous_scale='Bluered_r', hover_name=\"country\")\n",
    "\n",
    "fig.show()"
   ]
  },
  {
   "cell_type": "code",
   "execution_count": null,
   "metadata": {},
   "outputs": [],
   "source": [
    "barcode = ['Barcode09', 'Barcode10']\n",
    "filter_Q = [0, 10, 20]\n",
    "gwas_file = \"gwas_catalog_grouped.csv\"\n",
    "\n",
    "for i in barcode:\n",
    "    for j in filter_Q:\n",
    "        path = f'{i}/medaka-variant-out/medaka.annotated.vcf'\n",
    "        out = f'{i}-map-gwas-QUAL{j}'\n",
    "\n",
    "        mapper = MapGWASSNPs(path, gwas_file, out, cut_off_qual=j, filt_nr_disease=True)\n",
    "        annotated_df = mapper.map_snps()\n",
    "        mapper.generate_report()"
   ]
  },
  {
   "cell_type": "code",
   "execution_count": null,
   "metadata": {},
   "outputs": [],
   "source": [
    "import pandas as pd\n",
    "import gwaspy\n",
    "\n",
    "# Function to search for disease/trait description based on SNP\n",
    "def get_trait_description(snp_id):\n",
    "    try:\n",
    "        # Search for the SNP in the GWAS Catalog using gwaspy\n",
    "        result = gwaspy.search(snp=snp_id)\n",
    "        \n",
    "        if result:\n",
    "            # Extracting the trait or disease description\n",
    "            description = result[0].get('trait', 'No description found')\n",
    "        else:\n",
    "            description = 'No description found'\n",
    "        \n",
    "        return description\n",
    "    except Exception as e:\n",
    "        print(f\"Error fetching data for SNP {snp_id}: {e}\")\n",
    "        return 'Error fetching description'\n",
    "\n",
    "# Example SNP dataset (replace this with your actual dataset)\n",
    "data = {\n",
    "    'SNP': ['rs1234', 'rs5678', 'rs91011'],  # Example SNP IDs\n",
    "    'Other_Column': [1.2, 3.4, 5.6]\n",
    "}\n",
    "\n",
    "# Create a DataFrame from your SNP dataset\n",
    "df = pd.DataFrame(data)\n",
    "\n",
    "# Create a new column with the trait descriptions for each SNP\n",
    "df['Trait_Description'] = df['SNP'].apply(get_trait_description)\n",
    "\n",
    "# Display the updated DataFrame\n",
    "print(df)"
   ]
  },
  {
   "cell_type": "code",
   "execution_count": null,
   "metadata": {},
   "outputs": [],
   "source": [
    "!pip3 install gwaspy"
   ]
  },
  {
   "cell_type": "code",
   "execution_count": null,
   "metadata": {},
   "outputs": [],
   "source": []
  },
  {
   "cell_type": "code",
   "execution_count": null,
   "metadata": {},
   "outputs": [],
   "source": [
    "import requests\n",
    "from bs4 import BeautifulSoup\n",
    "\n",
    "# Function to fetch the EFO ID from the GWAS Catalog search page for a given trait\n",
    "def fetch_efo_id(trait_name):\n",
    "    base_url = \"https://www.ebi.ac.uk/gwas/rest/api/search\"\n",
    "    params = {\"query\": trait_name}\n",
    "    \n",
    "    try:\n",
    "        # Make a request to the GWAS Catalog search API\n",
    "        response = requests.get(base_url, params=params)\n",
    "        response.raise_for_status()\n",
    "        \n",
    "        # Parse the response JSON to extract EFO ID\n",
    "        data = response.json()\n",
    "        if 'response' in data and 'docs' in data['response']:\n",
    "            docs = data['response']['docs']\n",
    "            if docs:\n",
    "                # Extract the first document's EFO ID (if it exists)\n",
    "                efo_id = docs[0].get('efo_trait', None)\n",
    "                if efo_id:\n",
    "                    return efo_id\n",
    "        return None\n",
    "\n",
    "    except requests.exceptions.RequestException as err:\n",
    "        print(f\"Error fetching data: {err}\")\n",
    "        return None\n",
    "\n",
    "# Function to scrape the description from the EFO trait page\n",
    "def fetch_description_from_efo_page(efo_id):\n",
    "    url = f\"https://www.ebi.ac.uk/gwas/efotraits/{efo_id}\"\n",
    "    \n",
    "    try:\n",
    "        # Request the EFO trait page\n",
    "        response = requests.get(url)\n",
    "        response.raise_for_status()\n",
    "        \n",
    "        # Parse the HTML page using BeautifulSoup\n",
    "        soup = BeautifulSoup(response.content, 'html.parser')\n",
    "        \n",
    "        # Extract the description of the trait from the page (assuming it's within a specific tag, e.g., <p>)\n",
    "        description_tag = soup.find('div', class_='panel-body')\n",
    "        if description_tag:\n",
    "            description = description_tag.get_text(strip=True)\n",
    "            return description\n",
    "        \n",
    "        return \"Description not found.\"\n",
    "    \n",
    "    except requests.exceptions.RequestException as err:\n",
    "        print(f\"Error fetching EFO page: {err}\")\n",
    "        return \"Error fetching description\"\n",
    "\n",
    "# Example usage\n",
    "trait_name = \"Response to radiotherapy in cancer (late toxicity)\"\n",
    "\n",
    "# Step 1: Fetch the EFO ID for the trait\n",
    "efo_id = fetch_efo_id(trait_name)\n",
    "\n",
    "if efo_id:\n",
    "    print(f\"EFO ID for '{trait_name}': {efo_id}\")\n",
    "    \n",
    "    # Step 2: Fetch the description from the EFO page using the EFO ID\n",
    "    description = fetch_description_from_efo_page(efo_id)\n",
    "    print(f\"Description for '{trait_name}': {description}\")\n",
    "else:\n",
    "    print(f\"EFO ID not found for '{trait_name}'.\")"
   ]
  },
  {
   "cell_type": "code",
   "execution_count": null,
   "metadata": {},
   "outputs": [],
   "source": [
    "!pip3 install beautifulsoup4"
   ]
  },
  {
   "cell_type": "code",
   "execution_count": null,
   "metadata": {},
   "outputs": [],
   "source": [
    "import pandas as pd"
   ]
  },
  {
   "cell_type": "code",
   "execution_count": null,
   "metadata": {},
   "outputs": [],
   "source": [
    "df = pd.read_csv('alternative', sep='\\t')\n",
    "df2 = pd.read_csv('data/gwas_catalog_grouped.csv', index_col=0)"
   ]
  },
  {
   "cell_type": "code",
   "execution_count": null,
   "metadata": {},
   "outputs": [],
   "source": [
    "df['CONTEXT'].value_counts()"
   ]
  },
  {
   "cell_type": "code",
   "execution_count": null,
   "metadata": {},
   "outputs": [],
   "source": [
    "def check_snp_type_gwas(reference, sample):\n",
    "    # Check if it's an SNP (Single-Nucleotide Polymorphism)\n",
    "    if len(reference) == 1 and len(sample) == 1:\n",
    "        if reference != sample:\n",
    "            return \"SNP\"\n",
    "    \n",
    "    # Check if it's an Insertion\n",
    "    elif len(reference) < len(sample):\n",
    "        if reference == sample[:len(reference)]:\n",
    "            return \"Insertion\"\n",
    "    \n",
    "    # Check if it's a Deletion\n",
    "    elif len(reference) > len(sample):\n",
    "        if sample == reference[:len(sample)]:\n",
    "            return \"Deletion\"\n",
    "    \n",
    "    # Check if it's an MNP (Multiple-Nucleotide Polymorphism)\n",
    "    elif len(reference) == len(sample):\n",
    "        if reference != sample:\n",
    "            return \"MNP\"\n",
    "    \n",
    "    # Check if it's a Complex Variation (MIXED: SNP+InDel, or others)\n",
    "    elif len(reference) != len(sample):\n",
    "        return \"Complex Variation\"\n",
    "    \n",
    "    return \"Unknown\"\n",
    "\n",
    "# Example usage:\n",
    "print(check_snp_type_gwas('A', 'C'))           # SNP\n",
    "print(check_snp_type_gwas('A', 'AGT'))         # Insertion\n",
    "print(check_snp_type_gwas('AC', 'C'))          # Deletion\n",
    "print(check_snp_type_gwas('ATA', 'GTC'))       # MNP\n",
    "print(check_snp_type_gwas('ATA', 'GTCAGT'))    # Complex Variation"
   ]
  },
  {
   "cell_type": "code",
   "execution_count": null,
   "metadata": {},
   "outputs": [],
   "source": [
    "df3 = df2.loc[:, ['CHR_POS', 'MAPPED_TRAIT', 'STUDY ACCESSION', 'GENOTYPING TECHNOLOGY']]"
   ]
  },
  {
   "cell_type": "code",
   "execution_count": null,
   "metadata": {},
   "outputs": [],
   "source": [
    "df.columns, df2.columns"
   ]
  },
  {
   "cell_type": "code",
   "execution_count": null,
   "metadata": {},
   "outputs": [],
   "source": [
    "common_columns = list(set(df.columns) & set(df2.columns))"
   ]
  },
  {
   "cell_type": "code",
   "execution_count": null,
   "metadata": {},
   "outputs": [],
   "source": [
    "df.shape"
   ]
  },
  {
   "cell_type": "code",
   "execution_count": null,
   "metadata": {},
   "outputs": [],
   "source": [
    "df2.shape"
   ]
  },
  {
   "cell_type": "code",
   "execution_count": null,
   "metadata": {},
   "outputs": [],
   "source": [
    "df2.shape, df3.shape, df2.shape[0] + df3.shape[0]"
   ]
  },
  {
   "cell_type": "code",
   "execution_count": null,
   "metadata": {},
   "outputs": [],
   "source": [
    "import pandas as pd\n",
    "\n",
    "# Merge on a common key (adjust as needed)\n",
    "df4 = pd.merge(df2, df3, on='CHR_POS', how='inner')\n",
    "\n"
   ]
  },
  {
   "cell_type": "code",
   "execution_count": null,
   "metadata": {},
   "outputs": [],
   "source": [
    "df4.shape"
   ]
  },
  {
   "cell_type": "code",
   "execution_count": null,
   "metadata": {},
   "outputs": [],
   "source": [
    "df4.to_csv('merged_gwas_data_outer.csv', index=False)"
   ]
  },
  {
   "cell_type": "code",
   "execution_count": null,
   "metadata": {},
   "outputs": [],
   "source": [
    "df3.shape"
   ]
  },
  {
   "cell_type": "code",
   "execution_count": null,
   "metadata": {},
   "outputs": [],
   "source": [
    "df3"
   ]
  },
  {
   "cell_type": "code",
   "execution_count": null,
   "metadata": {},
   "outputs": [],
   "source": []
  },
  {
   "cell_type": "code",
   "execution_count": null,
   "metadata": {},
   "outputs": [],
   "source": [
    "df4 = df3.drop(df3[df3['RISK ALLELE FREQUENCY'] == \"NR\"].index)"
   ]
  },
  {
   "cell_type": "code",
   "execution_count": null,
   "metadata": {},
   "outputs": [],
   "source": [
    "df4"
   ]
  },
  {
   "cell_type": "code",
   "execution_count": null,
   "metadata": {},
   "outputs": [],
   "source": [
    "ALLELE = df4['STRONGEST SNP-RISK ALLELE'].str.split('-', expand=True)[1]"
   ]
  },
  {
   "cell_type": "code",
   "execution_count": null,
   "metadata": {},
   "outputs": [],
   "source": [
    "ALLELE.shape"
   ]
  },
  {
   "cell_type": "code",
   "execution_count": null,
   "metadata": {},
   "outputs": [],
   "source": [
    "df4.shape"
   ]
  },
  {
   "cell_type": "code",
   "execution_count": null,
   "metadata": {},
   "outputs": [],
   "source": [
    "df4.insert(20, 'ALLELE', ALLELE)"
   ]
  },
  {
   "cell_type": "code",
   "execution_count": null,
   "metadata": {},
   "outputs": [],
   "source": [
    "df4.columns"
   ]
  },
  {
   "cell_type": "code",
   "execution_count": null,
   "metadata": {},
   "outputs": [],
   "source": [
    "vcf_df = pd.read_csv('data/medaka.annotated.vcf', comment=\"#\", sep=r'\\s+', names=[\"CHROM\", \"POS\", \"ID\", \"REF\", \"ALT\", \"QUAL\", \"FILTER\", \"INFO\", \"FORMAT\", \"SAMPLE\"])"
   ]
  },
  {
   "cell_type": "code",
   "execution_count": null,
   "metadata": {},
   "outputs": [],
   "source": []
  },
  {
   "cell_type": "code",
   "execution_count": null,
   "metadata": {},
   "outputs": [],
   "source": [
    "df4"
   ]
  },
  {
   "cell_type": "code",
   "execution_count": null,
   "metadata": {},
   "outputs": [],
   "source": [
    "df4[df4['CHR_POS'] == 94165]"
   ]
  },
  {
   "cell_type": "code",
   "execution_count": null,
   "metadata": {},
   "outputs": [],
   "source": [
    "vcf_df"
   ]
  },
  {
   "cell_type": "code",
   "execution_count": null,
   "metadata": {},
   "outputs": [],
   "source": [
    "#read vcf file\n",
    "with open(vcf_file, 'r') as f:\n",
    "    lines = f.readlines()\n",
    "    #skip header\n",
    "    for line in lines:\n",
    "        if line.startswith('#CHROM'):\n",
    "            break\n",
    "    #parse the data\n",
    "    data = []\n",
    "    for line in lines:\n",
    "        if not line.startswith('#'):\n",
    "            data.append(line.strip().split('\\t'))\n",
    "            #print the data\n",
    "            printdf['MAPPED_TRAIT_URI(data)\n",
    "            "
   ]
  },
  {
   "cell_type": "code",
   "execution_count": null,
   "metadata": {},
   "outputs": [],
   "source": [
    "import pandas as pd\n",
    "\n",
    "df = pd.read_csv('data/gwas_database.csv')\n"
   ]
  },
  {
   "cell_type": "code",
   "execution_count": null,
   "metadata": {},
   "outputs": [],
   "source": [
    "df['MAPPED_TRAIT_URI']"
   ]
  },
  {
   "cell_type": "code",
   "execution_count": null,
   "metadata": {},
   "outputs": [],
   "source": [
    "from selenium import webdriver\n",
    "from selenium.webdriver.common.by import By\n",
    "\n",
    "# Set up the Safari WebDriver\n",
    "driver = webdriver.Safari()\n",
    "\n",
    "# Open the website\n",
    "url = \"http://www.ebi.ac.uk/efo/EFO_0004761\"\n",
    "driver.get(url)\n",
    "\n",
    "# Wait for the content to load (you can adjust the time if needed)\n",
    "driver.implicitly_wait(5)  # seconds\n",
    "\n",
    "# Find the <p> tag with class 'pb-3' and get the text\n",
    "p_tag = driver.find_element(By.CSS_SELECTOR, \"p.pb-3\")\n",
    "text = p_tag.text\n",
    "\n",
    "print(text)\n",
    "\n",
    "# Close the driver\n",
    "driver.quit()"
   ]
  },
  {
   "cell_type": "code",
   "execution_count": null,
   "metadata": {},
   "outputs": [],
   "source": [
    "!pip3 install webdriver_manager\n"
   ]
  },
  {
   "cell_type": "code",
   "execution_count": null,
   "metadata": {},
   "outputs": [],
   "source": []
  },
  {
   "cell_type": "code",
   "execution_count": null,
   "metadata": {},
   "outputs": [],
   "source": [
    "from selenium import webdriver\n",
    "from selenium.webdriver.common.by import By\n",
    "from selenium.common.exceptions import NoSuchElementException, WebDriverException\n",
    "from tqdm import tqdm\n",
    "import pandas as pd\n",
    "\n",
    "# Load the data\n",
    "df = pd.read_csv('data/gwas_database.csv')\n",
    "\n",
    "url_ = []\n",
    "description = []\n",
    "\n",
    "for i in tqdm(df['MAPPED_TRAIT_URI'].unique()):\n",
    "    if i == 'No URI':\n",
    "        description.append('Description not available')\n",
    "        continue\n",
    "    \n",
    "    try:\n",
    "        # Set up the Safari WebDriver\n",
    "        driver = webdriver.Safari()\n",
    "        driver.get(i)\n",
    "        driver.implicitly_wait(300)  # Wait for the content to load\n",
    "\n",
    "        # Extract the description\n",
    "        p_tag = driver.find_element(By.CSS_SELECTOR, \"p.pb-3\")\n",
    "        text = p_tag.text\n",
    "        \n",
    "        url_.append(i)\n",
    "        description.append(text)\n",
    "    \n",
    "    except NoSuchElementException:\n",
    "        description.append('Description not found')\n",
    "    except WebDriverException:\n",
    "        description.append('WebDriver error occurred')\n",
    "    except Exception as e:\n",
    "        description.append(f'Error: {str(e)}')\n",
    "    \n",
    "    finally:\n",
    "        driver.quit()\n",
    "    \n",
    "# Create a mapping dictionary\n",
    "dict_ = dict(zip(url_, description))\n",
    "\n",
    "# Map the descriptions to the original dataframe\n",
    "df['MAPPED_TRAIT_DESCRIPTION'] = df['MAPPED_TRAIT_URI'].map(dict_)\n",
    "\n",
    "df.to_csv('data/gwas_database_with_description.csv', index=False)\n"
   ]
  },
  {
   "cell_type": "code",
   "execution_count": null,
   "metadata": {},
   "outputs": [],
   "source": [
    "df= pd.read_csv('data/gwas_database.csv')"
   ]
  },
  {
   "cell_type": "code",
   "execution_count": null,
   "metadata": {},
   "outputs": [],
   "source": [
    "df['MAPPED_TRAIT_URI'].unique()[16], df['MAPPED_TRAIT_URI'].unique()[15], df['MAPPED_TRAIT_URI']"
   ]
  },
  {
   "cell_type": "code",
   "execution_count": null,
   "metadata": {},
   "outputs": [],
   "source": [
    "df['MAPPED_TRAIT_URI'].str.split('/').str[-1].str.split('_').str[0].unique()"
   ]
  },
  {
   "cell_type": "code",
   "execution_count": null,
   "metadata": {},
   "outputs": [],
   "source": [
    "for i in ['EFO', 'MONDO', 'GO', 'OBA', 'HP', 'No URI', 'Orphanet', 'NCIT', 'HANCESTRO', 'PATO', 'MP']:\n",
    "\n",
    "    test = df[df['MAPPED_TRAIT_URI'].str.split('/').str[-1].str.split('_').str[0].str.contains(i)]['MAPPED_TRAIT_URI'].reset_index(drop=True)\n",
    "    print(i, test.shape)"
   ]
  },
  {
   "cell_type": "code",
   "execution_count": null,
   "metadata": {},
   "outputs": [],
   "source": [
    "from selenium import webdriver\n",
    "from selenium.webdriver.common.by import By\n",
    "from selenium.common.exceptions import NoSuchElementException, WebDriverException\n",
    "from tqdm import tqdm\n",
    "import pandas as pd\n",
    "\n",
    "\n",
    "url = 'http://purl.obolibrary.org/obo/GO_0097336'\n",
    "\n",
    "OLS = ['EFO', 'MONDO', 'Orphanet']\n",
    "Abigo = ['GO']\n",
    "Ontobee = ['OBA', 'NCIT', 'HANCESTRO', 'PATO', 'MP']\n",
    "HPO = ['HP']\n",
    "\n",
    "\n",
    "driver = webdriver.Safari()\n",
    "driver.get(url)\n",
    "driver.implicitly_wait(300)  # Wait for the content to load\n",
    "if url.split('/')[-1].split('_')[0] in OLS:\n",
    "    print(url.split('/')[-1].split('_')[0])\n",
    "    # Set up the Safari WebDriver\n",
    "    # Extract the description\n",
    "    p_tag = driver.find_element(By.CSS_SELECTOR, \"p.pb-3\")\n",
    "    text = p_tag.text\n",
    "elif url.split('/')[-1].split('_')[0] in Abigo:\n",
    "    print(url.split('/')[-1].split('_')[0])\n",
    "    # Set up the Safari WebDriver\n",
    "    # Extract the description\n",
    "    p_tag = driver.find_element(By.XPATH, \"//meta[@name='description']\").get_attribute(\"content\")\n",
    "    text = p_tag\n",
    "print(text)\n",
    "\n",
    "driver.quit()"
   ]
  },
  {
   "cell_type": "code",
   "execution_count": null,
   "metadata": {},
   "outputs": [],
   "source": [
    "df2 = pd.read_csv('data/gwas_database.csv.gz', compression='gzip')"
   ]
  },
  {
   "cell_type": "code",
   "execution_count": null,
   "metadata": {},
   "outputs": [],
   "source": []
  },
  {
   "cell_type": "code",
   "execution_count": null,
   "metadata": {},
   "outputs": [],
   "source": [
    "import pandas as pd\n",
    "df = pd.read_csv('data/gwas_database.csv')  \n",
    "for i in df['MAPPED_TRAIT_URI'].str.split('/').str[-1].str.split('_').str[0].unique():\n",
    "\n",
    "    print(df[df['MAPPED_TRAIT_URI'].str.split('/').str[-1].str.split('_').str[0].str.contains(i)]['MAPPED_TRAIT_URI'].to_list()[1])"
   ]
  },
  {
   "cell_type": "code",
   "execution_count": null,
   "metadata": {},
   "outputs": [],
   "source": [
    "test"
   ]
  },
  {
   "cell_type": "code",
   "execution_count": null,
   "metadata": {},
   "outputs": [],
   "source": [
    "df[df['MAPPED_TRAIT_URI'].str.split('/').str[-1].str.split('_').str[0].str.contains('EFO')]['MAPPED_TRAIT_URI'][0],\n",
    "df[df['MAPPED_TRAIT_URI'].str.split('/').str[-1].str.split('_').str[0].str.contains('MONDO')]['MAPPED_TRAIT_URI'][11],\n",
    "df[df['MAPPED_TRAIT_URI'].str.split('/').str[-1].str.split('_').str[0].str.contains('GO')]['MAPPED_TRAIT_URI'],"
   ]
  },
  {
   "cell_type": "code",
   "execution_count": null,
   "metadata": {},
   "outputs": [],
   "source": [
    "df[df['MAPPED_TRAIT_URI'].str.contains('www.orpha.net')]"
   ]
  },
  {
   "cell_type": "code",
   "execution_count": null,
   "metadata": {},
   "outputs": [],
   "source": [
    "df['MAPPED_TRAIT_URI'].str.split('/').str[].unique()"
   ]
  },
  {
   "cell_type": "code",
   "execution_count": null,
   "metadata": {},
   "outputs": [],
   "source": [
    "#Create dict url: description\n",
    "description = ['A', 'B', 'C']\n",
    "num = [1, 2, 3]\n",
    "\n",
    "dict_ = dict(zip(num, description))"
   ]
  },
  {
   "cell_type": "code",
   "execution_count": null,
   "metadata": {},
   "outputs": [],
   "source": [
    "dict_"
   ]
  },
  {
   "cell_type": "code",
   "execution_count": null,
   "metadata": {},
   "outputs": [],
   "source": [
    "df['MAPPED_TRAIT_URI'].isnull().sum()"
   ]
  },
  {
   "cell_type": "code",
   "execution_count": null,
   "metadata": {},
   "outputs": [],
   "source": [
    "# Plint blank if df['MAPPED_TRAIT_URI'] is null\n",
    "for i in df['MAPPED_TRAIT_URI'].index:\n",
    "    if pd.isnull(df['MAPPED_TRAIT_URI'][i]):\n",
    "        df['MAPPED_TRAIT_URI'][i] = 'No URI'\n"
   ]
  },
  {
   "cell_type": "code",
   "execution_count": null,
   "metadata": {},
   "outputs": [],
   "source": [
    "df.to_csv('data/gwas_database.csv', index=False)"
   ]
  },
  {
   "cell_type": "code",
   "execution_count": null,
   "metadata": {},
   "outputs": [],
   "source": [
    "df['MAPPED_TRAIT_URI'].value_counts()"
   ]
  },
  {
   "cell_type": "code",
   "execution_count": null,
   "metadata": {},
   "outputs": [],
   "source": [
    "from selenium import webdriver\n",
    "from selenium.webdriver.common.by import By\n",
    "from selenium.common.exceptions import NoSuchElementException, WebDriverException\n",
    "from tqdm import tqdm\n",
    "import pandas as pd\n",
    "\n",
    "# Load the data\n",
    "\n",
    "\n",
    "url_ = []\n",
    "description = []\n",
    "i = 'http://purl.obolibrary.org/obo/HP_0000483'\n",
    "try:\n",
    "    # Set up the Safari WebDriver\n",
    "    driver = webdriver.Safari()\n",
    "    driver.get(i)\n",
    "    driver.implicitly_wait(3)  # Wait for the content to load\n",
    "\n",
    "    # Extract the description\n",
    "    text = driver.find_element(By.XPATH, \"/html/body/app-root/mat-sidenav-container/mat-sidenav-content/div/app-term/div/div/div/div[2]/mat-card/mat-card-content/div/div[2]/p\").text\n",
    "    \n",
    "    url_.append(i)\n",
    "    description.append(text)\n",
    "\n",
    "except NoSuchElementException:\n",
    "    description.append('Description not found')\n",
    "except WebDriverException:\n",
    "    description.append('WebDriver error occurred')\n",
    "except Exception as e:\n",
    "    description.append(f'Error: {str(e)}')\n",
    "\n",
    "finally:\n",
    "    driver.quit()\n",
    "    \n",
    "print(description)"
   ]
  },
  {
   "cell_type": "code",
   "execution_count": null,
   "metadata": {},
   "outputs": [],
   "source": [
    "from selenium import webdriver\n",
    "from selenium.webdriver.common.by import By\n",
    "from selenium.common.exceptions import NoSuchElementException, WebDriverException\n",
    "from tqdm import tqdm\n",
    "import pandas as pd\n",
    "\n",
    "# Load the data\n",
    "\n",
    "\n",
    "url_ = []\n",
    "description = []\n",
    "i = 'http://purl.obolibrary.org/obo/GO_0097336'\n",
    "try:\n",
    "    # Set up the Safari WebDriver\n",
    "    driver = webdriver.Safari()\n",
    "    driver.get(i)\n",
    "    driver.implicitly_wait(3)  # Wait for the content to load\n",
    "\n",
    "    # Extract the description\n",
    "    text = driver.find_element(By.XPATH, \"//dt[contains(text(), 'Definition')]/following-sibling::dd\").text\n",
    "    \n",
    "    url_.append(i)\n",
    "    description.append(text)\n",
    "\n",
    "except NoSuchElementException:\n",
    "    description.append('Description not found')\n",
    "except WebDriverException:\n",
    "    description.append('WebDriver error occurred')\n",
    "except Exception as e:\n",
    "    description.append(f'Error: {str(e)}')\n",
    "\n",
    "finally:\n",
    "    driver.quit()\n",
    "    \n",
    "print(description)"
   ]
  },
  {
   "cell_type": "code",
   "execution_count": null,
   "metadata": {},
   "outputs": [],
   "source": [
    "df2 = pd.read_csv('data/gwas_database.csv.gz', compression='gzip', low_memory=False)"
   ]
  },
  {
   "cell_type": "code",
   "execution_count": null,
   "metadata": {},
   "outputs": [],
   "source": [
    "df2['CHR_POS']"
   ]
  },
  {
   "cell_type": "code",
   "execution_count": null,
   "metadata": {},
   "outputs": [],
   "source": [
    "text.split('\\n')[0]"
   ]
  },
  {
   "cell_type": "code",
   "execution_count": null,
   "metadata": {},
   "outputs": [],
   "source": [
    "df = pd.read_csv('data/gwas_database.csv.gz', compression='gzip')"
   ]
  },
  {
   "cell_type": "code",
   "execution_count": null,
   "metadata": {},
   "outputs": [],
   "source": [
    "df['MAPPED_TRAIT_URI'].value_counts().to_clipboard()"
   ]
  },
  {
   "cell_type": "code",
   "execution_count": null,
   "metadata": {},
   "outputs": [],
   "source": [
    "df = pd.read_csv('data/gwas_database_with_description.csv.gz', compression='gzip')"
   ]
  },
  {
   "cell_type": "code",
   "execution_count": null,
   "metadata": {},
   "outputs": [],
   "source": [
    "df['MAPPED_TRAIT_DESCRIPTION'].value_counts()"
   ]
  },
  {
   "cell_type": "code",
   "execution_count": null,
   "metadata": {},
   "outputs": [],
   "source": [
    "ols = ['EFO', 'MONDO', 'Orphanet']\n",
    "amigo = ['GO']\n",
    "ontobee = ['OBA', 'NCIT', 'HANCESTRO', 'PATO', 'MP']\n",
    "hpo = ['HP']\n"
   ]
  },
  {
   "cell_type": "code",
   "execution_count": null,
   "metadata": {},
   "outputs": [],
   "source": [
    "df['MAPPED_TRAIT_URI'][0].split('/')[-1].split('_')[0]"
   ]
  },
  {
   "cell_type": "code",
   "execution_count": null,
   "metadata": {},
   "outputs": [],
   "source": [
    "df['MAPPED_TRAIT_URI'].unique()[0].split('/')[-1].split('_')[0]"
   ]
  },
  {
   "cell_type": "code",
   "execution_count": null,
   "metadata": {},
   "outputs": [],
   "source": []
  },
  {
   "cell_type": "code",
   "execution_count": null,
   "metadata": {},
   "outputs": [],
   "source": [
    "df2 = pd.read_csv('data/gwas_database_with_description.csv.gz', compression='gzip')"
   ]
  },
  {
   "cell_type": "code",
   "execution_count": null,
   "metadata": {},
   "outputs": [],
   "source": []
  },
  {
   "cell_type": "code",
   "execution_count": null,
   "metadata": {},
   "outputs": [],
   "source": [
    "import pandas as pd\n",
    "df = pd.read_csv('data/gwas_database.csv.gz', compression='gzip')  \n",
    "for i in df['MAPPED_TRAIT_URI'].str.split('/').str[-1].str.split('_').str[0].unique():\n",
    "\n",
    "    print(df[df['MAPPED_TRAIT_URI'].str.split('/').str[-1].str.split('_').str[0].str.contains(i)]['MAPPED_TRAIT_URI'].to_list()[1])"
   ]
  },
  {
   "cell_type": "code",
   "execution_count": null,
   "metadata": {},
   "outputs": [],
   "source": [
    "from selenium import webdriver\n",
    "from selenium.webdriver.common.by import By\n",
    "from selenium.webdriver.support.ui import WebDriverWait\n",
    "from selenium.webdriver.support import expected_conditions as EC\n",
    "\n",
    "# Set up the Safari WebDriver\n",
    "driver = webdriver.Safari()\n",
    "\n",
    "# Open the target webpage\n",
    "url = \"https://ontobee.org/ontology/NCIT?iri=http://purl.obolibrary.org/obo/NCIT_C117245\"\n",
    "driver.get(url)\n",
    "\n",
    "try:\n",
    "    # Wait until the definition container is loaded\n",
    "    definition_element = WebDriverWait(driver, 10).until(\n",
    "        EC.presence_of_element_located((By.XPATH, \"//*[@id='mainbody']/div[2]\"))  # Adjust XPath if necessary\n",
    "    )\n",
    "\n",
    "    # Extract the definition text\n",
    "    definition_text = definition_element.text\n",
    "    print(\"Definition:\", definition_text)\n",
    "\n",
    "except Exception as e:\n",
    "    print(\"Error:\", e)\n",
    "\n",
    "finally:\n",
    "    # Close the browser\n",
    "    driver.quit()"
   ]
  },
  {
   "cell_type": "code",
   "execution_count": null,
   "metadata": {},
   "outputs": [],
   "source": [
    "from selenium import webdriver\n",
    "from selenium.webdriver.common.by import By\n",
    "from selenium.webdriver.support.ui import WebDriverWait\n",
    "from selenium.webdriver.support import expected_conditions as EC\n",
    "# Open the target webpage\n",
    "url = \"https://hpo.jax.org/browse/term/HP:0000483\"  # Replace with the actual URL\n",
    "#driver.get(url)\n",
    "\n",
    "from selenium import webdriver\n",
    "from selenium.webdriver.common.by import By\n",
    "from selenium.webdriver.support.ui import WebDriverWait\n",
    "from selenium.webdriver.support import expected_conditions as EC\n",
    "\n",
    "# Set up the Selenium WebDriver\n",
    "driver = webdriver.Safari()  # Ensure your browser driver is correctly set up\n",
    "\n",
    "\n",
    "driver.get(url)\n",
    "\n",
    "try:\n",
    "    # Wait for the parent div and locate the <p> tag inside it\n",
    "    description_element = WebDriverWait(driver, 10).until(\n",
    "        EC.presence_of_element_located((By.XPATH, \"/html/body/app-root/mat-sidenav-container/mat-sidenav-content/div/app-term/div/div/div/div[2]/mat-card/mat-card-content/div/div[2]/p\"))\n",
    "    )\n",
    "\n",
    "    # Extract the text content from the <p> tag\n",
    "    description_text = description_element.text\n",
    "    print(\"Description:\", description_text)\n",
    "except Exception as e:\n",
    "    print(\"Error:\", e)\n",
    "finally:\n",
    "    # Close the browser\n",
    "    driver.quit()\n",
    "    "
   ]
  },
  {
   "cell_type": "code",
   "execution_count": null,
   "metadata": {},
   "outputs": [],
   "source": [
    "import pandas as pd\n",
    "\n",
    "df = pd.read_csv('data/gwas_database_with_description.csv.gz', compression='gzip')"
   ]
  },
  {
   "cell_type": "code",
   "execution_count": null,
   "metadata": {},
   "outputs": [],
   "source": [
    "set(df['MAPPED_TRAIT_URI'].dropna())"
   ]
  },
  {
   "cell_type": "code",
   "execution_count": null,
   "metadata": {},
   "outputs": [],
   "source": [
    "from selenium import webdriver\n",
    "from selenium.webdriver.common.by import By\n",
    "from selenium.common.exceptions import NoSuchElementException, WebDriverException\n",
    "from tqdm import tqdm\n",
    "import pandas as pd\n",
    "\n",
    "url = 'http://purl.obolibrary.org/obo/NCIT_C117245'\n",
    "    # Set up the Safari WebDriver\n",
    "driver = webdriver.Safari()\n",
    "driver.get(url)\n",
    "driver.implicitly_wait(300)  # Wait for the content to load\n",
    "\n",
    "# Extract the description\n",
    "p_tag = driver.find_element(By.XPATH, \"//div[@class='def']//span[@class='label'][contains(text(), 'Definition:')]\")\n",
    "text = p_tag.text\n",
    "\n",
    "print(text)\n",
    "\n",
    "\n",
    "driver.quit()\n",
    "\n"
   ]
  },
  {
   "cell_type": "code",
   "execution_count": null,
   "metadata": {},
   "outputs": [],
   "source": [
    "\n",
    "import pandas as pd\n",
    "df = pd.read_csv('data/gwas_database.csv.gz', compression='gzip', low_memory=False)  "
   ]
  },
  {
   "cell_type": "code",
   "execution_count": null,
   "metadata": {},
   "outputs": [],
   "source": [
    "df['MAPPED_TRAIT_URI'].str.split('/').str[-1].str.split('_').str[0].value_counts()"
   ]
  },
  {
   "cell_type": "code",
   "execution_count": 36,
   "metadata": {},
   "outputs": [],
   "source": [
    "import pandas as pd\n",
    "df2 = pd.read_csv('data/gwas_database_with_description.csv.gz', compression='gzip', low_memory=False)"
   ]
  },
  {
   "cell_type": "code",
   "execution_count": null,
   "metadata": {},
   "outputs": [],
   "source": [
    "df2['MAPPED_TRAIT_DESCRIPTION'].value_counts().to_csv('data/gwas_description_counts.csv')"
   ]
  },
  {
   "cell_type": "code",
   "execution_count": 37,
   "metadata": {},
   "outputs": [
    {
     "data": {
      "text/plain": [
       "MAPPED_TRAIT_DESCRIPTION\n",
       "Description not available    10369\n",
       "Description not found         5858\n",
       "Ontology not covered          1089\n",
       "WebDriver error occurred       360\n",
       "Name: count, dtype: int64"
      ]
     },
     "execution_count": 37,
     "metadata": {},
     "output_type": "execute_result"
    }
   ],
   "source": [
    "# Create list of 'Ontology not covered', 'Description not available', 'Description not found', 'WebDriver error occurred', 'Error fetching description' and NaN\n",
    "list_of_reprocess = ['Ontology not covered', 'Description not available', 'Description not found', 'WebDriver error occurred', 'Error fetching description']\n",
    "\n",
    "\n",
    "df2[df2['MAPPED_TRAIT_DESCRIPTION'].isin(list_of_reprocess) | df2['MAPPED_TRAIT_DESCRIPTION'].isnull()]['MAPPED_TRAIT_DESCRIPTION'].value_counts()"
   ]
  },
  {
   "cell_type": "code",
   "execution_count": 38,
   "metadata": {},
   "outputs": [
    {
     "data": {
      "text/plain": [
       "np.int64(411566)"
      ]
     },
     "execution_count": 38,
     "metadata": {},
     "output_type": "execute_result"
    }
   ],
   "source": [
    "# Create list of 'Ontology not covered', 'Description not available', 'Description not found', 'WebDriver error occurred', 'Error fetching description' and NaN\n",
    "list_of_reprocess = ['Ontology not covered', 'Description not available', 'Description not found', 'WebDriver error occurred', 'Error fetching description']\n",
    "\n",
    "\n",
    "#df2[df2['MAPPED_TRAIT_DESCRIPTION'].isin(list_of_reprocess) | df2['MAPPED_TRAIT_DESCRIPTION'].isnull()]['MAPPED_TRAIT_DESCRIPTION'].value_counts()\n",
    "# qhat if is not in the list\n",
    "df2[~df2['MAPPED_TRAIT_DESCRIPTION'].isin(list_of_reprocess) | df2['MAPPED_TRAIT_DESCRIPTION'].notnull()]['MAPPED_TRAIT_DESCRIPTION'].value_counts().sum()"
   ]
  },
  {
   "cell_type": "code",
   "execution_count": 20,
   "metadata": {},
   "outputs": [],
   "source": [
    "import pandas as pd\n",
    "df2 = pd.read_csv('data/gwas_database_with_description.csv.gz', compression='gzip', low_memory=False)  "
   ]
  },
  {
   "cell_type": "code",
   "execution_count": 21,
   "metadata": {},
   "outputs": [
    {
     "data": {
      "text/plain": [
       "MAPPED_TRAIT_DESCRIPTION\n",
       "Description not available    10369\n",
       "Description not found         5865\n",
       "Ontology not covered          1042\n",
       "Name: count, dtype: int64"
      ]
     },
     "execution_count": 21,
     "metadata": {},
     "output_type": "execute_result"
    }
   ],
   "source": [
    "# Create list of 'Ontology not covered', 'Description not available', 'Description not found', 'WebDriver error occurred', 'Error fetching description' and NaN\n",
    "list_of_reprocess = ['Ontology not covered', 'Description not available', 'Description not found', 'WebDriver error occurred', 'Error fetching description']\n",
    "\n",
    "\n",
    "df2[df2['MAPPED_TRAIT_DESCRIPTION'].isin(list_of_reprocess) | df2['MAPPED_TRAIT_DESCRIPTION'].isnull()]['MAPPED_TRAIT_DESCRIPTION'].value_counts()"
   ]
  },
  {
   "cell_type": "code",
   "execution_count": 22,
   "metadata": {},
   "outputs": [
    {
     "data": {
      "text/plain": [
       "np.int64(397888)"
      ]
     },
     "execution_count": 22,
     "metadata": {},
     "output_type": "execute_result"
    }
   ],
   "source": [
    "# Create list of 'Ontology not covered', 'Description not available', 'Description not found', 'WebDriver error occurred', 'Error fetching description' and NaN\n",
    "list_of_reprocess = ['Ontology not covered', 'Description not available', 'Description not found', 'WebDriver error occurred', 'Error fetching description']\n",
    "\n",
    "\n",
    "#df2[df2['MAPPED_TRAIT_DESCRIPTION'].isin(list_of_reprocess) | df2['MAPPED_TRAIT_DESCRIPTION'].isnull()]['MAPPED_TRAIT_DESCRIPTION'].value_counts()\n",
    "# qhat if is not in the list\n",
    "df2[~df2['MAPPED_TRAIT_DESCRIPTION'].isin(list_of_reprocess) | df2['MAPPED_TRAIT_DESCRIPTION'].notnull()]['MAPPED_TRAIT_DESCRIPTION'].value_counts().sum()"
   ]
  },
  {
   "cell_type": "code",
   "execution_count": null,
   "metadata": {},
   "outputs": [],
   "source": [
    "df2['MAPPED_TRAIT_DESCRIPTION'].isnull().sum()"
   ]
  },
  {
   "cell_type": "code",
   "execution_count": null,
   "metadata": {},
   "outputs": [],
   "source": [
    "df2['MAPPED_TRAIT_DESCRIPTION'].to_csv('data/gwas_description.csv')"
   ]
  },
  {
   "cell_type": "code",
   "execution_count": null,
   "metadata": {},
   "outputs": [],
   "source": [
    "df2[df2['MAPPED_TRAIT_DESCRIPTION'] == 'Description not found']['MAPPED_TRAIT_URI'].to_csv('data/Description_not_found.csv', index=False)"
   ]
  },
  {
   "cell_type": "code",
   "execution_count": null,
   "metadata": {},
   "outputs": [],
   "source": [
    "df2['MAPPED_TRAIT_DESCRIPTION'].isnull().sum()"
   ]
  },
  {
   "cell_type": "code",
   "execution_count": null,
   "metadata": {},
   "outputs": [],
   "source": [
    "for i in df['MAPPED_TRAIT_URI'].str.split('/').str[-1].str.split('_').str[0].unique():\n",
    "\n",
    "    print(df[df['MAPPED_TRAIT_URI'].str.split('/').str[-1].str.split('_').str[0].str.contains(i)]['MAPPED_TRAIT_URI'].to_list()[1])\n"
   ]
  },
  {
   "cell_type": "code",
   "execution_count": null,
   "metadata": {},
   "outputs": [],
   "source": [
    "df[df['MAPPED_TRAIT_URI'].str.split('/').str[-1].str.split('_').str[0].str.contains('NCIT')]['MAPPED_TRAIT_URI']"
   ]
  },
  {
   "cell_type": "code",
   "execution_count": null,
   "metadata": {},
   "outputs": [],
   "source": [
    "for index, x in enumerate(df2['MAPPED_TRAIT_URI'].dropna().unique()):\n",
    "    if df2['MAPPED_TRAIT_DESCRIPTION'][index] in list_of_reprocess:\n",
    "        "
   ]
  },
  {
   "cell_type": "code",
   "execution_count": null,
   "metadata": {},
   "outputs": [],
   "source": [
    "len(df2.loc[55520, 'MAPPED_TRAIT_URI'].split(','))"
   ]
  },
  {
   "cell_type": "code",
   "execution_count": 30,
   "metadata": {},
   "outputs": [],
   "source": [
    "vcf = pd.read_csv('data/medaka.annotated.vcf', comment=\"#\", sep=r'\\s+', names=[\"CHROM\", \"POS\", \"ID\", \"REF\", \"ALT\", \"QUAL\", \"FILTER\", \"INFO\", \"FORMAT\", \"SAMPLE\"])"
   ]
  },
  {
   "cell_type": "code",
   "execution_count": null,
   "metadata": {},
   "outputs": [
    {
     "data": {
      "text/plain": [
       "Variant_Type\n",
       "SNPs         248885\n",
       "Insertion    128169\n",
       "MNPs          72046\n",
       "Deletion       4371\n",
       "Name: count, dtype: int64"
      ]
     },
     "execution_count": 35,
     "metadata": {},
     "output_type": "execute_result"
    }
   ],
   "source": [
    "# Function to classify variant type\n",
    "def classify_variant(ref, alt):\n",
    "    ref_len = len(ref)\n",
    "    alt_len = len(alt)\n",
    "\n",
    "    if ref_len == 1 and alt_len == 1:\n",
    "        return \"SNPs\"\n",
    "    elif ref_len < alt_len:\n",
    "        return \"Insertion\"\n",
    "    elif ref_len > alt_len:\n",
    "        return \"Deletion\"\n",
    "    elif ref_len == alt_len and ref != alt:\n",
    "        return \"MNPs\"\n",
    "    else:\n",
    "        return \"Complex Variation\"\n",
    "\n",
    "# Apply classification to the DataFrame\n",
    "vcf[\"TYPE\"] = vcf.apply(lambda row: classify_variant(row[\"REF\"], row[\"ALT\"]), axis=1)\n",
    "\n",
    "# Count occurrences of each variant type\n",
    "variant_counts = vcf[\"Variant_Type\"].value_counts()\n",
    "variant_counts"
   ]
  },
  {
   "cell_type": "code",
   "execution_count": 39,
   "metadata": {},
   "outputs": [
    {
     "data": {
      "text/html": [
       "<div>\n",
       "<style scoped>\n",
       "    .dataframe tbody tr th:only-of-type {\n",
       "        vertical-align: middle;\n",
       "    }\n",
       "\n",
       "    .dataframe tbody tr th {\n",
       "        vertical-align: top;\n",
       "    }\n",
       "\n",
       "    .dataframe thead th {\n",
       "        text-align: right;\n",
       "    }\n",
       "</style>\n",
       "<table border=\"1\" class=\"dataframe\">\n",
       "  <thead>\n",
       "    <tr style=\"text-align: right;\">\n",
       "      <th></th>\n",
       "      <th>CHROM</th>\n",
       "      <th>POS</th>\n",
       "      <th>ID</th>\n",
       "      <th>REF</th>\n",
       "      <th>ALT</th>\n",
       "      <th>QUAL</th>\n",
       "      <th>FILTER</th>\n",
       "      <th>INFO</th>\n",
       "      <th>FORMAT</th>\n",
       "      <th>SAMPLE</th>\n",
       "      <th>Variant_Type</th>\n",
       "    </tr>\n",
       "  </thead>\n",
       "  <tbody>\n",
       "    <tr>\n",
       "      <th>0</th>\n",
       "      <td>chr1</td>\n",
       "      <td>94163</td>\n",
       "      <td>.</td>\n",
       "      <td>C</td>\n",
       "      <td>G</td>\n",
       "      <td>25.324</td>\n",
       "      <td>PASS</td>\n",
       "      <td>DP=1;DPS=1,0</td>\n",
       "      <td>GT:GQ</td>\n",
       "      <td>1:25</td>\n",
       "      <td>SNPs</td>\n",
       "    </tr>\n",
       "    <tr>\n",
       "      <th>1</th>\n",
       "      <td>chr1</td>\n",
       "      <td>94165</td>\n",
       "      <td>.</td>\n",
       "      <td>A</td>\n",
       "      <td>AAG</td>\n",
       "      <td>66.188</td>\n",
       "      <td>PASS</td>\n",
       "      <td>DP=1;DPS=1,0</td>\n",
       "      <td>GT:GQ</td>\n",
       "      <td>1:66</td>\n",
       "      <td>Insertion</td>\n",
       "    </tr>\n",
       "    <tr>\n",
       "      <th>2</th>\n",
       "      <td>chr1</td>\n",
       "      <td>94323</td>\n",
       "      <td>.</td>\n",
       "      <td>C</td>\n",
       "      <td>AT</td>\n",
       "      <td>22.004</td>\n",
       "      <td>PASS</td>\n",
       "      <td>DP=1;DPS=1,0</td>\n",
       "      <td>GT:GQ</td>\n",
       "      <td>1:22</td>\n",
       "      <td>Insertion</td>\n",
       "    </tr>\n",
       "    <tr>\n",
       "      <th>3</th>\n",
       "      <td>chr1</td>\n",
       "      <td>94334</td>\n",
       "      <td>.</td>\n",
       "      <td>TT</td>\n",
       "      <td>CA</td>\n",
       "      <td>2.542</td>\n",
       "      <td>PASS</td>\n",
       "      <td>DP=1;DPS=1,0</td>\n",
       "      <td>GT:GQ</td>\n",
       "      <td>1:3</td>\n",
       "      <td>MNPs</td>\n",
       "    </tr>\n",
       "    <tr>\n",
       "      <th>4</th>\n",
       "      <td>chr1</td>\n",
       "      <td>94537</td>\n",
       "      <td>.</td>\n",
       "      <td>A</td>\n",
       "      <td>G</td>\n",
       "      <td>10.512</td>\n",
       "      <td>PASS</td>\n",
       "      <td>DP=1;DPS=1,0</td>\n",
       "      <td>GT:GQ</td>\n",
       "      <td>1:11</td>\n",
       "      <td>SNPs</td>\n",
       "    </tr>\n",
       "    <tr>\n",
       "      <th>...</th>\n",
       "      <td>...</td>\n",
       "      <td>...</td>\n",
       "      <td>...</td>\n",
       "      <td>...</td>\n",
       "      <td>...</td>\n",
       "      <td>...</td>\n",
       "      <td>...</td>\n",
       "      <td>...</td>\n",
       "      <td>...</td>\n",
       "      <td>...</td>\n",
       "      <td>...</td>\n",
       "    </tr>\n",
       "    <tr>\n",
       "      <th>453466</th>\n",
       "      <td>chrY</td>\n",
       "      <td>56876674</td>\n",
       "      <td>.</td>\n",
       "      <td>C</td>\n",
       "      <td>T</td>\n",
       "      <td>18.467</td>\n",
       "      <td>PASS</td>\n",
       "      <td>DP=1.0;DPS=1.0,0.0</td>\n",
       "      <td>GT:GQ</td>\n",
       "      <td>1:18</td>\n",
       "      <td>SNPs</td>\n",
       "    </tr>\n",
       "    <tr>\n",
       "      <th>453467</th>\n",
       "      <td>chrY</td>\n",
       "      <td>56876675</td>\n",
       "      <td>.</td>\n",
       "      <td>A</td>\n",
       "      <td>AC</td>\n",
       "      <td>16.263</td>\n",
       "      <td>PASS</td>\n",
       "      <td>DP=1.0;DPS=1.0,0.0</td>\n",
       "      <td>GT:GQ</td>\n",
       "      <td>1:16</td>\n",
       "      <td>Insertion</td>\n",
       "    </tr>\n",
       "    <tr>\n",
       "      <th>453468</th>\n",
       "      <td>chrY</td>\n",
       "      <td>56876681</td>\n",
       "      <td>.</td>\n",
       "      <td>G</td>\n",
       "      <td>A</td>\n",
       "      <td>19.102</td>\n",
       "      <td>PASS</td>\n",
       "      <td>DP=1.0;DPS=1.0,0.0</td>\n",
       "      <td>GT:GQ</td>\n",
       "      <td>1:19</td>\n",
       "      <td>SNPs</td>\n",
       "    </tr>\n",
       "    <tr>\n",
       "      <th>453469</th>\n",
       "      <td>chrY</td>\n",
       "      <td>56876684</td>\n",
       "      <td>.</td>\n",
       "      <td>T</td>\n",
       "      <td>C</td>\n",
       "      <td>2.094</td>\n",
       "      <td>PASS</td>\n",
       "      <td>DP=1.0;DPS=1.0,0.0</td>\n",
       "      <td>GT:GQ</td>\n",
       "      <td>1:2</td>\n",
       "      <td>SNPs</td>\n",
       "    </tr>\n",
       "    <tr>\n",
       "      <th>453470</th>\n",
       "      <td>chrY</td>\n",
       "      <td>56876693</td>\n",
       "      <td>.</td>\n",
       "      <td>T</td>\n",
       "      <td>C</td>\n",
       "      <td>17.918</td>\n",
       "      <td>PASS</td>\n",
       "      <td>DP=1.0;DPS=1.0,0.0</td>\n",
       "      <td>GT:GQ</td>\n",
       "      <td>1:18</td>\n",
       "      <td>SNPs</td>\n",
       "    </tr>\n",
       "  </tbody>\n",
       "</table>\n",
       "<p>453471 rows × 11 columns</p>\n",
       "</div>"
      ],
      "text/plain": [
       "       CHROM       POS ID REF  ALT    QUAL FILTER                INFO FORMAT  \\\n",
       "0       chr1     94163  .   C    G  25.324   PASS        DP=1;DPS=1,0  GT:GQ   \n",
       "1       chr1     94165  .   A  AAG  66.188   PASS        DP=1;DPS=1,0  GT:GQ   \n",
       "2       chr1     94323  .   C   AT  22.004   PASS        DP=1;DPS=1,0  GT:GQ   \n",
       "3       chr1     94334  .  TT   CA   2.542   PASS        DP=1;DPS=1,0  GT:GQ   \n",
       "4       chr1     94537  .   A    G  10.512   PASS        DP=1;DPS=1,0  GT:GQ   \n",
       "...      ...       ... ..  ..  ...     ...    ...                 ...    ...   \n",
       "453466  chrY  56876674  .   C    T  18.467   PASS  DP=1.0;DPS=1.0,0.0  GT:GQ   \n",
       "453467  chrY  56876675  .   A   AC  16.263   PASS  DP=1.0;DPS=1.0,0.0  GT:GQ   \n",
       "453468  chrY  56876681  .   G    A  19.102   PASS  DP=1.0;DPS=1.0,0.0  GT:GQ   \n",
       "453469  chrY  56876684  .   T    C   2.094   PASS  DP=1.0;DPS=1.0,0.0  GT:GQ   \n",
       "453470  chrY  56876693  .   T    C  17.918   PASS  DP=1.0;DPS=1.0,0.0  GT:GQ   \n",
       "\n",
       "       SAMPLE Variant_Type  \n",
       "0        1:25         SNPs  \n",
       "1        1:66    Insertion  \n",
       "2        1:22    Insertion  \n",
       "3         1:3         MNPs  \n",
       "4        1:11         SNPs  \n",
       "...       ...          ...  \n",
       "453466   1:18         SNPs  \n",
       "453467   1:16    Insertion  \n",
       "453468   1:19         SNPs  \n",
       "453469    1:2         SNPs  \n",
       "453470   1:18         SNPs  \n",
       "\n",
       "[453471 rows x 11 columns]"
      ]
     },
     "execution_count": 39,
     "metadata": {},
     "output_type": "execute_result"
    }
   ],
   "source": [
    "vcf"
   ]
  },
  {
   "cell_type": "code",
   "execution_count": 49,
   "metadata": {},
   "outputs": [],
   "source": [
    "df2[['CHR_ID','CHR_POS']].sort_values(by='CHR_POS').to_csv('data/CHR_POS.csv', index=False)"
   ]
  },
  {
   "cell_type": "code",
   "execution_count": 47,
   "metadata": {},
   "outputs": [
    {
     "data": {
      "text/plain": [
       "['10']"
      ]
     },
     "execution_count": 47,
     "metadata": {},
     "output_type": "execute_result"
    }
   ],
   "source": [
    "#Normalise the chromosome ID\n",
    "df2['CHR_ID'].str.split(' ')[0]"
   ]
  },
  {
   "cell_type": "code",
   "execution_count": 43,
   "metadata": {},
   "outputs": [],
   "source": [
    "df2['CHR_ID'].value_counts().to_csv('data/CHR_ID_counts.csv')"
   ]
  },
  {
   "cell_type": "code",
   "execution_count": null,
   "metadata": {},
   "outputs": [],
   "source": [
    "#Check SNPs, Insertions, Deletions, MNPs, Complex Variations\n",
    "snps = []\n",
    "insertions = []\n",
    "deletions = []\n",
    "mnp = []\n",
    "complex_variations = []\n",
    "for record in vcf_reader:\n",
    "    for info in record.INFO:\n",
    "        if info.startswith('SNP'):\n",
    "            snps.append(info)\n",
    "        elif info.startswith('Insertion'):\n",
    "            insertions.append(info)\n",
    "        elif info.startswith('Deletion'):\n",
    "            deletions.append(info)\n",
    "        elif info.startswith('MNP'):\n",
    "            mnp.append(info)\n",
    "        else:\n",
    "            complex_variations.append(info)\n",
    "print(\"SNPs:\", len(snps))\n",
    "print(\"Insertions:\", len(insertions))\n",
    "print(\"Deletions:\", len(deletions))\n",
    "print(\"MNPs:\", len(mnp))\n",
    "print(\"Complex Variations:\", len(complex_variations))\n",
    "            \n",
    "            "
   ]
  },
  {
   "cell_type": "code",
   "execution_count": 32,
   "metadata": {},
   "outputs": [
    {
     "data": {
      "application/vnd.plotly.v1+json": {
       "config": {
        "plotlyServerURL": "https://plot.ly"
       },
       "data": [
        {
         "marker": {
          "color": "blue",
          "size": 12
         },
         "mode": "markers+text",
         "name": "SNP",
         "text": [
          "SNP",
          "SNP"
         ],
         "textposition": "top center",
         "type": "scatter",
         "x": [
          1,
          0.30901699437494723
         ],
         "y": [
          0,
          -0.9510565162951536
         ]
        },
        {
         "marker": {
          "color": "green",
          "size": 12
         },
         "mode": "markers+text",
         "name": "Insertion",
         "text": [
          "Insertion",
          "Insertion"
         ],
         "textposition": "top center",
         "type": "scatter",
         "x": [
          0.30901699437494745,
          -0.8090169943749473
         ],
         "y": [
          0.9510565162951535,
          0.5877852522924732
         ]
        },
        {
         "marker": {
          "color": "red",
          "size": 12
         },
         "mode": "markers+text",
         "name": "Deletion",
         "text": [],
         "textposition": "top center",
         "type": "scatter",
         "x": [],
         "y": []
        },
        {
         "marker": {
          "color": "purple",
          "size": 12
         },
         "mode": "markers+text",
         "name": "MNP",
         "text": [
          "MNP"
         ],
         "textposition": "top center",
         "type": "scatter",
         "x": [
          -0.8090169943749475
         ],
         "y": [
          -0.587785252292473
         ]
        },
        {
         "line": {
          "color": "black",
          "width": 2
         },
         "mode": "lines",
         "showlegend": false,
         "type": "scatter",
         "x": [
          1,
          0.9979866764718844,
          0.9919548128307953,
          0.9819286972627067,
          0.9679487013963562,
          0.9500711177409454,
          0.9283679330160726,
          0.9029265382866212,
          0.8738493770697849,
          0.8412535328311812,
          0.8052702575310586,
          0.766044443118978,
          0.7237340381050702,
          0.6785094115571322,
          0.6305526670845225,
          0.5800569095711982,
          0.5272254676105024,
          0.4722710747726827,
          0.41541501300188644,
          0.3568862215918719,
          0.2969203753282749,
          0.23575893550942728,
          0.17364817766693041,
          0.1108381999010111,
          0.04758191582374218,
          -0.01586596383480803,
          -0.07924995685678854,
          -0.14231483827328523,
          -0.20480666806519074,
          -0.26647381369003503,
          -0.32706796331742166,
          -0.3863451256931287,
          -0.4440666126057741,
          -0.5000000000000002,
          -0.5539200638661103,
          -0.6056096871376668,
          -0.6548607339452851,
          -0.7014748877063214,
          -0.7452644496757547,
          -0.7860530947427875,
          -0.8236765814298327,
          -0.8579834132349771,
          -0.8888354486549234,
          -0.9161084574320696,
          -0.9396926207859083,
          -0.9594929736144974,
          -0.975429786885407,
          -0.9874388886763943,
          -0.9954719225730846,
          -0.9994965423831851,
          -0.9994965423831851,
          -0.9954719225730846,
          -0.9874388886763943,
          -0.975429786885407,
          -0.9594929736144974,
          -0.9396926207859084,
          -0.9161084574320696,
          -0.8888354486549235,
          -0.857983413234977,
          -0.8236765814298328,
          -0.7860530947427874,
          -0.7452644496757548,
          -0.7014748877063213,
          -0.6548607339452852,
          -0.6056096871376666,
          -0.5539200638661105,
          -0.4999999999999996,
          -0.44406661260577396,
          -0.3863451256931287,
          -0.3270679633174219,
          -0.26647381369003464,
          -0.20480666806519054,
          -0.14231483827328523,
          -0.07924995685678879,
          -0.01586596383480761,
          0.04758191582374238,
          0.11083819990101086,
          0.17364817766692997,
          0.23575893550942748,
          0.29692037532827487,
          0.35688622159187167,
          0.4154150130018868,
          0.4722710747726829,
          0.5272254676105024,
          0.5800569095711979,
          0.6305526670845228,
          0.6785094115571323,
          0.7237340381050701,
          0.7660444431189778,
          0.8052702575310589,
          0.8412535328311812,
          0.8738493770697849,
          0.9029265382866211,
          0.9283679330160727,
          0.9500711177409454,
          0.9679487013963562,
          0.9819286972627068,
          0.9919548128307953,
          0.9979866764718844,
          1
         ],
         "y": [
          0,
          0.0634239196565645,
          0.12659245357374926,
          0.18925124436041021,
          0.2511479871810792,
          0.31203344569848707,
          0.3716624556603276,
          0.42979491208917164,
          0.4861967361004687,
          0.5406408174555976,
          0.5929079290546404,
          0.6427876096865393,
          0.690079011482112,
          0.7345917086575333,
          0.7761464642917568,
          0.8145759520503357,
          0.8497254299495144,
          0.8814533634475821,
          0.9096319953545183,
          0.9341478602651067,
          0.9549022414440739,
          0.9718115683235417,
          0.984807753012208,
          0.9938384644612541,
          0.998867339183008,
          0.9998741276738751,
          0.9968547759519424,
          0.9898214418809327,
          0.9788024462147787,
          0.963842158559942,
          0.9450008187146685,
          0.9223542941045814,
          0.8959937742913359,
          0.8660254037844386,
          0.8325698546347714,
          0.795761840530832,
          0.7557495743542583,
          0.7126941713788628,
          0.6667690005162916,
          0.6181589862206052,
          0.5670598638627709,
          0.5136773915734063,
          0.4582265217274105,
          0.4009305354066136,
          0.3420201433256689,
          0.28173255684142967,
          0.2203105327865408,
          0.1580013959733499,
          0.09505604330418244,
          0.031727933498067656,
          -0.03172793349806786,
          -0.09505604330418263,
          -0.15800139597335008,
          -0.22031053278654056,
          -0.28173255684142984,
          -0.34202014332566866,
          -0.4009305354066138,
          -0.4582265217274103,
          -0.5136773915734064,
          -0.5670598638627706,
          -0.6181589862206053,
          -0.6667690005162915,
          -0.7126941713788629,
          -0.7557495743542582,
          -0.7957618405308321,
          -0.8325698546347713,
          -0.8660254037844388,
          -0.895993774291336,
          -0.9223542941045814,
          -0.9450008187146683,
          -0.9638421585599422,
          -0.9788024462147787,
          -0.9898214418809327,
          -0.9968547759519423,
          -0.9998741276738751,
          -0.998867339183008,
          -0.9938384644612541,
          -0.9848077530122081,
          -0.9718115683235417,
          -0.9549022414440739,
          -0.9341478602651068,
          -0.9096319953545182,
          -0.881453363447582,
          -0.8497254299495144,
          -0.8145759520503358,
          -0.7761464642917566,
          -0.7345917086575332,
          -0.690079011482112,
          -0.6427876096865396,
          -0.5929079290546402,
          -0.5406408174555976,
          -0.4861967361004688,
          -0.4297949120891719,
          -0.37166245566032724,
          -0.31203344569848707,
          -0.2511479871810794,
          -0.18925124436040974,
          -0.12659245357374904,
          -0.06342391965656452,
          -2.4492935982947064e-16
         ]
        }
       ],
       "layout": {
        "height": 600,
        "showlegend": true,
        "template": {
         "data": {
          "bar": [
           {
            "error_x": {
             "color": "#2a3f5f"
            },
            "error_y": {
             "color": "#2a3f5f"
            },
            "marker": {
             "line": {
              "color": "#E5ECF6",
              "width": 0.5
             },
             "pattern": {
              "fillmode": "overlay",
              "size": 10,
              "solidity": 0.2
             }
            },
            "type": "bar"
           }
          ],
          "barpolar": [
           {
            "marker": {
             "line": {
              "color": "#E5ECF6",
              "width": 0.5
             },
             "pattern": {
              "fillmode": "overlay",
              "size": 10,
              "solidity": 0.2
             }
            },
            "type": "barpolar"
           }
          ],
          "carpet": [
           {
            "aaxis": {
             "endlinecolor": "#2a3f5f",
             "gridcolor": "white",
             "linecolor": "white",
             "minorgridcolor": "white",
             "startlinecolor": "#2a3f5f"
            },
            "baxis": {
             "endlinecolor": "#2a3f5f",
             "gridcolor": "white",
             "linecolor": "white",
             "minorgridcolor": "white",
             "startlinecolor": "#2a3f5f"
            },
            "type": "carpet"
           }
          ],
          "choropleth": [
           {
            "colorbar": {
             "outlinewidth": 0,
             "ticks": ""
            },
            "type": "choropleth"
           }
          ],
          "contour": [
           {
            "colorbar": {
             "outlinewidth": 0,
             "ticks": ""
            },
            "colorscale": [
             [
              0,
              "#0d0887"
             ],
             [
              0.1111111111111111,
              "#46039f"
             ],
             [
              0.2222222222222222,
              "#7201a8"
             ],
             [
              0.3333333333333333,
              "#9c179e"
             ],
             [
              0.4444444444444444,
              "#bd3786"
             ],
             [
              0.5555555555555556,
              "#d8576b"
             ],
             [
              0.6666666666666666,
              "#ed7953"
             ],
             [
              0.7777777777777778,
              "#fb9f3a"
             ],
             [
              0.8888888888888888,
              "#fdca26"
             ],
             [
              1,
              "#f0f921"
             ]
            ],
            "type": "contour"
           }
          ],
          "contourcarpet": [
           {
            "colorbar": {
             "outlinewidth": 0,
             "ticks": ""
            },
            "type": "contourcarpet"
           }
          ],
          "heatmap": [
           {
            "colorbar": {
             "outlinewidth": 0,
             "ticks": ""
            },
            "colorscale": [
             [
              0,
              "#0d0887"
             ],
             [
              0.1111111111111111,
              "#46039f"
             ],
             [
              0.2222222222222222,
              "#7201a8"
             ],
             [
              0.3333333333333333,
              "#9c179e"
             ],
             [
              0.4444444444444444,
              "#bd3786"
             ],
             [
              0.5555555555555556,
              "#d8576b"
             ],
             [
              0.6666666666666666,
              "#ed7953"
             ],
             [
              0.7777777777777778,
              "#fb9f3a"
             ],
             [
              0.8888888888888888,
              "#fdca26"
             ],
             [
              1,
              "#f0f921"
             ]
            ],
            "type": "heatmap"
           }
          ],
          "heatmapgl": [
           {
            "colorbar": {
             "outlinewidth": 0,
             "ticks": ""
            },
            "colorscale": [
             [
              0,
              "#0d0887"
             ],
             [
              0.1111111111111111,
              "#46039f"
             ],
             [
              0.2222222222222222,
              "#7201a8"
             ],
             [
              0.3333333333333333,
              "#9c179e"
             ],
             [
              0.4444444444444444,
              "#bd3786"
             ],
             [
              0.5555555555555556,
              "#d8576b"
             ],
             [
              0.6666666666666666,
              "#ed7953"
             ],
             [
              0.7777777777777778,
              "#fb9f3a"
             ],
             [
              0.8888888888888888,
              "#fdca26"
             ],
             [
              1,
              "#f0f921"
             ]
            ],
            "type": "heatmapgl"
           }
          ],
          "histogram": [
           {
            "marker": {
             "pattern": {
              "fillmode": "overlay",
              "size": 10,
              "solidity": 0.2
             }
            },
            "type": "histogram"
           }
          ],
          "histogram2d": [
           {
            "colorbar": {
             "outlinewidth": 0,
             "ticks": ""
            },
            "colorscale": [
             [
              0,
              "#0d0887"
             ],
             [
              0.1111111111111111,
              "#46039f"
             ],
             [
              0.2222222222222222,
              "#7201a8"
             ],
             [
              0.3333333333333333,
              "#9c179e"
             ],
             [
              0.4444444444444444,
              "#bd3786"
             ],
             [
              0.5555555555555556,
              "#d8576b"
             ],
             [
              0.6666666666666666,
              "#ed7953"
             ],
             [
              0.7777777777777778,
              "#fb9f3a"
             ],
             [
              0.8888888888888888,
              "#fdca26"
             ],
             [
              1,
              "#f0f921"
             ]
            ],
            "type": "histogram2d"
           }
          ],
          "histogram2dcontour": [
           {
            "colorbar": {
             "outlinewidth": 0,
             "ticks": ""
            },
            "colorscale": [
             [
              0,
              "#0d0887"
             ],
             [
              0.1111111111111111,
              "#46039f"
             ],
             [
              0.2222222222222222,
              "#7201a8"
             ],
             [
              0.3333333333333333,
              "#9c179e"
             ],
             [
              0.4444444444444444,
              "#bd3786"
             ],
             [
              0.5555555555555556,
              "#d8576b"
             ],
             [
              0.6666666666666666,
              "#ed7953"
             ],
             [
              0.7777777777777778,
              "#fb9f3a"
             ],
             [
              0.8888888888888888,
              "#fdca26"
             ],
             [
              1,
              "#f0f921"
             ]
            ],
            "type": "histogram2dcontour"
           }
          ],
          "mesh3d": [
           {
            "colorbar": {
             "outlinewidth": 0,
             "ticks": ""
            },
            "type": "mesh3d"
           }
          ],
          "parcoords": [
           {
            "line": {
             "colorbar": {
              "outlinewidth": 0,
              "ticks": ""
             }
            },
            "type": "parcoords"
           }
          ],
          "pie": [
           {
            "automargin": true,
            "type": "pie"
           }
          ],
          "scatter": [
           {
            "fillpattern": {
             "fillmode": "overlay",
             "size": 10,
             "solidity": 0.2
            },
            "type": "scatter"
           }
          ],
          "scatter3d": [
           {
            "line": {
             "colorbar": {
              "outlinewidth": 0,
              "ticks": ""
             }
            },
            "marker": {
             "colorbar": {
              "outlinewidth": 0,
              "ticks": ""
             }
            },
            "type": "scatter3d"
           }
          ],
          "scattercarpet": [
           {
            "marker": {
             "colorbar": {
              "outlinewidth": 0,
              "ticks": ""
             }
            },
            "type": "scattercarpet"
           }
          ],
          "scattergeo": [
           {
            "marker": {
             "colorbar": {
              "outlinewidth": 0,
              "ticks": ""
             }
            },
            "type": "scattergeo"
           }
          ],
          "scattergl": [
           {
            "marker": {
             "colorbar": {
              "outlinewidth": 0,
              "ticks": ""
             }
            },
            "type": "scattergl"
           }
          ],
          "scattermapbox": [
           {
            "marker": {
             "colorbar": {
              "outlinewidth": 0,
              "ticks": ""
             }
            },
            "type": "scattermapbox"
           }
          ],
          "scatterpolar": [
           {
            "marker": {
             "colorbar": {
              "outlinewidth": 0,
              "ticks": ""
             }
            },
            "type": "scatterpolar"
           }
          ],
          "scatterpolargl": [
           {
            "marker": {
             "colorbar": {
              "outlinewidth": 0,
              "ticks": ""
             }
            },
            "type": "scatterpolargl"
           }
          ],
          "scatterternary": [
           {
            "marker": {
             "colorbar": {
              "outlinewidth": 0,
              "ticks": ""
             }
            },
            "type": "scatterternary"
           }
          ],
          "surface": [
           {
            "colorbar": {
             "outlinewidth": 0,
             "ticks": ""
            },
            "colorscale": [
             [
              0,
              "#0d0887"
             ],
             [
              0.1111111111111111,
              "#46039f"
             ],
             [
              0.2222222222222222,
              "#7201a8"
             ],
             [
              0.3333333333333333,
              "#9c179e"
             ],
             [
              0.4444444444444444,
              "#bd3786"
             ],
             [
              0.5555555555555556,
              "#d8576b"
             ],
             [
              0.6666666666666666,
              "#ed7953"
             ],
             [
              0.7777777777777778,
              "#fb9f3a"
             ],
             [
              0.8888888888888888,
              "#fdca26"
             ],
             [
              1,
              "#f0f921"
             ]
            ],
            "type": "surface"
           }
          ],
          "table": [
           {
            "cells": {
             "fill": {
              "color": "#EBF0F8"
             },
             "line": {
              "color": "white"
             }
            },
            "header": {
             "fill": {
              "color": "#C8D4E3"
             },
             "line": {
              "color": "white"
             }
            },
            "type": "table"
           }
          ]
         },
         "layout": {
          "annotationdefaults": {
           "arrowcolor": "#2a3f5f",
           "arrowhead": 0,
           "arrowwidth": 1
          },
          "autotypenumbers": "strict",
          "coloraxis": {
           "colorbar": {
            "outlinewidth": 0,
            "ticks": ""
           }
          },
          "colorscale": {
           "diverging": [
            [
             0,
             "#8e0152"
            ],
            [
             0.1,
             "#c51b7d"
            ],
            [
             0.2,
             "#de77ae"
            ],
            [
             0.3,
             "#f1b6da"
            ],
            [
             0.4,
             "#fde0ef"
            ],
            [
             0.5,
             "#f7f7f7"
            ],
            [
             0.6,
             "#e6f5d0"
            ],
            [
             0.7,
             "#b8e186"
            ],
            [
             0.8,
             "#7fbc41"
            ],
            [
             0.9,
             "#4d9221"
            ],
            [
             1,
             "#276419"
            ]
           ],
           "sequential": [
            [
             0,
             "#0d0887"
            ],
            [
             0.1111111111111111,
             "#46039f"
            ],
            [
             0.2222222222222222,
             "#7201a8"
            ],
            [
             0.3333333333333333,
             "#9c179e"
            ],
            [
             0.4444444444444444,
             "#bd3786"
            ],
            [
             0.5555555555555556,
             "#d8576b"
            ],
            [
             0.6666666666666666,
             "#ed7953"
            ],
            [
             0.7777777777777778,
             "#fb9f3a"
            ],
            [
             0.8888888888888888,
             "#fdca26"
            ],
            [
             1,
             "#f0f921"
            ]
           ],
           "sequentialminus": [
            [
             0,
             "#0d0887"
            ],
            [
             0.1111111111111111,
             "#46039f"
            ],
            [
             0.2222222222222222,
             "#7201a8"
            ],
            [
             0.3333333333333333,
             "#9c179e"
            ],
            [
             0.4444444444444444,
             "#bd3786"
            ],
            [
             0.5555555555555556,
             "#d8576b"
            ],
            [
             0.6666666666666666,
             "#ed7953"
            ],
            [
             0.7777777777777778,
             "#fb9f3a"
            ],
            [
             0.8888888888888888,
             "#fdca26"
            ],
            [
             1,
             "#f0f921"
            ]
           ]
          },
          "colorway": [
           "#636efa",
           "#EF553B",
           "#00cc96",
           "#ab63fa",
           "#FFA15A",
           "#19d3f3",
           "#FF6692",
           "#B6E880",
           "#FF97FF",
           "#FECB52"
          ],
          "font": {
           "color": "#2a3f5f"
          },
          "geo": {
           "bgcolor": "white",
           "lakecolor": "white",
           "landcolor": "#E5ECF6",
           "showlakes": true,
           "showland": true,
           "subunitcolor": "white"
          },
          "hoverlabel": {
           "align": "left"
          },
          "hovermode": "closest",
          "mapbox": {
           "style": "light"
          },
          "paper_bgcolor": "white",
          "plot_bgcolor": "#E5ECF6",
          "polar": {
           "angularaxis": {
            "gridcolor": "white",
            "linecolor": "white",
            "ticks": ""
           },
           "bgcolor": "#E5ECF6",
           "radialaxis": {
            "gridcolor": "white",
            "linecolor": "white",
            "ticks": ""
           }
          },
          "scene": {
           "xaxis": {
            "backgroundcolor": "#E5ECF6",
            "gridcolor": "white",
            "gridwidth": 2,
            "linecolor": "white",
            "showbackground": true,
            "ticks": "",
            "zerolinecolor": "white"
           },
           "yaxis": {
            "backgroundcolor": "#E5ECF6",
            "gridcolor": "white",
            "gridwidth": 2,
            "linecolor": "white",
            "showbackground": true,
            "ticks": "",
            "zerolinecolor": "white"
           },
           "zaxis": {
            "backgroundcolor": "#E5ECF6",
            "gridcolor": "white",
            "gridwidth": 2,
            "linecolor": "white",
            "showbackground": true,
            "ticks": "",
            "zerolinecolor": "white"
           }
          },
          "shapedefaults": {
           "line": {
            "color": "#2a3f5f"
           }
          },
          "ternary": {
           "aaxis": {
            "gridcolor": "white",
            "linecolor": "white",
            "ticks": ""
           },
           "baxis": {
            "gridcolor": "white",
            "linecolor": "white",
            "ticks": ""
           },
           "bgcolor": "#E5ECF6",
           "caxis": {
            "gridcolor": "white",
            "linecolor": "white",
            "ticks": ""
           }
          },
          "title": {
           "x": 0.05
          },
          "xaxis": {
           "automargin": true,
           "gridcolor": "white",
           "linecolor": "white",
           "ticks": "",
           "title": {
            "standoff": 15
           },
           "zerolinecolor": "white",
           "zerolinewidth": 2
          },
          "yaxis": {
           "automargin": true,
           "gridcolor": "white",
           "linecolor": "white",
           "ticks": "",
           "title": {
            "standoff": 15
           },
           "zerolinecolor": "white",
           "zerolinewidth": 2
          }
         }
        },
        "title": {
         "text": "Circular Genomic Variants Plot"
        },
        "width": 600,
        "xaxis": {
         "showgrid": false,
         "visible": false,
         "zeroline": false
        },
        "yaxis": {
         "showgrid": false,
         "visible": false,
         "zeroline": false
        }
       }
      }
     },
     "metadata": {},
     "output_type": "display_data"
    }
   ],
   "source": [
    "import pandas as pd\n",
    "import plotly.graph_objects as go\n",
    "import numpy as np\n",
    "\n",
    "# Load data\n",
    "data = pd.DataFrame({\n",
    "    \"CHROM\": [\"chr1\"]*5,\n",
    "    \"POS\": [94163, 94165, 94323, 94334, 94537],\n",
    "    \"REF\": [\"C\", \"A\", \"C\", \"TT\", \"A\"],\n",
    "    \"ALT\": [\"G\", \"AAG\", \"AT\", \"CA\", \"G\"]\n",
    "})\n",
    "\n",
    "# Classify mutations\n",
    "def classify_variant(ref, alt):\n",
    "    if len(ref) == len(alt) == 1:\n",
    "        return \"SNP\"\n",
    "    elif len(ref) < len(alt):\n",
    "        return \"Insertion\"\n",
    "    elif len(ref) > len(alt):\n",
    "        return \"Deletion\"\n",
    "    else:\n",
    "        return \"MNP\"\n",
    "\n",
    "data[\"Type\"] = data.apply(lambda row: classify_variant(row[\"REF\"], row[\"ALT\"]), axis=1)\n",
    "\n",
    "# Assign colors\n",
    "colors = {\"SNP\": \"blue\", \"Insertion\": \"green\", \"Deletion\": \"red\", \"MNP\": \"purple\"}\n",
    "\n",
    "# Convert positions to angles for circular layout\n",
    "num_variants = len(data)\n",
    "angles = np.linspace(0, 360, num_variants, endpoint=False)\n",
    "angles_rad = np.radians(angles)\n",
    "radius = 1\n",
    "\n",
    "# Compute x and y positions\n",
    "x = radius * np.cos(angles_rad)\n",
    "y = radius * np.sin(angles_rad)\n",
    "\n",
    "# Create circular plot\n",
    "fig = go.Figure()\n",
    "\n",
    "for variant_type in colors.keys():\n",
    "    mask = data[\"Type\"] == variant_type\n",
    "    fig.add_trace(go.Scatter(\n",
    "        x=x[mask], y=y[mask],\n",
    "        mode='markers+text',\n",
    "        marker=dict(size=12, color=colors[variant_type]),\n",
    "        text=data[\"Type\"][mask],\n",
    "        textposition=\"top center\",\n",
    "        name=variant_type\n",
    "    ))\n",
    "\n",
    "# Draw circular boundary\n",
    "circle_angles = np.linspace(0, 2*np.pi, 100)\n",
    "fig.add_trace(go.Scatter(\n",
    "    x=radius * np.cos(circle_angles),\n",
    "    y=radius * np.sin(circle_angles),\n",
    "    mode='lines', line=dict(color='black', width=2),\n",
    "    showlegend=False\n",
    "))\n",
    "\n",
    "# Adjust layout\n",
    "fig.update_layout(\n",
    "    title=\"Circular Genomic Variants Plot\",\n",
    "    xaxis=dict(showgrid=False, zeroline=False, visible=False),\n",
    "    yaxis=dict(showgrid=False, zeroline=False, visible=False),\n",
    "    showlegend=True,\n",
    "    width=600, height=600\n",
    ")\n",
    "\n",
    "fig.show()"
   ]
  },
  {
   "cell_type": "code",
   "execution_count": 28,
   "metadata": {},
   "outputs": [
    {
     "data": {
      "image/png": "[encoded data removed]",
      "text/plain": [
       "<Figure size 600x600 with 1 Axes>"
      ]
     },
     "metadata": {},
     "output_type": "display_data"
    }
   ],
   "source": [
    "import matplotlib.pyplot as plt\n",
    "import numpy as np\n",
    "\n",
    "# Generate random positions\n",
    "num_points = 20\n",
    "angles = np.linspace(0, 2 * np.pi, num_points, endpoint=False)\n",
    "radius = 1  # Circle radius\n",
    "\n",
    "mutation_types = [\"SNP\", \"Insertion\", \"Deletion\", \"MNP\"]\n",
    "colors = {\"SNP\": \"blue\", \"Insertion\": \"green\", \"Deletion\": \"red\", \"MNP\": \"purple\"}\n",
    "mutations = np.random.choice(mutation_types, num_points)\n",
    "\n",
    "fig, ax = plt.subplots(figsize=(6, 6), subplot_kw={'projection': 'polar'})\n",
    "\n",
    "# Plot mutations\n",
    "for i, angle in enumerate(angles):\n",
    "    ax.scatter(angle, radius, color=colors[mutations[i]], label=mutations[i] if i == 0 else \"\")\n",
    "\n",
    "# Add circular boundary\n",
    "ax.set_ylim(0, radius + 0.1)\n",
    "ax.set_xticks([])\n",
    "ax.set_yticks([])\n",
    "\n",
    "plt.title(\"Circular Mutation Plot\")\n",
    "plt.legend()\n",
    "plt.show()"
   ]
  },
  {
   "cell_type": "code",
   "execution_count": null,
   "metadata": {},
   "outputs": [],
   "source": [
    "import pandas as pd\n",
    "\n",
    "df2 = pd.read_csv('data/gwas_database_with_description.csv.gz', compression='gzip', low_memory=False)"
   ]
  },
  {
   "cell_type": "code",
   "execution_count": 127,
   "metadata": {},
   "outputs": [],
   "source": [
    "import pandas as pd\n",
    "\n",
    "\n",
    "# Function to split and expand rows\n",
    "def expand_rows(df):\n",
    "    expanded_rows = []\n",
    "    \n",
    "    for index, row in df.iterrows():\n",
    "        # Ensure 'CHR_POS' is treated as a string\n",
    "        chr_pos = str(row['CHR_POS'])\n",
    "        \n",
    "        # Split 'CHR_POS' by ';' or 'x' (adjust separator as needed)\n",
    "        positions = chr_pos.replace(' x ', ';').split(';')\n",
    "        \n",
    "        # Create a new row for each position and duplicate the other values\n",
    "        for pos in positions:\n",
    "            new_row = row.copy()\n",
    "            new_row['CHR_POS'] = pos\n",
    "            expanded_rows.append(new_row)\n",
    "    \n",
    "    # Create a new DataFrame from the expanded rows\n",
    "    return pd.DataFrame(expanded_rows)\n"
   ]
  },
  {
   "cell_type": "code",
   "execution_count": 128,
   "metadata": {},
   "outputs": [],
   "source": [
    "expand_df = expand_rows(df2)"
   ]
  },
  {
   "cell_type": "code",
   "execution_count": 129,
   "metadata": {},
   "outputs": [],
   "source": [
    "\n",
    "expand_df[['CHR_ID', 'CHR_POS']].to_csv('data/CHR_POS.csv', index=False)"
   ]
  },
  {
   "cell_type": "code",
   "execution_count": 132,
   "metadata": {},
   "outputs": [],
   "source": [
    "#Print CHR_POS if can't be int\n",
    "expand_df[expand_df['CHR_POS'].apply(lambda x: isinstance(x, int))]\n",
    "#Print CHR_POS if can't be int\n",
    "expand_df['CHR_POS'] = expand_df['CHR_POS'].apply(lambda x: int(x) if x.isdigit() else x)\n"
   ]
  },
  {
   "cell_type": "code",
   "execution_count": 133,
   "metadata": {},
   "outputs": [],
   "source": [
    "# Ensure CHR_ID is treated as a string before checking for ';'\n",
    "expand_df['CHR_ID'] = expand_df['CHR_ID'].apply(lambda x: str(x).split(';')[0] if ';' in str(x) else x)"
   ]
  },
  {
   "cell_type": "code",
   "execution_count": null,
   "metadata": {},
   "outputs": [],
   "source": [
    "# Iterate through the 'CHR_ID' column using .iloc to access rows by position\n",
    "for i in range(1, len(expand_df)):\n",
    "    # Use .iloc[] for positional indexing to avoid issues with custom indices\n",
    "    current_chr_id = str(expand_df.iloc[i]['CHR_ID'])\n",
    "    previous_chr_id = str(expand_df.iloc[i - 1]['CHR_ID'])\n",
    "    \n",
    "    if ' x ' in current_chr_id and current_chr_id.split(' x ')[0] == previous_chr_id:\n",
    "        # Split the 'CHR_ID' on ' x ' and keep the second value for the current row\n",
    "        expand_df.iloc[i, expand_df.columns.get_loc('CHR_ID')] = current_chr_id.split(' x ')[1]\n",
    "\n",
    "# Ensure the first row keeps the original 'CHR_ID' value\n",
    "expand_df['CHR_ID'] = expand_df['CHR_ID'].apply(lambda x: str(x).split(' x ')[0] if ' x ' in str(x) else x)"
   ]
  },
  {
   "cell_type": "code",
   "execution_count": null,
   "metadata": {},
   "outputs": [],
   "source": [
    "expand_df['CHR_ID'] = expand_df['CHR_ID'].str.replace('.0', '')\n",
    "#Add prefix\n",
    "expand_df['CHR_ID'] = 'chr' + expand_df['CHR_ID'].astype(str)\n"
   ]
  },
  {
   "cell_type": "code",
   "execution_count": 105,
   "metadata": {},
   "outputs": [
    {
     "data": {
      "text/plain": [
       "CHR_ID\n",
       "1     60714\n",
       "6     56367\n",
       "2     55488\n",
       "11    48869\n",
       "3     40361\n",
       "5     34649\n",
       "19    33549\n",
       "12    33085\n",
       "8     32406\n",
       "7     32232\n",
       "4     31732\n",
       "17    28974\n",
       "10    28649\n",
       "9     26497\n",
       "16    26422\n",
       "15    24092\n",
       "20    18181\n",
       "14    17829\n",
       "13    13329\n",
       "18    12868\n",
       "22    10792\n",
       "21     5236\n",
       "X      3220\n",
       "Y        32\n",
       "Name: count, dtype: int64"
      ]
     },
     "execution_count": 105,
     "metadata": {},
     "output_type": "execute_result"
    }
   ],
   "source": [
    "expand_df['CHR_ID'].value_counts()"
   ]
  },
  {
   "cell_type": "code",
   "execution_count": 114,
   "metadata": {},
   "outputs": [
    {
     "data": {
      "text/plain": [
       "CHR_ID\n",
       "1     60714\n",
       "6     56367\n",
       "2     55488\n",
       "11    48869\n",
       "3     40361\n",
       "5     34649\n",
       "19    33549\n",
       "12    33085\n",
       "8     32406\n",
       "7     32232\n",
       "4     31732\n",
       "17    28974\n",
       "10    28649\n",
       "9     26497\n",
       "16    26422\n",
       "15    24092\n",
       "20    18181\n",
       "14    17829\n",
       "13    13329\n",
       "18    12868\n",
       "22    10792\n",
       "21     5236\n",
       "X      3220\n",
       "Y        32\n",
       "Name: count, dtype: int64"
      ]
     },
     "execution_count": 114,
     "metadata": {},
     "output_type": "execute_result"
    }
   ],
   "source": [
    "expand_df['CHR_ID'].value_counts()"
   ]
  },
  {
   "cell_type": "code",
   "execution_count": null,
   "metadata": {},
   "outputs": [
    {
     "data": {
      "text/plain": [
       "{1,\n",
       " '1.0',\n",
       " 10,\n",
       " '10.0',\n",
       " 11,\n",
       " '11.0',\n",
       " 12,\n",
       " '12.0',\n",
       " 13,\n",
       " '13.0',\n",
       " 14,\n",
       " '14.0',\n",
       " 15,\n",
       " '15.0',\n",
       " 16,\n",
       " '16.0',\n",
       " 17,\n",
       " '17.0',\n",
       " 18,\n",
       " '18.0',\n",
       " 19,\n",
       " '19.0',\n",
       " 2,\n",
       " '2.0',\n",
       " 20,\n",
       " '20.0',\n",
       " 21,\n",
       " '21.0',\n",
       " 22,\n",
       " '22.0',\n",
       " 3,\n",
       " '3.0',\n",
       " 4,\n",
       " '4.0',\n",
       " 5,\n",
       " '5.0',\n",
       " 6,\n",
       " '6.0',\n",
       " 7,\n",
       " '7.0',\n",
       " 8,\n",
       " '8.0',\n",
       " 9,\n",
       " '9.0',\n",
       " 'X',\n",
       " 'Y',\n",
       " nan}"
      ]
     },
     "execution_count": 79,
     "metadata": {},
     "output_type": "execute_result"
    }
   ],
   "source": []
  },
  {
   "cell_type": "code",
   "execution_count": 96,
   "metadata": {},
   "outputs": [],
   "source": [
    "import pandas as pd\n",
    "\n",
    "\n",
    "df = pd.read_csv('data/gwas_database_with_description.csv.gz', compression='gzip', low_memory=False)"
   ]
  },
  {
   "cell_type": "code",
   "execution_count": 97,
   "metadata": {},
   "outputs": [],
   "source": [
    "df2 = df\n",
    "# Create list of 'Ontology not covered', 'Description not available', 'Description not found', 'WebDriver error occurred', 'Error fetching description' and NaN\n",
    "list_of_reprocess = ['Ontology not covered', 'Description not available', 'Description not found', 'WebDriver error occurred', 'Error fetching description']\n",
    "\n",
    "\n",
    "reprocess = df2[df2['MAPPED_TRAIT_DESCRIPTION'].isin(list_of_reprocess) | df2['MAPPED_TRAIT_DESCRIPTION'].isnull()]['MAPPED_TRAIT_DESCRIPTION'].value_counts()\n",
    "\n",
    "\n",
    "# Create list of 'Ontology not covered', 'Description not available', 'Description not found', 'WebDriver error occurred', 'Error fetching description' and NaN\n",
    "list_of_reprocess = ['Ontology not covered', 'Description not available', 'Description not found', 'WebDriver error occurred', 'Error fetching description']\n",
    "\n",
    "\n",
    "#df2[df2['MAPPED_TRAIT_DESCRIPTION'].isin(list_of_reprocess) | df2['MAPPED_TRAIT_DESCRIPTION'].isnull()]['MAPPED_TRAIT_DESCRIPTION'].value_counts()\n",
    "# qhat if is not in the list\n",
    "done = df2[~df2['MAPPED_TRAIT_DESCRIPTION'].isin(list_of_reprocess) | df2['MAPPED_TRAIT_DESCRIPTION'].notnull()]['MAPPED_TRAIT_DESCRIPTION'].value_counts().sum()"
   ]
  },
  {
   "cell_type": "code",
   "execution_count": 98,
   "metadata": {},
   "outputs": [
    {
     "data": {
      "text/plain": [
       "MAPPED_TRAIT_DESCRIPTION\n",
       "Ontology not covered         19338\n",
       "Description not available    10369\n",
       "Description not found         7021\n",
       "WebDriver error occurred      4131\n",
       "Name: count, dtype: int64"
      ]
     },
     "execution_count": 98,
     "metadata": {},
     "output_type": "execute_result"
    }
   ],
   "source": [
    "reprocess"
   ]
  },
  {
   "cell_type": "code",
   "execution_count": 99,
   "metadata": {},
   "outputs": [
    {
     "data": {
      "text/plain": [
       "np.int64(714769)"
      ]
     },
     "execution_count": 99,
     "metadata": {},
     "output_type": "execute_result"
    }
   ],
   "source": [
    "done"
   ]
  }
 ],
 "metadata": {
  "kernelspec": {
   "display_name": "Python 3",
   "language": "python",
   "name": "python3"
  },
  "language_info": {
   "codemirror_mode": {
    "name": "ipython",
    "version": 3
   },
   "file_extension": ".py",
   "mimetype": "text/x-python",
   "name": "python",
   "nbconvert_exporter": "python",
   "pygments_lexer": "ipython3",
   "version": "3.13.1"
  }
 },
 "nbformat": 4,
 "nbformat_minor": 2
}
