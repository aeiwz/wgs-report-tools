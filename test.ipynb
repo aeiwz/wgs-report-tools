{
 "cells": [
  {
   "cell_type": "code",
   "execution_count": 3,
   "metadata": {},
   "outputs": [],
   "source": [
    "from map_gwas import *"
   ]
  },
  {
   "cell_type": "code",
   "execution_count": 14,
   "metadata": {},
   "outputs": [],
   "source": [
    "path_09 = 'Barcode09/medaka-variant-out/medaka.annotated.vcf'\n",
    "path_10 = 'Barcode10/medaka-variant-out/medaka.annotated.vcf'\n",
    "gwas = 'gwas_catalog.csv'\n",
    "QUAL = 20\n",
    "out_09 = f'output/barcode09-map-gwas-QUAL{QUAL}.csv'\n",
    "out_10 = f'output/barcode10-map-gwas-QUAL{QUAL}.csv'"
   ]
  },
  {
   "cell_type": "code",
   "execution_count": null,
   "metadata": {},
   "outputs": [],
   "source": [
    "map_gwas_snps(path_09, gwas, out_09, QUAL).map_report()"
   ]
  },
  {
   "cell_type": "code",
   "execution_count": 15,
   "metadata": {},
   "outputs": [],
   "source": [
    "import pandas as pd\n",
    "\n",
    "df = pd.read_csv('in-house_report_test_annotated_gwas.csv')"
   ]
  },
  {
   "cell_type": "code",
   "execution_count": 17,
   "metadata": {},
   "outputs": [
    {
     "data": {
      "text/plain": [
       "0    0.11\n",
       "1      NR\n",
       "2      NR\n",
       "3      NR\n",
       "4      NR\n",
       "5      NR\n",
       "6      NR\n",
       "7      NR\n",
       "Name: RISK ALLELE FREQUENCY, dtype: object"
      ]
     },
     "execution_count": 17,
     "metadata": {},
     "output_type": "execute_result"
    }
   ],
   "source": [
    "df['RISK ALLELE FREQUENCY']"
   ]
  },
  {
   "cell_type": "code",
   "execution_count": 14,
   "metadata": {},
   "outputs": [],
   "source": [
    "report_data = df[['DISEASE/TRAIT', 'RISK ALLELE FREQUENCY', 'P-VALUE']].groupby(\n",
    "    'DISEASE/TRAIT', as_index=False\n",
    ").agg({\n",
    "    'RISK ALLELE FREQUENCY': 'max',\n",
    "    'P-VALUE': 'min'\n",
    "})\n",
    "\n",
    "# Convert to numeric and handle non-numeric values\n",
    "report_data['RISK ALLELE FREQUENCY'] = pd.to_numeric(report_data['RISK ALLELE FREQUENCY'], errors='coerce')\n",
    "\n",
    "# Multiply by 100 to get percentages\n",
    "report_data['RISK ALLELE FREQUENCY (%)'] = report_data['RISK ALLELE FREQUENCY'] * 100\n",
    "\n",
    "# Drop rows with missing or invalid values\n",
    "report_data.dropna(subset=['RISK ALLELE FREQUENCY (%)'], inplace=True)"
   ]
  },
  {
   "cell_type": "code",
   "execution_count": 13,
   "metadata": {},
   "outputs": [
    {
     "data": {
      "text/html": [
       "<div>\n",
       "<style scoped>\n",
       "    .dataframe tbody tr th:only-of-type {\n",
       "        vertical-align: middle;\n",
       "    }\n",
       "\n",
       "    .dataframe tbody tr th {\n",
       "        vertical-align: top;\n",
       "    }\n",
       "\n",
       "    .dataframe thead th {\n",
       "        text-align: right;\n",
       "    }\n",
       "</style>\n",
       "<table border=\"1\" class=\"dataframe\">\n",
       "  <thead>\n",
       "    <tr style=\"text-align: right;\">\n",
       "      <th></th>\n",
       "      <th>DISEASE/TRAIT</th>\n",
       "      <th>RISK ALLELE FREQUENCY</th>\n",
       "      <th>P-VALUE</th>\n",
       "      <th>RISK ALLELE FREQUENCY (%)</th>\n",
       "    </tr>\n",
       "  </thead>\n",
       "  <tbody>\n",
       "    <tr>\n",
       "      <th>0</th>\n",
       "      <td>Body mass index</td>\n",
       "      <td>0.11</td>\n",
       "      <td>0.000008</td>\n",
       "      <td>11.0</td>\n",
       "    </tr>\n",
       "  </tbody>\n",
       "</table>\n",
       "</div>"
      ],
      "text/plain": [
       "     DISEASE/TRAIT  RISK ALLELE FREQUENCY   P-VALUE  RISK ALLELE FREQUENCY (%)\n",
       "0  Body mass index                   0.11  0.000008                       11.0"
      ]
     },
     "execution_count": 13,
     "metadata": {},
     "output_type": "execute_result"
    }
   ],
   "source": [
    "report_data"
   ]
  },
  {
   "cell_type": "code",
   "execution_count": null,
   "metadata": {},
   "outputs": [],
   "source": [
    "df.dropna(subset=['DISEASE/TRAIT'], inplace=True)"
   ]
  },
  {
   "cell_type": "code",
   "execution_count": null,
   "metadata": {},
   "outputs": [],
   "source": [
    "df"
   ]
  },
  {
   "cell_type": "code",
   "execution_count": null,
   "metadata": {},
   "outputs": [],
   "source": [
    "df.columns"
   ]
  },
  {
   "cell_type": "code",
   "execution_count": null,
   "metadata": {},
   "outputs": [],
   "source": [
    "df['DISEASE/TRAIT'].value_counts()"
   ]
  },
  {
   "cell_type": "code",
   "execution_count": 1,
   "metadata": {},
   "outputs": [
    {
     "name": "stdout",
     "output_type": "stream",
     "text": [
      "Step 1: Reading VCF file...\n"
     ]
    },
    {
     "name": "stderr",
     "output_type": "stream",
     "text": [
      "/Volumes/CAS9/Aeiwz/Project/ONT-WGS/pygwas.py:50: FutureWarning: The 'delim_whitespace' keyword in pd.read_csv is deprecated and will be removed in a future version. Use ``sep='\\s+'`` instead\n",
      "  vcf_df = pd.read_csv(self.vcf_file, comment=\"#\", delim_whitespace=True, names=vcf_columns)\n"
     ]
    },
    {
     "name": "stdout",
     "output_type": "stream",
     "text": [
      "Loaded VCF DataFrame with 431891 rows.\n",
      "\n",
      "Step 2: Reading GWAS catalog...\n"
     ]
    },
    {
     "name": "stderr",
     "output_type": "stream",
     "text": [
      "/Volumes/CAS9/Aeiwz/Project/ONT-WGS/pygwas.py:54: DtypeWarning: Columns (9,11,12,13,23,26) have mixed types. Specify dtype option on import or set low_memory=False.\n",
      "  gwas_df = pd.read_csv(self.gwas_file)\n"
     ]
    },
    {
     "name": "stdout",
     "output_type": "stream",
     "text": [
      "Loaded GWAS catalog with 692444 rows.\n",
      "\n",
      "Step 3: Normalizing chromosome identifiers...\n",
      "Step 4: Converting positions to strings...\n",
      "Step 5: Merging VCF and GWAS data...\n",
      "Step 6: Filtering by quality...\n",
      "Filtering out 'NR' diseases...\n",
      "Filtered annotated DataFrame with 39925 rows.\n",
      "\n",
      "Step 7: Saving filtered data...\n",
      "Filtered data saved to 'filtered_output/barcode09.csv'.\n",
      "\n"
     ]
    },
    {
     "name": "stderr",
     "output_type": "stream",
     "text": [
      "/Volumes/CAS9/Aeiwz/Project/ONT-WGS/pygwas.py:101: FutureWarning: \n",
      "\n",
      "Passing `palette` without assigning `hue` is deprecated and will be removed in v0.14.0. Assign the `x` variable to `hue` and set `legend=False` for the same effect.\n",
      "\n",
      "  sns.barplot(\n",
      "/Volumes/CAS9/Aeiwz/Project/ONT-WGS/pygwas.py:110: UserWarning: Tight layout not applied. The left and right margins cannot be made large enough to accommodate all Axes decorations.\n",
      "  plt.tight_layout()\n"
     ]
    },
    {
     "name": "stdout",
     "output_type": "stream",
     "text": [
      "Report generated: gwas_report.html\n"
     ]
    }
   ],
   "source": [
    "from pygwas import MapGWASSNPs\n",
    "mapper = MapGWASSNPs('Barcode09/medaka-variant-out/medaka.annotated.vcf', 'medaka-variant-out/gwas_catalog.csv', 'output/barcode09.csv')\n",
    "annotated_df = mapper.map_report()\n",
    "mapper.generate_report(annotated_df)"
   ]
  },
  {
   "cell_type": "code",
   "execution_count": 2,
   "metadata": {},
   "outputs": [
    {
     "name": "stderr",
     "output_type": "stream",
     "text": [
      "/var/folders/js/gsdvs9d11jd4g5m9s3xj33c80000gn/T/ipykernel_3744/2223762879.py:3: DtypeWarning: Columns (9,11,12,13,23,26) have mixed types. Specify dtype option on import or set low_memory=False.\n",
      "  gwas = pd.read_csv('gwas_catalog.csv')\n"
     ]
    }
   ],
   "source": [
    "import pandas as pd\n",
    "\n",
    "gwas = pd.read_csv('gwas_catalog.csv')"
   ]
  },
  {
   "cell_type": "code",
   "execution_count": 21,
   "metadata": {},
   "outputs": [],
   "source": [
    "gwas['DISEASE/TRAIT'].value_counts().to_csv('gwas_trait_counts.csv')"
   ]
  },
  {
   "cell_type": "code",
   "execution_count": 22,
   "metadata": {},
   "outputs": [],
   "source": [
    "gwas['DISEASE/TRAIT'].to_csv('gwas_traits.csv')"
   ]
  },
  {
   "cell_type": "code",
   "execution_count": 29,
   "metadata": {},
   "outputs": [],
   "source": [
    "gwas_disease = pd.DataFrame(gwas['DISEASE/TRAIT'].value_counts().reset_index())"
   ]
  },
  {
   "cell_type": "code",
   "execution_count": 30,
   "metadata": {},
   "outputs": [
    {
     "data": {
      "text/html": [
       "<div>\n",
       "<style scoped>\n",
       "    .dataframe tbody tr th:only-of-type {\n",
       "        vertical-align: middle;\n",
       "    }\n",
       "\n",
       "    .dataframe tbody tr th {\n",
       "        vertical-align: top;\n",
       "    }\n",
       "\n",
       "    .dataframe thead th {\n",
       "        text-align: right;\n",
       "    }\n",
       "</style>\n",
       "<table border=\"1\" class=\"dataframe\">\n",
       "  <thead>\n",
       "    <tr style=\"text-align: right;\">\n",
       "      <th></th>\n",
       "      <th>DISEASE/TRAIT</th>\n",
       "      <th>count</th>\n",
       "    </tr>\n",
       "  </thead>\n",
       "  <tbody>\n",
       "    <tr>\n",
       "      <th>0</th>\n",
       "      <td>Height</td>\n",
       "      <td>25992</td>\n",
       "    </tr>\n",
       "    <tr>\n",
       "      <th>1</th>\n",
       "      <td>Body mass index</td>\n",
       "      <td>12983</td>\n",
       "    </tr>\n",
       "    <tr>\n",
       "      <th>2</th>\n",
       "      <td>Systolic blood pressure</td>\n",
       "      <td>5799</td>\n",
       "    </tr>\n",
       "    <tr>\n",
       "      <th>3</th>\n",
       "      <td>Bone mineral density mean</td>\n",
       "      <td>5547</td>\n",
       "    </tr>\n",
       "    <tr>\n",
       "      <th>4</th>\n",
       "      <td>Electrocardiogram morphology (amplitude at tem...</td>\n",
       "      <td>5501</td>\n",
       "    </tr>\n",
       "    <tr>\n",
       "      <th>...</th>\n",
       "      <td>...</td>\n",
       "      <td>...</td>\n",
       "    </tr>\n",
       "    <tr>\n",
       "      <th>36671</th>\n",
       "      <td>HLA DR++ monocyte %leukocyte</td>\n",
       "      <td>1</td>\n",
       "    </tr>\n",
       "    <tr>\n",
       "      <th>36672</th>\n",
       "      <td>HLA DR++ monocyte Absolute Count</td>\n",
       "      <td>1</td>\n",
       "    </tr>\n",
       "    <tr>\n",
       "      <th>36673</th>\n",
       "      <td>CD4+/CD8+ T cell</td>\n",
       "      <td>1</td>\n",
       "    </tr>\n",
       "    <tr>\n",
       "      <th>36674</th>\n",
       "      <td>CD4+ T cell Absolute Count</td>\n",
       "      <td>1</td>\n",
       "    </tr>\n",
       "    <tr>\n",
       "      <th>36675</th>\n",
       "      <td>Hereditary hemolytic anemias (PheCode 282)</td>\n",
       "      <td>1</td>\n",
       "    </tr>\n",
       "  </tbody>\n",
       "</table>\n",
       "<p>36676 rows × 2 columns</p>\n",
       "</div>"
      ],
      "text/plain": [
       "                                           DISEASE/TRAIT  count\n",
       "0                                                 Height  25992\n",
       "1                                        Body mass index  12983\n",
       "2                                Systolic blood pressure   5799\n",
       "3                              Bone mineral density mean   5547\n",
       "4      Electrocardiogram morphology (amplitude at tem...   5501\n",
       "...                                                  ...    ...\n",
       "36671                       HLA DR++ monocyte %leukocyte      1\n",
       "36672                   HLA DR++ monocyte Absolute Count      1\n",
       "36673                                   CD4+/CD8+ T cell      1\n",
       "36674                         CD4+ T cell Absolute Count      1\n",
       "36675         Hereditary hemolytic anemias (PheCode 282)      1\n",
       "\n",
       "[36676 rows x 2 columns]"
      ]
     },
     "execution_count": 30,
     "metadata": {},
     "output_type": "execute_result"
    }
   ],
   "source": [
    "gwas_disease"
   ]
  },
  {
   "cell_type": "code",
   "execution_count": 36,
   "metadata": {},
   "outputs": [],
   "source": [
    "gwas_disease = pd.DataFrame(gwas['DISEASE/TRAIT'])"
   ]
  },
  {
   "cell_type": "code",
   "execution_count": 76,
   "metadata": {},
   "outputs": [],
   "source": [
    "gwas_disease.to_csv('gwas_disease_trait_groups.csv')"
   ]
  },
  {
   "cell_type": "code",
   "execution_count": 117,
   "metadata": {},
   "outputs": [
    {
     "data": {
      "text/html": [
       "<div>\n",
       "<style scoped>\n",
       "    .dataframe tbody tr th:only-of-type {\n",
       "        vertical-align: middle;\n",
       "    }\n",
       "\n",
       "    .dataframe tbody tr th {\n",
       "        vertical-align: top;\n",
       "    }\n",
       "\n",
       "    .dataframe thead th {\n",
       "        text-align: right;\n",
       "    }\n",
       "</style>\n",
       "<table border=\"1\" class=\"dataframe\">\n",
       "  <thead>\n",
       "    <tr style=\"text-align: right;\">\n",
       "      <th></th>\n",
       "      <th>DATE ADDED TO CATALOG</th>\n",
       "      <th>PUBMEDID</th>\n",
       "      <th>FIRST AUTHOR</th>\n",
       "      <th>DATE</th>\n",
       "      <th>JOURNAL</th>\n",
       "      <th>LINK</th>\n",
       "      <th>STUDY</th>\n",
       "      <th>DISEASE/TRAIT</th>\n",
       "      <th>INITIAL SAMPLE SIZE</th>\n",
       "      <th>REPLICATION SAMPLE SIZE</th>\n",
       "      <th>...</th>\n",
       "      <th>RISK ALLELE FREQUENCY</th>\n",
       "      <th>P-VALUE</th>\n",
       "      <th>PVALUE_MLOG</th>\n",
       "      <th>P-VALUE (TEXT)</th>\n",
       "      <th>OR or BETA</th>\n",
       "      <th>95% CI (TEXT)</th>\n",
       "      <th>PLATFORM [SNPS PASSING QC]</th>\n",
       "      <th>CNV</th>\n",
       "      <th>Groups of Disease/Trait</th>\n",
       "      <th>Icon</th>\n",
       "    </tr>\n",
       "  </thead>\n",
       "  <tbody>\n",
       "    <tr>\n",
       "      <th>0</th>\n",
       "      <td>2015-12-18</td>\n",
       "      <td>25574825</td>\n",
       "      <td>Baurecht H</td>\n",
       "      <td>2015-01-08</td>\n",
       "      <td>Am J Hum Genet</td>\n",
       "      <td>www.ncbi.nlm.nih.gov/pubmed/25574825</td>\n",
       "      <td>Genome-wide comparative analysis of atopic der...</td>\n",
       "      <td>Inflammatory skin disease</td>\n",
       "      <td>2,079 European ancestry atopic dermatitis case...</td>\n",
       "      <td>NaN</td>\n",
       "      <td>...</td>\n",
       "      <td>NR</td>\n",
       "      <td>2.000000e-17</td>\n",
       "      <td>16.698970</td>\n",
       "      <td>(Atopic dermatitis)</td>\n",
       "      <td>1.23</td>\n",
       "      <td>[1.15–1.32]</td>\n",
       "      <td>Affymetrix, Illumina [~ 5200000]</td>\n",
       "      <td>N</td>\n",
       "      <td>Immune system disease</td>\n",
       "      <td>🛡️</td>\n",
       "    </tr>\n",
       "    <tr>\n",
       "      <th>1</th>\n",
       "      <td>2015-12-18</td>\n",
       "      <td>25574825</td>\n",
       "      <td>Baurecht H</td>\n",
       "      <td>2015-01-08</td>\n",
       "      <td>Am J Hum Genet</td>\n",
       "      <td>www.ncbi.nlm.nih.gov/pubmed/25574825</td>\n",
       "      <td>Genome-wide comparative analysis of atopic der...</td>\n",
       "      <td>Inflammatory skin disease</td>\n",
       "      <td>2,079 European ancestry atopic dermatitis case...</td>\n",
       "      <td>NaN</td>\n",
       "      <td>...</td>\n",
       "      <td>NR</td>\n",
       "      <td>9.000000e-16</td>\n",
       "      <td>15.045757</td>\n",
       "      <td>(Psoriasis)</td>\n",
       "      <td>1.27</td>\n",
       "      <td>[1.20–1.34]</td>\n",
       "      <td>Affymetrix, Illumina [~ 5200000]</td>\n",
       "      <td>N</td>\n",
       "      <td>Immune system disease</td>\n",
       "      <td>🛡️</td>\n",
       "    </tr>\n",
       "    <tr>\n",
       "      <th>2</th>\n",
       "      <td>2015-12-18</td>\n",
       "      <td>25574825</td>\n",
       "      <td>Baurecht H</td>\n",
       "      <td>2015-01-08</td>\n",
       "      <td>Am J Hum Genet</td>\n",
       "      <td>www.ncbi.nlm.nih.gov/pubmed/25574825</td>\n",
       "      <td>Genome-wide comparative analysis of atopic der...</td>\n",
       "      <td>Inflammatory skin disease</td>\n",
       "      <td>2,079 European ancestry atopic dermatitis case...</td>\n",
       "      <td>NaN</td>\n",
       "      <td>...</td>\n",
       "      <td>NR</td>\n",
       "      <td>5.000000e-25</td>\n",
       "      <td>24.301030</td>\n",
       "      <td>(Atopic dermatitis)</td>\n",
       "      <td>1.49</td>\n",
       "      <td>[1.38–1.61]</td>\n",
       "      <td>Affymetrix, Illumina [~ 5200000]</td>\n",
       "      <td>N</td>\n",
       "      <td>Immune system disease</td>\n",
       "      <td>🛡️</td>\n",
       "    </tr>\n",
       "    <tr>\n",
       "      <th>3</th>\n",
       "      <td>2015-12-18</td>\n",
       "      <td>25574825</td>\n",
       "      <td>Baurecht H</td>\n",
       "      <td>2015-01-08</td>\n",
       "      <td>Am J Hum Genet</td>\n",
       "      <td>www.ncbi.nlm.nih.gov/pubmed/25574825</td>\n",
       "      <td>Genome-wide comparative analysis of atopic der...</td>\n",
       "      <td>Inflammatory skin disease</td>\n",
       "      <td>2,079 European ancestry atopic dermatitis case...</td>\n",
       "      <td>NaN</td>\n",
       "      <td>...</td>\n",
       "      <td>NR</td>\n",
       "      <td>2.000000e-14</td>\n",
       "      <td>13.698970</td>\n",
       "      <td>(Psoriasis)</td>\n",
       "      <td>1.29</td>\n",
       "      <td>[1.21–1.38]</td>\n",
       "      <td>Affymetrix, Illumina [~ 5200000]</td>\n",
       "      <td>N</td>\n",
       "      <td>Immune system disease</td>\n",
       "      <td>🛡️</td>\n",
       "    </tr>\n",
       "    <tr>\n",
       "      <th>4</th>\n",
       "      <td>2015-12-18</td>\n",
       "      <td>25574825</td>\n",
       "      <td>Baurecht H</td>\n",
       "      <td>2015-01-08</td>\n",
       "      <td>Am J Hum Genet</td>\n",
       "      <td>www.ncbi.nlm.nih.gov/pubmed/25574825</td>\n",
       "      <td>Genome-wide comparative analysis of atopic der...</td>\n",
       "      <td>Inflammatory skin disease</td>\n",
       "      <td>2,079 European ancestry atopic dermatitis case...</td>\n",
       "      <td>NaN</td>\n",
       "      <td>...</td>\n",
       "      <td>NR</td>\n",
       "      <td>2.000000e-12</td>\n",
       "      <td>11.698970</td>\n",
       "      <td>(Atopic dermatitis)</td>\n",
       "      <td>1.54</td>\n",
       "      <td>[1.37–1.73]</td>\n",
       "      <td>Affymetrix, Illumina [~ 5200000]</td>\n",
       "      <td>N</td>\n",
       "      <td>Immune system disease</td>\n",
       "      <td>🛡️</td>\n",
       "    </tr>\n",
       "  </tbody>\n",
       "</table>\n",
       "<p>5 rows × 36 columns</p>\n",
       "</div>"
      ],
      "text/plain": [
       "  DATE ADDED TO CATALOG  PUBMEDID FIRST AUTHOR        DATE         JOURNAL  \\\n",
       "0            2015-12-18  25574825   Baurecht H  2015-01-08  Am J Hum Genet   \n",
       "1            2015-12-18  25574825   Baurecht H  2015-01-08  Am J Hum Genet   \n",
       "2            2015-12-18  25574825   Baurecht H  2015-01-08  Am J Hum Genet   \n",
       "3            2015-12-18  25574825   Baurecht H  2015-01-08  Am J Hum Genet   \n",
       "4            2015-12-18  25574825   Baurecht H  2015-01-08  Am J Hum Genet   \n",
       "\n",
       "                                   LINK  \\\n",
       "0  www.ncbi.nlm.nih.gov/pubmed/25574825   \n",
       "1  www.ncbi.nlm.nih.gov/pubmed/25574825   \n",
       "2  www.ncbi.nlm.nih.gov/pubmed/25574825   \n",
       "3  www.ncbi.nlm.nih.gov/pubmed/25574825   \n",
       "4  www.ncbi.nlm.nih.gov/pubmed/25574825   \n",
       "\n",
       "                                               STUDY  \\\n",
       "0  Genome-wide comparative analysis of atopic der...   \n",
       "1  Genome-wide comparative analysis of atopic der...   \n",
       "2  Genome-wide comparative analysis of atopic der...   \n",
       "3  Genome-wide comparative analysis of atopic der...   \n",
       "4  Genome-wide comparative analysis of atopic der...   \n",
       "\n",
       "               DISEASE/TRAIT  \\\n",
       "0  Inflammatory skin disease   \n",
       "1  Inflammatory skin disease   \n",
       "2  Inflammatory skin disease   \n",
       "3  Inflammatory skin disease   \n",
       "4  Inflammatory skin disease   \n",
       "\n",
       "                                 INITIAL SAMPLE SIZE REPLICATION SAMPLE SIZE  \\\n",
       "0  2,079 European ancestry atopic dermatitis case...                     NaN   \n",
       "1  2,079 European ancestry atopic dermatitis case...                     NaN   \n",
       "2  2,079 European ancestry atopic dermatitis case...                     NaN   \n",
       "3  2,079 European ancestry atopic dermatitis case...                     NaN   \n",
       "4  2,079 European ancestry atopic dermatitis case...                     NaN   \n",
       "\n",
       "   ... RISK ALLELE FREQUENCY       P-VALUE PVALUE_MLOG       P-VALUE (TEXT)  \\\n",
       "0  ...                    NR  2.000000e-17   16.698970  (Atopic dermatitis)   \n",
       "1  ...                    NR  9.000000e-16   15.045757          (Psoriasis)   \n",
       "2  ...                    NR  5.000000e-25   24.301030  (Atopic dermatitis)   \n",
       "3  ...                    NR  2.000000e-14   13.698970          (Psoriasis)   \n",
       "4  ...                    NR  2.000000e-12   11.698970  (Atopic dermatitis)   \n",
       "\n",
       "  OR or BETA 95% CI (TEXT)        PLATFORM [SNPS PASSING QC] CNV  \\\n",
       "0       1.23   [1.15–1.32]  Affymetrix, Illumina [~ 5200000]   N   \n",
       "1       1.27   [1.20–1.34]  Affymetrix, Illumina [~ 5200000]   N   \n",
       "2       1.49   [1.38–1.61]  Affymetrix, Illumina [~ 5200000]   N   \n",
       "3       1.29   [1.21–1.38]  Affymetrix, Illumina [~ 5200000]   N   \n",
       "4       1.54   [1.37–1.73]  Affymetrix, Illumina [~ 5200000]   N   \n",
       "\n",
       "   Groups of Disease/Trait  Icon  \n",
       "0    Immune system disease    🛡️  \n",
       "1    Immune system disease    🛡️  \n",
       "2    Immune system disease    🛡️  \n",
       "3    Immune system disease    🛡️  \n",
       "4    Immune system disease    🛡️  \n",
       "\n",
       "[5 rows x 36 columns]"
      ]
     },
     "execution_count": 117,
     "metadata": {},
     "output_type": "execute_result"
    }
   ],
   "source": [
    "# Define mapping of keywords to groups\n",
    "group_keywords = {\n",
    "    \"Digestive system disease\": [\"digestive\", \"stomach\", \"intestinal\", \"colon\", \"gut\", \"esophageal\", \"bowel\", \"hepatic\"],\n",
    "    \"Cardiovascular disease\": [\"cardio\", \"heart\", \"vascular\", \"blood pressure\", \"hypertension\", \"artery\", \"stroke\", \"cholesterol\"],\n",
    "    \"Metabolic disease\": [\"metabolic\", \"diabetes\", \"obesity\", \"insulin\", \"glucose\", \"metabolism\", \"metabolic syndrome\"],\n",
    "    \"Immune system disease\": [\"immune\", \"autoimmune\", \"immunoglobulin\", \"inflammatory\", \"allergic\", \"allergy\", \"asthma\", \"immunity\", \"cytokine\", \"IgA\", \"IgE\", \"IgG\", \"IgM\"],\n",
    "    \"Neurodevelopmental Disorder\": [\n",
    "        \"autism\", \"ASD\", \"spectrum disorder\", \"ADHD\", \"learning disability\", \n",
    "        \"intellectual disability\", \"developmental delay\", \"social communication\"\n",
    "    ],\n",
    "    \"Mental disorder\": [\n",
    "        \"mental\", \"anxiety\", \"depression\", \"schizophrenia\", \"bipolar\", \"OCD\", \n",
    "        \"PTSD\", \"phobia\", \"panic disorder\", \"eating disorder\", \"mood disorder\", \n",
    "        \"personality disorder\", \"sleep disorder\", \"suicide\", \"stress\", \"addiction\", \n",
    "        \"substance abuse\"\n",
    "    ],\n",
    "    \"Nervous system disease\": [\n",
    "        \"nervous\", \"neuro\", \"brain\", \"cognitive\", \"parkinson\", \"alzheimer\", \n",
    "        \"epilepsy\", \"dementia\", \"seizure\"\n",
    "    ],\n",
    "    \"Liver disease\": [\"liver\", \"hepatic\", \"cirrhosis\", \"fibrosis\", \"liver failure\", \"Hepatitis\"],\n",
    "    \"Lipid or lipoprotein measurement\": [\"lipid\", \"cholesterol\", \"lipoprotein\", \"triglyceride\", \"fatty acid\", \"HDL\", \"LDL\", \"VLDL\", \"apolipoprotein\"],\n",
    "    \"Inflammatory marker measurement\": [\"inflammatory\", \"CRP\", \"cytokine\", \"marker\", \"inflammation\", \"IL-6\", \"TNF-alpha\", \"interleukin\"],\n",
    "    \"Hematological measurement\": [\"hematological\", \"blood cell\", \"hemoglobin\", \"platelet\", \"leukocyte\", \"erythrocyte\", \"anemia\", \"hematocrit\", \"WBC\", \"RBC\"],\n",
    "    \"Body measurement\": [\"height\", \"weight\", \"BMI\", \"body mass\", \"waist\", \"fat percentage\", \"bone density\", \"hip circumference\", \"body composition\", \"lean mass\"],\n",
    "    \"Cardiovascular measurement\": [\"cardiovascular\", \"ECG\", \"heart rate\", \"blood flow\", \"pulse\", \"arterial\", \"QT interval\", \"systolic\", \"diastolic\"],\n",
    "    \"Other measurement\": [\"measurement\", \"biomarker\", \"assay\", \"quantification\", \"test\", \"screening\", \"diagnostic\"],\n",
    "    \"Response to drug\": [\"drug\", \"pharma\", \"response\", \"medication\", \"treatment\", \"efficacy\", \"side effect\", \"therapy\", \"pharmacogenomics\"],\n",
    "    \"Biological process\": [\"biological\", \"pathway\", \"process\", \"genomic\", \"transcription\", \"translation\", \"protein expression\", \"cell signaling\", \"epigenetic\"],\n",
    "    \"Cancer\": [\"cancer\", \"tumor\", \"neoplasm\", \"carcinoma\", \"oncology\", \"melanoma\", \"leukemia\", \"lymphoma\", \"metastasis\", \"malignant\", \"Breast cancer\", \"prostate cancer\", \"lung cancer\", \"colorectal cancer\", 'sarcoma'],\n",
    "    \"Liver enzyme measurement\": [\"liver\", \"alanine\", \"aspartate\", \"enzyme\", \"hepatic\", \"bilirubin\", \"ALT\", \"AST\", \"GGT\"],\n",
    "    \"Other disease\": [\"disease\", \"syndrome\", \"condition\", \"disorder\", \"illness\", \"pathology\", \"chronic\", \"acute\"],\n",
    "    \"Other trait\": []  # Default category for unclassified traits\n",
    "}\n",
    "\n",
    "\n",
    "'''# Function to assign group based on keywords is contauined in the group_keywords dictionary\n",
    "def assign_group(text): # text is the disease/trait column\n",
    "    text = text.lower() # Convert to lowercase for case-insensitive matching\n",
    "    for group, keywords in group_keywords.items(): # Iterate over the dictionary items\n",
    "        for keyword in keywords: # Iterate over the list of keywords for each group \n",
    "            if keyword.lower() in text:\n",
    "                return group\n",
    "    return \"Other trait\"'''\n",
    "\n",
    "def assign_group(disease_trait):\n",
    "    for group, keywords in group_keywords.items():\n",
    "        for keyword in keywords:\n",
    "            if keyword.lower() in disease_trait.lower():\n",
    "                return group\n",
    "    return \"Other trait\"\n",
    "\n",
    "# Apply the function to create the new column\n",
    "gwas['Groups of Disease/Trait'] = gwas['DISEASE/TRAIT'].apply(assign_group)\n",
    "\n",
    "gwas.to_csv('gwas_catalog_grouped.csv')\n",
    "# Display a sample of the updated dataset\n",
    "gwas.head()"
   ]
  },
  {
   "cell_type": "code",
   "execution_count": null,
   "metadata": {},
   "outputs": [],
   "source": []
  },
  {
   "cell_type": "code",
   "execution_count": 98,
   "metadata": {},
   "outputs": [],
   "source": [
    "disease = gwas['DISEASE/TRAIT'].value_counts().reset_index()"
   ]
  },
  {
   "cell_type": "code",
   "execution_count": 92,
   "metadata": {},
   "outputs": [],
   "source": [
    "disease.to_csv('gwas_disease_trait_groups.csv')"
   ]
  },
  {
   "cell_type": "code",
   "execution_count": null,
   "metadata": {},
   "outputs": [],
   "source": []
  },
  {
   "cell_type": "code",
   "execution_count": 108,
   "metadata": {},
   "outputs": [],
   "source": [
    "\n",
    "test = gwas.loc[gwas['DISEASE/TRAIT'] == 'Breast cancer']"
   ]
  },
  {
   "cell_type": "code",
   "execution_count": 109,
   "metadata": {},
   "outputs": [
    {
     "data": {
      "text/html": [
       "<div>\n",
       "<style scoped>\n",
       "    .dataframe tbody tr th:only-of-type {\n",
       "        vertical-align: middle;\n",
       "    }\n",
       "\n",
       "    .dataframe tbody tr th {\n",
       "        vertical-align: top;\n",
       "    }\n",
       "\n",
       "    .dataframe thead th {\n",
       "        text-align: right;\n",
       "    }\n",
       "</style>\n",
       "<table border=\"1\" class=\"dataframe\">\n",
       "  <thead>\n",
       "    <tr style=\"text-align: right;\">\n",
       "      <th></th>\n",
       "      <th>DATE ADDED TO CATALOG</th>\n",
       "      <th>PUBMEDID</th>\n",
       "      <th>FIRST AUTHOR</th>\n",
       "      <th>DATE</th>\n",
       "      <th>JOURNAL</th>\n",
       "      <th>LINK</th>\n",
       "      <th>STUDY</th>\n",
       "      <th>DISEASE/TRAIT</th>\n",
       "      <th>INITIAL SAMPLE SIZE</th>\n",
       "      <th>REPLICATION SAMPLE SIZE</th>\n",
       "      <th>...</th>\n",
       "      <th>RISK ALLELE FREQUENCY</th>\n",
       "      <th>P-VALUE</th>\n",
       "      <th>PVALUE_MLOG</th>\n",
       "      <th>P-VALUE (TEXT)</th>\n",
       "      <th>OR or BETA</th>\n",
       "      <th>95% CI (TEXT)</th>\n",
       "      <th>PLATFORM [SNPS PASSING QC]</th>\n",
       "      <th>CNV</th>\n",
       "      <th>Groups of Disease/Trait</th>\n",
       "      <th>Icon</th>\n",
       "    </tr>\n",
       "  </thead>\n",
       "  <tbody>\n",
       "    <tr>\n",
       "      <th>928</th>\n",
       "      <td>2015-05-16</td>\n",
       "      <td>25327703</td>\n",
       "      <td>Fejerman L</td>\n",
       "      <td>2014-10-20</td>\n",
       "      <td>Nat Commun</td>\n",
       "      <td>www.ncbi.nlm.nih.gov/pubmed/25327703</td>\n",
       "      <td>Genome-wide association study of breast cancer...</td>\n",
       "      <td>Breast cancer</td>\n",
       "      <td>1,497 Latino cases, 3,213 Latino controls</td>\n",
       "      <td>1,643 Latino cases, 4,971 Latino controls</td>\n",
       "      <td>...</td>\n",
       "      <td>0.31</td>\n",
       "      <td>3.000000e-09</td>\n",
       "      <td>8.522879</td>\n",
       "      <td>NaN</td>\n",
       "      <td>1.3800</td>\n",
       "      <td>[1.24-1.54]</td>\n",
       "      <td>Affymetrix, Illumina [7229558] (imputed)</td>\n",
       "      <td>N</td>\n",
       "      <td>Cancer</td>\n",
       "      <td>🧪</td>\n",
       "    </tr>\n",
       "    <tr>\n",
       "      <th>929</th>\n",
       "      <td>2015-05-16</td>\n",
       "      <td>25327703</td>\n",
       "      <td>Fejerman L</td>\n",
       "      <td>2014-10-20</td>\n",
       "      <td>Nat Commun</td>\n",
       "      <td>www.ncbi.nlm.nih.gov/pubmed/25327703</td>\n",
       "      <td>Genome-wide association study of breast cancer...</td>\n",
       "      <td>Breast cancer</td>\n",
       "      <td>1,497 Latino cases, 3,213 Latino controls</td>\n",
       "      <td>1,643 Latino cases, 4,971 Latino controls</td>\n",
       "      <td>...</td>\n",
       "      <td>0.93</td>\n",
       "      <td>9.000000e-18</td>\n",
       "      <td>17.045757</td>\n",
       "      <td>NaN</td>\n",
       "      <td>1.6700</td>\n",
       "      <td>[1.49-1.89]</td>\n",
       "      <td>Affymetrix, Illumina [7229558] (imputed)</td>\n",
       "      <td>N</td>\n",
       "      <td>Cancer</td>\n",
       "      <td>🧪</td>\n",
       "    </tr>\n",
       "    <tr>\n",
       "      <th>2135</th>\n",
       "      <td>2015-04-01</td>\n",
       "      <td>25038754</td>\n",
       "      <td>Cai Q</td>\n",
       "      <td>2014-07-20</td>\n",
       "      <td>Nat Genet</td>\n",
       "      <td>www.ncbi.nlm.nih.gov/pubmed/25038754</td>\n",
       "      <td>Genome-wide association analysis in East Asian...</td>\n",
       "      <td>Breast cancer</td>\n",
       "      <td>2,867 Chinese ancestry cases, 2,285 Chinese an...</td>\n",
       "      <td>5,029 Chinese ancestry cases, 5,302 Chinese an...</td>\n",
       "      <td>...</td>\n",
       "      <td>0.282</td>\n",
       "      <td>9.000000e-09</td>\n",
       "      <td>8.045757</td>\n",
       "      <td>(East Asian)</td>\n",
       "      <td>1.0900</td>\n",
       "      <td>[1.06-1.12]</td>\n",
       "      <td>Affymetrix [up to 1930412] (imputed)</td>\n",
       "      <td>N</td>\n",
       "      <td>Cancer</td>\n",
       "      <td>🧪</td>\n",
       "    </tr>\n",
       "    <tr>\n",
       "      <th>2136</th>\n",
       "      <td>2015-04-01</td>\n",
       "      <td>25038754</td>\n",
       "      <td>Cai Q</td>\n",
       "      <td>2014-07-20</td>\n",
       "      <td>Nat Genet</td>\n",
       "      <td>www.ncbi.nlm.nih.gov/pubmed/25038754</td>\n",
       "      <td>Genome-wide association analysis in East Asian...</td>\n",
       "      <td>Breast cancer</td>\n",
       "      <td>2,867 Chinese ancestry cases, 2,285 Chinese an...</td>\n",
       "      <td>5,029 Chinese ancestry cases, 5,302 Chinese an...</td>\n",
       "      <td>...</td>\n",
       "      <td>0.482</td>\n",
       "      <td>2.000000e-09</td>\n",
       "      <td>8.698970</td>\n",
       "      <td>(East Asian)</td>\n",
       "      <td>1.0900</td>\n",
       "      <td>[1.06-1.12]</td>\n",
       "      <td>Affymetrix [up to 1930412] (imputed)</td>\n",
       "      <td>N</td>\n",
       "      <td>Cancer</td>\n",
       "      <td>🧪</td>\n",
       "    </tr>\n",
       "    <tr>\n",
       "      <th>2137</th>\n",
       "      <td>2015-04-01</td>\n",
       "      <td>25038754</td>\n",
       "      <td>Cai Q</td>\n",
       "      <td>2014-07-20</td>\n",
       "      <td>Nat Genet</td>\n",
       "      <td>www.ncbi.nlm.nih.gov/pubmed/25038754</td>\n",
       "      <td>Genome-wide association analysis in East Asian...</td>\n",
       "      <td>Breast cancer</td>\n",
       "      <td>2,867 Chinese ancestry cases, 2,285 Chinese an...</td>\n",
       "      <td>5,029 Chinese ancestry cases, 5,302 Chinese an...</td>\n",
       "      <td>...</td>\n",
       "      <td>0.504</td>\n",
       "      <td>4.000000e-08</td>\n",
       "      <td>7.397940</td>\n",
       "      <td>(East Asian)</td>\n",
       "      <td>1.0800</td>\n",
       "      <td>[1.05-1.11]</td>\n",
       "      <td>Affymetrix [up to 1930412] (imputed)</td>\n",
       "      <td>N</td>\n",
       "      <td>Cancer</td>\n",
       "      <td>🧪</td>\n",
       "    </tr>\n",
       "    <tr>\n",
       "      <th>...</th>\n",
       "      <td>...</td>\n",
       "      <td>...</td>\n",
       "      <td>...</td>\n",
       "      <td>...</td>\n",
       "      <td>...</td>\n",
       "      <td>...</td>\n",
       "      <td>...</td>\n",
       "      <td>...</td>\n",
       "      <td>...</td>\n",
       "      <td>...</td>\n",
       "      <td>...</td>\n",
       "      <td>...</td>\n",
       "      <td>...</td>\n",
       "      <td>...</td>\n",
       "      <td>...</td>\n",
       "      <td>...</td>\n",
       "      <td>...</td>\n",
       "      <td>...</td>\n",
       "      <td>...</td>\n",
       "      <td>...</td>\n",
       "      <td>...</td>\n",
       "    </tr>\n",
       "    <tr>\n",
       "      <th>679270</th>\n",
       "      <td>2024-05-16</td>\n",
       "      <td>38741014</td>\n",
       "      <td>Jia G</td>\n",
       "      <td>2024-05-13</td>\n",
       "      <td>Nat Genet</td>\n",
       "      <td>www.ncbi.nlm.nih.gov/pubmed/38741014</td>\n",
       "      <td>Genome-wide association analyses of breast can...</td>\n",
       "      <td>Breast cancer</td>\n",
       "      <td>18,034 African or African American cases, 22,1...</td>\n",
       "      <td>NaN</td>\n",
       "      <td>...</td>\n",
       "      <td>0.18830000000000002</td>\n",
       "      <td>8.000000e-08</td>\n",
       "      <td>7.096910</td>\n",
       "      <td>NaN</td>\n",
       "      <td>1.1100</td>\n",
       "      <td>[1.07-1.16]</td>\n",
       "      <td>Affymetrix, Illumina [15344198] (imputed)</td>\n",
       "      <td>N</td>\n",
       "      <td>Cancer</td>\n",
       "      <td>🧪</td>\n",
       "    </tr>\n",
       "    <tr>\n",
       "      <th>679271</th>\n",
       "      <td>2024-05-16</td>\n",
       "      <td>38741014</td>\n",
       "      <td>Jia G</td>\n",
       "      <td>2024-05-13</td>\n",
       "      <td>Nat Genet</td>\n",
       "      <td>www.ncbi.nlm.nih.gov/pubmed/38741014</td>\n",
       "      <td>Genome-wide association analyses of breast can...</td>\n",
       "      <td>Breast cancer</td>\n",
       "      <td>18,034 African or African American cases, 22,1...</td>\n",
       "      <td>NaN</td>\n",
       "      <td>...</td>\n",
       "      <td>0.3386</td>\n",
       "      <td>2.000000e-07</td>\n",
       "      <td>6.698970</td>\n",
       "      <td>NaN</td>\n",
       "      <td>0.0858</td>\n",
       "      <td>[0.053-0.118] unit decrease</td>\n",
       "      <td>Affymetrix, Illumina [15344198] (imputed)</td>\n",
       "      <td>N</td>\n",
       "      <td>Cancer</td>\n",
       "      <td>🧪</td>\n",
       "    </tr>\n",
       "    <tr>\n",
       "      <th>679272</th>\n",
       "      <td>2024-05-16</td>\n",
       "      <td>38741014</td>\n",
       "      <td>Jia G</td>\n",
       "      <td>2024-05-13</td>\n",
       "      <td>Nat Genet</td>\n",
       "      <td>www.ncbi.nlm.nih.gov/pubmed/38741014</td>\n",
       "      <td>Genome-wide association analyses of breast can...</td>\n",
       "      <td>Breast cancer</td>\n",
       "      <td>18,034 African or African American cases, 22,1...</td>\n",
       "      <td>NaN</td>\n",
       "      <td>...</td>\n",
       "      <td>0.7125</td>\n",
       "      <td>5.000000e-06</td>\n",
       "      <td>5.301030</td>\n",
       "      <td>NaN</td>\n",
       "      <td>0.0784</td>\n",
       "      <td>[0.045-0.112] unit decrease</td>\n",
       "      <td>Affymetrix, Illumina [15344198] (imputed)</td>\n",
       "      <td>N</td>\n",
       "      <td>Cancer</td>\n",
       "      <td>🧪</td>\n",
       "    </tr>\n",
       "    <tr>\n",
       "      <th>679273</th>\n",
       "      <td>2024-05-16</td>\n",
       "      <td>38741014</td>\n",
       "      <td>Jia G</td>\n",
       "      <td>2024-05-13</td>\n",
       "      <td>Nat Genet</td>\n",
       "      <td>www.ncbi.nlm.nih.gov/pubmed/38741014</td>\n",
       "      <td>Genome-wide association analyses of breast can...</td>\n",
       "      <td>Breast cancer</td>\n",
       "      <td>18,034 African or African American cases, 22,1...</td>\n",
       "      <td>NaN</td>\n",
       "      <td>...</td>\n",
       "      <td>0.1929</td>\n",
       "      <td>6.000000e-07</td>\n",
       "      <td>6.221849</td>\n",
       "      <td>NaN</td>\n",
       "      <td>0.1019</td>\n",
       "      <td>[0.062-0.142] unit decrease</td>\n",
       "      <td>Affymetrix, Illumina [15344198] (imputed)</td>\n",
       "      <td>N</td>\n",
       "      <td>Cancer</td>\n",
       "      <td>🧪</td>\n",
       "    </tr>\n",
       "    <tr>\n",
       "      <th>679274</th>\n",
       "      <td>2024-05-16</td>\n",
       "      <td>38741014</td>\n",
       "      <td>Jia G</td>\n",
       "      <td>2024-05-13</td>\n",
       "      <td>Nat Genet</td>\n",
       "      <td>www.ncbi.nlm.nih.gov/pubmed/38741014</td>\n",
       "      <td>Genome-wide association analyses of breast can...</td>\n",
       "      <td>Breast cancer</td>\n",
       "      <td>18,034 African or African American cases, 22,1...</td>\n",
       "      <td>NaN</td>\n",
       "      <td>...</td>\n",
       "      <td>0.5154</td>\n",
       "      <td>2.000000e-06</td>\n",
       "      <td>5.698970</td>\n",
       "      <td>NaN</td>\n",
       "      <td>0.0756</td>\n",
       "      <td>[0.045-0.107] unit increase</td>\n",
       "      <td>Affymetrix, Illumina [15344198] (imputed)</td>\n",
       "      <td>N</td>\n",
       "      <td>Cancer</td>\n",
       "      <td>🧪</td>\n",
       "    </tr>\n",
       "  </tbody>\n",
       "</table>\n",
       "<p>1681 rows × 36 columns</p>\n",
       "</div>"
      ],
      "text/plain": [
       "       DATE ADDED TO CATALOG  PUBMEDID FIRST AUTHOR        DATE     JOURNAL  \\\n",
       "928               2015-05-16  25327703   Fejerman L  2014-10-20  Nat Commun   \n",
       "929               2015-05-16  25327703   Fejerman L  2014-10-20  Nat Commun   \n",
       "2135              2015-04-01  25038754        Cai Q  2014-07-20   Nat Genet   \n",
       "2136              2015-04-01  25038754        Cai Q  2014-07-20   Nat Genet   \n",
       "2137              2015-04-01  25038754        Cai Q  2014-07-20   Nat Genet   \n",
       "...                      ...       ...          ...         ...         ...   \n",
       "679270            2024-05-16  38741014        Jia G  2024-05-13   Nat Genet   \n",
       "679271            2024-05-16  38741014        Jia G  2024-05-13   Nat Genet   \n",
       "679272            2024-05-16  38741014        Jia G  2024-05-13   Nat Genet   \n",
       "679273            2024-05-16  38741014        Jia G  2024-05-13   Nat Genet   \n",
       "679274            2024-05-16  38741014        Jia G  2024-05-13   Nat Genet   \n",
       "\n",
       "                                        LINK  \\\n",
       "928     www.ncbi.nlm.nih.gov/pubmed/25327703   \n",
       "929     www.ncbi.nlm.nih.gov/pubmed/25327703   \n",
       "2135    www.ncbi.nlm.nih.gov/pubmed/25038754   \n",
       "2136    www.ncbi.nlm.nih.gov/pubmed/25038754   \n",
       "2137    www.ncbi.nlm.nih.gov/pubmed/25038754   \n",
       "...                                      ...   \n",
       "679270  www.ncbi.nlm.nih.gov/pubmed/38741014   \n",
       "679271  www.ncbi.nlm.nih.gov/pubmed/38741014   \n",
       "679272  www.ncbi.nlm.nih.gov/pubmed/38741014   \n",
       "679273  www.ncbi.nlm.nih.gov/pubmed/38741014   \n",
       "679274  www.ncbi.nlm.nih.gov/pubmed/38741014   \n",
       "\n",
       "                                                    STUDY  DISEASE/TRAIT  \\\n",
       "928     Genome-wide association study of breast cancer...  Breast cancer   \n",
       "929     Genome-wide association study of breast cancer...  Breast cancer   \n",
       "2135    Genome-wide association analysis in East Asian...  Breast cancer   \n",
       "2136    Genome-wide association analysis in East Asian...  Breast cancer   \n",
       "2137    Genome-wide association analysis in East Asian...  Breast cancer   \n",
       "...                                                   ...            ...   \n",
       "679270  Genome-wide association analyses of breast can...  Breast cancer   \n",
       "679271  Genome-wide association analyses of breast can...  Breast cancer   \n",
       "679272  Genome-wide association analyses of breast can...  Breast cancer   \n",
       "679273  Genome-wide association analyses of breast can...  Breast cancer   \n",
       "679274  Genome-wide association analyses of breast can...  Breast cancer   \n",
       "\n",
       "                                      INITIAL SAMPLE SIZE  \\\n",
       "928             1,497 Latino cases, 3,213 Latino controls   \n",
       "929             1,497 Latino cases, 3,213 Latino controls   \n",
       "2135    2,867 Chinese ancestry cases, 2,285 Chinese an...   \n",
       "2136    2,867 Chinese ancestry cases, 2,285 Chinese an...   \n",
       "2137    2,867 Chinese ancestry cases, 2,285 Chinese an...   \n",
       "...                                                   ...   \n",
       "679270  18,034 African or African American cases, 22,1...   \n",
       "679271  18,034 African or African American cases, 22,1...   \n",
       "679272  18,034 African or African American cases, 22,1...   \n",
       "679273  18,034 African or African American cases, 22,1...   \n",
       "679274  18,034 African or African American cases, 22,1...   \n",
       "\n",
       "                                  REPLICATION SAMPLE SIZE  ...  \\\n",
       "928             1,643 Latino cases, 4,971 Latino controls  ...   \n",
       "929             1,643 Latino cases, 4,971 Latino controls  ...   \n",
       "2135    5,029 Chinese ancestry cases, 5,302 Chinese an...  ...   \n",
       "2136    5,029 Chinese ancestry cases, 5,302 Chinese an...  ...   \n",
       "2137    5,029 Chinese ancestry cases, 5,302 Chinese an...  ...   \n",
       "...                                                   ...  ...   \n",
       "679270                                                NaN  ...   \n",
       "679271                                                NaN  ...   \n",
       "679272                                                NaN  ...   \n",
       "679273                                                NaN  ...   \n",
       "679274                                                NaN  ...   \n",
       "\n",
       "       RISK ALLELE FREQUENCY       P-VALUE PVALUE_MLOG P-VALUE (TEXT)  \\\n",
       "928                     0.31  3.000000e-09    8.522879            NaN   \n",
       "929                     0.93  9.000000e-18   17.045757            NaN   \n",
       "2135                   0.282  9.000000e-09    8.045757   (East Asian)   \n",
       "2136                   0.482  2.000000e-09    8.698970   (East Asian)   \n",
       "2137                   0.504  4.000000e-08    7.397940   (East Asian)   \n",
       "...                      ...           ...         ...            ...   \n",
       "679270   0.18830000000000002  8.000000e-08    7.096910            NaN   \n",
       "679271                0.3386  2.000000e-07    6.698970            NaN   \n",
       "679272                0.7125  5.000000e-06    5.301030            NaN   \n",
       "679273                0.1929  6.000000e-07    6.221849            NaN   \n",
       "679274                0.5154  2.000000e-06    5.698970            NaN   \n",
       "\n",
       "       OR or BETA                95% CI (TEXT)  \\\n",
       "928        1.3800                  [1.24-1.54]   \n",
       "929        1.6700                  [1.49-1.89]   \n",
       "2135       1.0900                  [1.06-1.12]   \n",
       "2136       1.0900                  [1.06-1.12]   \n",
       "2137       1.0800                  [1.05-1.11]   \n",
       "...           ...                          ...   \n",
       "679270     1.1100                  [1.07-1.16]   \n",
       "679271     0.0858  [0.053-0.118] unit decrease   \n",
       "679272     0.0784  [0.045-0.112] unit decrease   \n",
       "679273     0.1019  [0.062-0.142] unit decrease   \n",
       "679274     0.0756  [0.045-0.107] unit increase   \n",
       "\n",
       "                       PLATFORM [SNPS PASSING QC] CNV  \\\n",
       "928      Affymetrix, Illumina [7229558] (imputed)   N   \n",
       "929      Affymetrix, Illumina [7229558] (imputed)   N   \n",
       "2135         Affymetrix [up to 1930412] (imputed)   N   \n",
       "2136         Affymetrix [up to 1930412] (imputed)   N   \n",
       "2137         Affymetrix [up to 1930412] (imputed)   N   \n",
       "...                                           ...  ..   \n",
       "679270  Affymetrix, Illumina [15344198] (imputed)   N   \n",
       "679271  Affymetrix, Illumina [15344198] (imputed)   N   \n",
       "679272  Affymetrix, Illumina [15344198] (imputed)   N   \n",
       "679273  Affymetrix, Illumina [15344198] (imputed)   N   \n",
       "679274  Affymetrix, Illumina [15344198] (imputed)   N   \n",
       "\n",
       "        Groups of Disease/Trait  Icon  \n",
       "928                      Cancer     🧪  \n",
       "929                      Cancer     🧪  \n",
       "2135                     Cancer     🧪  \n",
       "2136                     Cancer     🧪  \n",
       "2137                     Cancer     🧪  \n",
       "...                         ...   ...  \n",
       "679270                   Cancer     🧪  \n",
       "679271                   Cancer     🧪  \n",
       "679272                   Cancer     🧪  \n",
       "679273                   Cancer     🧪  \n",
       "679274                   Cancer     🧪  \n",
       "\n",
       "[1681 rows x 36 columns]"
      ]
     },
     "execution_count": 109,
     "metadata": {},
     "output_type": "execute_result"
    }
   ],
   "source": [
    "test"
   ]
  },
  {
   "cell_type": "code",
   "execution_count": 72,
   "metadata": {},
   "outputs": [
    {
     "data": {
      "text/html": [
       "<div>\n",
       "<style scoped>\n",
       "    .dataframe tbody tr th:only-of-type {\n",
       "        vertical-align: middle;\n",
       "    }\n",
       "\n",
       "    .dataframe tbody tr th {\n",
       "        vertical-align: top;\n",
       "    }\n",
       "\n",
       "    .dataframe thead th {\n",
       "        text-align: right;\n",
       "    }\n",
       "</style>\n",
       "<table border=\"1\" class=\"dataframe\">\n",
       "  <thead>\n",
       "    <tr style=\"text-align: right;\">\n",
       "      <th></th>\n",
       "      <th>DATE ADDED TO CATALOG</th>\n",
       "      <th>PUBMEDID</th>\n",
       "      <th>FIRST AUTHOR</th>\n",
       "      <th>DATE</th>\n",
       "      <th>JOURNAL</th>\n",
       "      <th>LINK</th>\n",
       "      <th>STUDY</th>\n",
       "      <th>DISEASE/TRAIT</th>\n",
       "      <th>INITIAL SAMPLE SIZE</th>\n",
       "      <th>REPLICATION SAMPLE SIZE</th>\n",
       "      <th>...</th>\n",
       "      <th>RISK ALLELE FREQUENCY</th>\n",
       "      <th>P-VALUE</th>\n",
       "      <th>PVALUE_MLOG</th>\n",
       "      <th>P-VALUE (TEXT)</th>\n",
       "      <th>OR or BETA</th>\n",
       "      <th>95% CI (TEXT)</th>\n",
       "      <th>PLATFORM [SNPS PASSING QC]</th>\n",
       "      <th>CNV</th>\n",
       "      <th>Groups of Disease/Trait</th>\n",
       "      <th>Icon</th>\n",
       "    </tr>\n",
       "  </thead>\n",
       "  <tbody>\n",
       "    <tr>\n",
       "      <th>0</th>\n",
       "      <td>2015-12-18</td>\n",
       "      <td>25574825</td>\n",
       "      <td>Baurecht H</td>\n",
       "      <td>2015-01-08</td>\n",
       "      <td>Am J Hum Genet</td>\n",
       "      <td>www.ncbi.nlm.nih.gov/pubmed/25574825</td>\n",
       "      <td>Genome-wide comparative analysis of atopic der...</td>\n",
       "      <td>Inflammatory skin disease</td>\n",
       "      <td>2,079 European ancestry atopic dermatitis case...</td>\n",
       "      <td>NaN</td>\n",
       "      <td>...</td>\n",
       "      <td>NR</td>\n",
       "      <td>2.000000e-17</td>\n",
       "      <td>16.698970</td>\n",
       "      <td>(Atopic dermatitis)</td>\n",
       "      <td>1.23</td>\n",
       "      <td>[1.15–1.32]</td>\n",
       "      <td>Affymetrix, Illumina [~ 5200000]</td>\n",
       "      <td>N</td>\n",
       "      <td>Immune system disease</td>\n",
       "      <td>🛡️</td>\n",
       "    </tr>\n",
       "    <tr>\n",
       "      <th>1</th>\n",
       "      <td>2015-12-18</td>\n",
       "      <td>25574825</td>\n",
       "      <td>Baurecht H</td>\n",
       "      <td>2015-01-08</td>\n",
       "      <td>Am J Hum Genet</td>\n",
       "      <td>www.ncbi.nlm.nih.gov/pubmed/25574825</td>\n",
       "      <td>Genome-wide comparative analysis of atopic der...</td>\n",
       "      <td>Inflammatory skin disease</td>\n",
       "      <td>2,079 European ancestry atopic dermatitis case...</td>\n",
       "      <td>NaN</td>\n",
       "      <td>...</td>\n",
       "      <td>NR</td>\n",
       "      <td>9.000000e-16</td>\n",
       "      <td>15.045757</td>\n",
       "      <td>(Psoriasis)</td>\n",
       "      <td>1.27</td>\n",
       "      <td>[1.20–1.34]</td>\n",
       "      <td>Affymetrix, Illumina [~ 5200000]</td>\n",
       "      <td>N</td>\n",
       "      <td>Immune system disease</td>\n",
       "      <td>🛡️</td>\n",
       "    </tr>\n",
       "    <tr>\n",
       "      <th>2</th>\n",
       "      <td>2015-12-18</td>\n",
       "      <td>25574825</td>\n",
       "      <td>Baurecht H</td>\n",
       "      <td>2015-01-08</td>\n",
       "      <td>Am J Hum Genet</td>\n",
       "      <td>www.ncbi.nlm.nih.gov/pubmed/25574825</td>\n",
       "      <td>Genome-wide comparative analysis of atopic der...</td>\n",
       "      <td>Inflammatory skin disease</td>\n",
       "      <td>2,079 European ancestry atopic dermatitis case...</td>\n",
       "      <td>NaN</td>\n",
       "      <td>...</td>\n",
       "      <td>NR</td>\n",
       "      <td>5.000000e-25</td>\n",
       "      <td>24.301030</td>\n",
       "      <td>(Atopic dermatitis)</td>\n",
       "      <td>1.49</td>\n",
       "      <td>[1.38–1.61]</td>\n",
       "      <td>Affymetrix, Illumina [~ 5200000]</td>\n",
       "      <td>N</td>\n",
       "      <td>Immune system disease</td>\n",
       "      <td>🛡️</td>\n",
       "    </tr>\n",
       "    <tr>\n",
       "      <th>3</th>\n",
       "      <td>2015-12-18</td>\n",
       "      <td>25574825</td>\n",
       "      <td>Baurecht H</td>\n",
       "      <td>2015-01-08</td>\n",
       "      <td>Am J Hum Genet</td>\n",
       "      <td>www.ncbi.nlm.nih.gov/pubmed/25574825</td>\n",
       "      <td>Genome-wide comparative analysis of atopic der...</td>\n",
       "      <td>Inflammatory skin disease</td>\n",
       "      <td>2,079 European ancestry atopic dermatitis case...</td>\n",
       "      <td>NaN</td>\n",
       "      <td>...</td>\n",
       "      <td>NR</td>\n",
       "      <td>2.000000e-14</td>\n",
       "      <td>13.698970</td>\n",
       "      <td>(Psoriasis)</td>\n",
       "      <td>1.29</td>\n",
       "      <td>[1.21–1.38]</td>\n",
       "      <td>Affymetrix, Illumina [~ 5200000]</td>\n",
       "      <td>N</td>\n",
       "      <td>Immune system disease</td>\n",
       "      <td>🛡️</td>\n",
       "    </tr>\n",
       "    <tr>\n",
       "      <th>4</th>\n",
       "      <td>2015-12-18</td>\n",
       "      <td>25574825</td>\n",
       "      <td>Baurecht H</td>\n",
       "      <td>2015-01-08</td>\n",
       "      <td>Am J Hum Genet</td>\n",
       "      <td>www.ncbi.nlm.nih.gov/pubmed/25574825</td>\n",
       "      <td>Genome-wide comparative analysis of atopic der...</td>\n",
       "      <td>Inflammatory skin disease</td>\n",
       "      <td>2,079 European ancestry atopic dermatitis case...</td>\n",
       "      <td>NaN</td>\n",
       "      <td>...</td>\n",
       "      <td>NR</td>\n",
       "      <td>2.000000e-12</td>\n",
       "      <td>11.698970</td>\n",
       "      <td>(Atopic dermatitis)</td>\n",
       "      <td>1.54</td>\n",
       "      <td>[1.37–1.73]</td>\n",
       "      <td>Affymetrix, Illumina [~ 5200000]</td>\n",
       "      <td>N</td>\n",
       "      <td>Immune system disease</td>\n",
       "      <td>🛡️</td>\n",
       "    </tr>\n",
       "  </tbody>\n",
       "</table>\n",
       "<p>5 rows × 36 columns</p>\n",
       "</div>"
      ],
      "text/plain": [
       "  DATE ADDED TO CATALOG  PUBMEDID FIRST AUTHOR        DATE         JOURNAL  \\\n",
       "0            2015-12-18  25574825   Baurecht H  2015-01-08  Am J Hum Genet   \n",
       "1            2015-12-18  25574825   Baurecht H  2015-01-08  Am J Hum Genet   \n",
       "2            2015-12-18  25574825   Baurecht H  2015-01-08  Am J Hum Genet   \n",
       "3            2015-12-18  25574825   Baurecht H  2015-01-08  Am J Hum Genet   \n",
       "4            2015-12-18  25574825   Baurecht H  2015-01-08  Am J Hum Genet   \n",
       "\n",
       "                                   LINK  \\\n",
       "0  www.ncbi.nlm.nih.gov/pubmed/25574825   \n",
       "1  www.ncbi.nlm.nih.gov/pubmed/25574825   \n",
       "2  www.ncbi.nlm.nih.gov/pubmed/25574825   \n",
       "3  www.ncbi.nlm.nih.gov/pubmed/25574825   \n",
       "4  www.ncbi.nlm.nih.gov/pubmed/25574825   \n",
       "\n",
       "                                               STUDY  \\\n",
       "0  Genome-wide comparative analysis of atopic der...   \n",
       "1  Genome-wide comparative analysis of atopic der...   \n",
       "2  Genome-wide comparative analysis of atopic der...   \n",
       "3  Genome-wide comparative analysis of atopic der...   \n",
       "4  Genome-wide comparative analysis of atopic der...   \n",
       "\n",
       "               DISEASE/TRAIT  \\\n",
       "0  Inflammatory skin disease   \n",
       "1  Inflammatory skin disease   \n",
       "2  Inflammatory skin disease   \n",
       "3  Inflammatory skin disease   \n",
       "4  Inflammatory skin disease   \n",
       "\n",
       "                                 INITIAL SAMPLE SIZE REPLICATION SAMPLE SIZE  \\\n",
       "0  2,079 European ancestry atopic dermatitis case...                     NaN   \n",
       "1  2,079 European ancestry atopic dermatitis case...                     NaN   \n",
       "2  2,079 European ancestry atopic dermatitis case...                     NaN   \n",
       "3  2,079 European ancestry atopic dermatitis case...                     NaN   \n",
       "4  2,079 European ancestry atopic dermatitis case...                     NaN   \n",
       "\n",
       "   ... RISK ALLELE FREQUENCY       P-VALUE PVALUE_MLOG       P-VALUE (TEXT)  \\\n",
       "0  ...                    NR  2.000000e-17   16.698970  (Atopic dermatitis)   \n",
       "1  ...                    NR  9.000000e-16   15.045757          (Psoriasis)   \n",
       "2  ...                    NR  5.000000e-25   24.301030  (Atopic dermatitis)   \n",
       "3  ...                    NR  2.000000e-14   13.698970          (Psoriasis)   \n",
       "4  ...                    NR  2.000000e-12   11.698970  (Atopic dermatitis)   \n",
       "\n",
       "  OR or BETA 95% CI (TEXT)        PLATFORM [SNPS PASSING QC] CNV  \\\n",
       "0       1.23   [1.15–1.32]  Affymetrix, Illumina [~ 5200000]   N   \n",
       "1       1.27   [1.20–1.34]  Affymetrix, Illumina [~ 5200000]   N   \n",
       "2       1.49   [1.38–1.61]  Affymetrix, Illumina [~ 5200000]   N   \n",
       "3       1.29   [1.21–1.38]  Affymetrix, Illumina [~ 5200000]   N   \n",
       "4       1.54   [1.37–1.73]  Affymetrix, Illumina [~ 5200000]   N   \n",
       "\n",
       "   Groups of Disease/Trait  Icon  \n",
       "0    Immune system disease    🛡️  \n",
       "1    Immune system disease    🛡️  \n",
       "2    Immune system disease    🛡️  \n",
       "3    Immune system disease    🛡️  \n",
       "4    Immune system disease    🛡️  \n",
       "\n",
       "[5 rows x 36 columns]"
      ]
     },
     "execution_count": 72,
     "metadata": {},
     "output_type": "execute_result"
    }
   ],
   "source": [
    "# Define updated icon mapping\n",
    "icon_mapping = {\n",
    "    \"Immune system disease\": \"🛡️\",\n",
    "    \"Neurodevelopmental Disorder\": \"🧠\",\n",
    "    \"Other trait\": \"🔍\",\n",
    "    \"Other disease\": \"🏥\",\n",
    "    \"Mental disorder\": \"🌀\",\n",
    "    \"Lipid or lipoprotein measurement\": \"🩸\",\n",
    "    \"Response to drug\": \"💊\",\n",
    "    \"Cardiovascular disease\": \"❤️\",\n",
    "    \"Liver enzyme measurement\": \"🧪\",\n",
    "    \"Metabolic disease\": \"⚖️\",\n",
    "    \"Nervous system disease\": \"🧠\",\n",
    "    \"Hematological measurement\": \"🔬\",\n",
    "    \"Body measurement\": \"📏\",\n",
    "    \"Cancer\": \"🎗️\",\n",
    "    \"Inflammatory marker measurement\": \"🌡️\",\n",
    "    \"Cardiovascular measurement\": \"📊\",\n",
    "    \"Digestive system disease\": \"🍴\",\n",
    "    \"Other measurement\": \"📄\",\n",
    "    \"Biological process\": \"🔬\"\n",
    "}\n",
    "\n",
    "# Add an Icon column to the dataset\n",
    "gwas['Icon'] = gwas['Groups of Disease/Trait'].map(icon_mapping)\n",
    "\n",
    "# Display updated dataset\n",
    "gwas.head()"
   ]
  },
  {
   "cell_type": "code",
   "execution_count": 75,
   "metadata": {},
   "outputs": [],
   "source": [
    "gwas.to_csv('gwas_catalog_grouped.csv', index=False)"
   ]
  },
  {
   "cell_type": "code",
   "execution_count": 52,
   "metadata": {},
   "outputs": [],
   "source": [
    "gwas_disease.to_csv('gwas_disease_trait_groups.csv')"
   ]
  },
  {
   "cell_type": "code",
   "execution_count": 68,
   "metadata": {},
   "outputs": [
    {
     "data": {
      "text/plain": [
       "array(['Immune system disease', 'Neurodevelopmental Disorder',\n",
       "       'Other trait', 'Other disease', 'Mental disorder',\n",
       "       'Lipid or lipoprotein measurement', 'Response to drug',\n",
       "       'Cardiovascular disease', 'Liver enzyme measurement',\n",
       "       'Metabolic disease', 'Nervous system disease',\n",
       "       'Hematological measurement', 'Body measurement', 'Cancer',\n",
       "       'Inflammatory marker measurement', 'Cardiovascular measurement',\n",
       "       'Digestive system disease', 'Other measurement',\n",
       "       'Biological process'], dtype=object)"
      ]
     },
     "execution_count": 68,
     "metadata": {},
     "output_type": "execute_result"
    }
   ],
   "source": [
    "gwas_disease['Groups of Disease/Trait'].unique()"
   ]
  },
  {
   "cell_type": "code",
   "execution_count": 70,
   "metadata": {},
   "outputs": [
    {
     "data": {
      "text/html": [
       "<div>\n",
       "<style scoped>\n",
       "    .dataframe tbody tr th:only-of-type {\n",
       "        vertical-align: middle;\n",
       "    }\n",
       "\n",
       "    .dataframe tbody tr th {\n",
       "        vertical-align: top;\n",
       "    }\n",
       "\n",
       "    .dataframe thead th {\n",
       "        text-align: right;\n",
       "    }\n",
       "</style>\n",
       "<table border=\"1\" class=\"dataframe\">\n",
       "  <thead>\n",
       "    <tr style=\"text-align: right;\">\n",
       "      <th></th>\n",
       "      <th>DISEASE/TRAIT</th>\n",
       "      <th>Groups of Disease/Trait</th>\n",
       "      <th>Icon</th>\n",
       "    </tr>\n",
       "  </thead>\n",
       "  <tbody>\n",
       "    <tr>\n",
       "      <th>0</th>\n",
       "      <td>Inflammatory skin disease</td>\n",
       "      <td>Immune system disease</td>\n",
       "      <td>🛡️</td>\n",
       "    </tr>\n",
       "    <tr>\n",
       "      <th>1</th>\n",
       "      <td>Inflammatory skin disease</td>\n",
       "      <td>Immune system disease</td>\n",
       "      <td>🛡️</td>\n",
       "    </tr>\n",
       "    <tr>\n",
       "      <th>2</th>\n",
       "      <td>Inflammatory skin disease</td>\n",
       "      <td>Immune system disease</td>\n",
       "      <td>🛡️</td>\n",
       "    </tr>\n",
       "    <tr>\n",
       "      <th>3</th>\n",
       "      <td>Inflammatory skin disease</td>\n",
       "      <td>Immune system disease</td>\n",
       "      <td>🛡️</td>\n",
       "    </tr>\n",
       "    <tr>\n",
       "      <th>4</th>\n",
       "      <td>Inflammatory skin disease</td>\n",
       "      <td>Immune system disease</td>\n",
       "      <td>🛡️</td>\n",
       "    </tr>\n",
       "    <tr>\n",
       "      <th>...</th>\n",
       "      <td>...</td>\n",
       "      <td>...</td>\n",
       "      <td>...</td>\n",
       "    </tr>\n",
       "    <tr>\n",
       "      <th>692439</th>\n",
       "      <td>Height</td>\n",
       "      <td>Body measurement</td>\n",
       "      <td>📏</td>\n",
       "    </tr>\n",
       "    <tr>\n",
       "      <th>692440</th>\n",
       "      <td>Height</td>\n",
       "      <td>Body measurement</td>\n",
       "      <td>📏</td>\n",
       "    </tr>\n",
       "    <tr>\n",
       "      <th>692441</th>\n",
       "      <td>Height</td>\n",
       "      <td>Body measurement</td>\n",
       "      <td>📏</td>\n",
       "    </tr>\n",
       "    <tr>\n",
       "      <th>692442</th>\n",
       "      <td>Height</td>\n",
       "      <td>Body measurement</td>\n",
       "      <td>📏</td>\n",
       "    </tr>\n",
       "    <tr>\n",
       "      <th>692443</th>\n",
       "      <td>Height</td>\n",
       "      <td>Body measurement</td>\n",
       "      <td>📏</td>\n",
       "    </tr>\n",
       "  </tbody>\n",
       "</table>\n",
       "<p>692444 rows × 3 columns</p>\n",
       "</div>"
      ],
      "text/plain": [
       "                    DISEASE/TRAIT Groups of Disease/Trait Icon\n",
       "0       Inflammatory skin disease   Immune system disease   🛡️\n",
       "1       Inflammatory skin disease   Immune system disease   🛡️\n",
       "2       Inflammatory skin disease   Immune system disease   🛡️\n",
       "3       Inflammatory skin disease   Immune system disease   🛡️\n",
       "4       Inflammatory skin disease   Immune system disease   🛡️\n",
       "...                           ...                     ...  ...\n",
       "692439                     Height        Body measurement    📏\n",
       "692440                     Height        Body measurement    📏\n",
       "692441                     Height        Body measurement    📏\n",
       "692442                     Height        Body measurement    📏\n",
       "692443                     Height        Body measurement    📏\n",
       "\n",
       "[692444 rows x 3 columns]"
      ]
     },
     "execution_count": 70,
     "metadata": {},
     "output_type": "execute_result"
    }
   ],
   "source": [
    "gwas_disease"
   ]
  },
  {
   "cell_type": "code",
   "execution_count": 46,
   "metadata": {},
   "outputs": [],
   "source": [
    "import plotly.express as px\n",
    "#Create a DataFrame linspace of 100 values\n",
    "\n",
    "import numpy as np\n",
    "import pandas as pd\n",
    "import plotly.express as px\n",
    "#Create a DataFrame linspace of 100 values\n",
    "df = pd.DataFrame(np.linspace(0, 100, 100), columns=['Values'])\n"
   ]
  },
  {
   "cell_type": "code",
   "execution_count": 47,
   "metadata": {},
   "outputs": [
    {
     "data": {
      "text/html": [
       "<div>\n",
       "<style scoped>\n",
       "    .dataframe tbody tr th:only-of-type {\n",
       "        vertical-align: middle;\n",
       "    }\n",
       "\n",
       "    .dataframe tbody tr th {\n",
       "        vertical-align: top;\n",
       "    }\n",
       "\n",
       "    .dataframe thead th {\n",
       "        text-align: right;\n",
       "    }\n",
       "</style>\n",
       "<table border=\"1\" class=\"dataframe\">\n",
       "  <thead>\n",
       "    <tr style=\"text-align: right;\">\n",
       "      <th></th>\n",
       "      <th>Values</th>\n",
       "    </tr>\n",
       "  </thead>\n",
       "  <tbody>\n",
       "    <tr>\n",
       "      <th>0</th>\n",
       "      <td>0.000000</td>\n",
       "    </tr>\n",
       "    <tr>\n",
       "      <th>1</th>\n",
       "      <td>1.010101</td>\n",
       "    </tr>\n",
       "    <tr>\n",
       "      <th>2</th>\n",
       "      <td>2.020202</td>\n",
       "    </tr>\n",
       "    <tr>\n",
       "      <th>3</th>\n",
       "      <td>3.030303</td>\n",
       "    </tr>\n",
       "    <tr>\n",
       "      <th>4</th>\n",
       "      <td>4.040404</td>\n",
       "    </tr>\n",
       "    <tr>\n",
       "      <th>...</th>\n",
       "      <td>...</td>\n",
       "    </tr>\n",
       "    <tr>\n",
       "      <th>95</th>\n",
       "      <td>95.959596</td>\n",
       "    </tr>\n",
       "    <tr>\n",
       "      <th>96</th>\n",
       "      <td>96.969697</td>\n",
       "    </tr>\n",
       "    <tr>\n",
       "      <th>97</th>\n",
       "      <td>97.979798</td>\n",
       "    </tr>\n",
       "    <tr>\n",
       "      <th>98</th>\n",
       "      <td>98.989899</td>\n",
       "    </tr>\n",
       "    <tr>\n",
       "      <th>99</th>\n",
       "      <td>100.000000</td>\n",
       "    </tr>\n",
       "  </tbody>\n",
       "</table>\n",
       "<p>100 rows × 1 columns</p>\n",
       "</div>"
      ],
      "text/plain": [
       "        Values\n",
       "0     0.000000\n",
       "1     1.010101\n",
       "2     2.020202\n",
       "3     3.030303\n",
       "4     4.040404\n",
       "..         ...\n",
       "95   95.959596\n",
       "96   96.969697\n",
       "97   97.979798\n",
       "98   98.989899\n",
       "99  100.000000\n",
       "\n",
       "[100 rows x 1 columns]"
      ]
     },
     "execution_count": 47,
     "metadata": {},
     "output_type": "execute_result"
    }
   ],
   "source": [
    "df"
   ]
  },
  {
   "cell_type": "code",
   "execution_count": 125,
   "metadata": {},
   "outputs": [
    {
     "data": {
      "application/vnd.plotly.v1+json": {
       "config": {
        "plotlyServerURL": "https://plot.ly"
       },
       "data": [
        {
         "colorbar": {
          "dtick": 1,
          "tick0": 0
         },
         "colorscale": [
          [
           0,
           "#008AA5"
          ],
          [
           1,
           "#F1423E"
          ]
         ],
         "showscale": false,
         "type": "heatmap",
         "z": [
          [
           0,
           1.0101010101010102,
           2.0202020202020203,
           3.0303030303030303,
           4.040404040404041,
           5.050505050505051,
           6.0606060606060606,
           7.070707070707071,
           8.080808080808081,
           9.090909090909092,
           10.101010101010102,
           11.111111111111112,
           12.121212121212121,
           13.131313131313131,
           14.141414141414142,
           15.151515151515152,
           16.161616161616163,
           17.171717171717173,
           18.181818181818183,
           19.191919191919194,
           20.202020202020204,
           21.212121212121215,
           22.222222222222225,
           23.232323232323235,
           24.242424242424242,
           25.252525252525253,
           26.262626262626263,
           27.272727272727273,
           28.282828282828284,
           29.292929292929294,
           30.303030303030305,
           31.313131313131315,
           32.323232323232325,
           33.333333333333336,
           34.343434343434346,
           35.35353535353536,
           36.36363636363637,
           37.37373737373738,
           38.38383838383839,
           39.3939393939394,
           40.40404040404041,
           41.41414141414142,
           42.42424242424243,
           43.43434343434344,
           44.44444444444445,
           45.45454545454546,
           46.46464646464647,
           47.47474747474748,
           48.484848484848484,
           49.494949494949495,
           50.505050505050505,
           51.515151515151516,
           52.525252525252526,
           53.535353535353536,
           54.54545454545455,
           55.55555555555556,
           56.56565656565657,
           57.57575757575758,
           58.58585858585859,
           59.5959595959596,
           60.60606060606061,
           61.61616161616162,
           62.62626262626263,
           63.63636363636364,
           64.64646464646465,
           65.65656565656566,
           66.66666666666667,
           67.67676767676768,
           68.68686868686869,
           69.6969696969697,
           70.70707070707071,
           71.71717171717172,
           72.72727272727273,
           73.73737373737374,
           74.74747474747475,
           75.75757575757576,
           76.76767676767678,
           77.77777777777779,
           78.7878787878788,
           79.7979797979798,
           80.80808080808082,
           81.81818181818183,
           82.82828282828284,
           83.83838383838385,
           84.84848484848486,
           85.85858585858587,
           86.86868686868688,
           87.87878787878789,
           88.8888888888889,
           89.89898989898991,
           90.90909090909092,
           91.91919191919193,
           92.92929292929294,
           93.93939393939395,
           94.94949494949496,
           95.95959595959597,
           96.96969696969697,
           97.97979797979798,
           98.98989898989899,
           100
          ]
         ]
        },
        {
         "marker": {
          "color": "black",
          "size": 50,
          "symbol": "triangle-down"
         },
         "mode": "markers",
         "type": "scatter",
         "x": [
          50
         ],
         "y": [
          0.5
         ]
        }
       ],
       "layout": {
        "font": {
         "size": 16
        },
        "height": 300,
        "paper_bgcolor": "rgba(0,0,0,0)",
        "plot_bgcolor": "rgba(0,0,0,0)",
        "showlegend": false,
        "template": {
         "data": {
          "bar": [
           {
            "error_x": {
             "color": "#2a3f5f"
            },
            "error_y": {
             "color": "#2a3f5f"
            },
            "marker": {
             "line": {
              "color": "#E5ECF6",
              "width": 0.5
             },
             "pattern": {
              "fillmode": "overlay",
              "size": 10,
              "solidity": 0.2
             }
            },
            "type": "bar"
           }
          ],
          "barpolar": [
           {
            "marker": {
             "line": {
              "color": "#E5ECF6",
              "width": 0.5
             },
             "pattern": {
              "fillmode": "overlay",
              "size": 10,
              "solidity": 0.2
             }
            },
            "type": "barpolar"
           }
          ],
          "carpet": [
           {
            "aaxis": {
             "endlinecolor": "#2a3f5f",
             "gridcolor": "white",
             "linecolor": "white",
             "minorgridcolor": "white",
             "startlinecolor": "#2a3f5f"
            },
            "baxis": {
             "endlinecolor": "#2a3f5f",
             "gridcolor": "white",
             "linecolor": "white",
             "minorgridcolor": "white",
             "startlinecolor": "#2a3f5f"
            },
            "type": "carpet"
           }
          ],
          "choropleth": [
           {
            "colorbar": {
             "outlinewidth": 0,
             "ticks": ""
            },
            "type": "choropleth"
           }
          ],
          "contour": [
           {
            "colorbar": {
             "outlinewidth": 0,
             "ticks": ""
            },
            "colorscale": [
             [
              0,
              "#0d0887"
             ],
             [
              0.1111111111111111,
              "#46039f"
             ],
             [
              0.2222222222222222,
              "#7201a8"
             ],
             [
              0.3333333333333333,
              "#9c179e"
             ],
             [
              0.4444444444444444,
              "#bd3786"
             ],
             [
              0.5555555555555556,
              "#d8576b"
             ],
             [
              0.6666666666666666,
              "#ed7953"
             ],
             [
              0.7777777777777778,
              "#fb9f3a"
             ],
             [
              0.8888888888888888,
              "#fdca26"
             ],
             [
              1,
              "#f0f921"
             ]
            ],
            "type": "contour"
           }
          ],
          "contourcarpet": [
           {
            "colorbar": {
             "outlinewidth": 0,
             "ticks": ""
            },
            "type": "contourcarpet"
           }
          ],
          "heatmap": [
           {
            "colorbar": {
             "outlinewidth": 0,
             "ticks": ""
            },
            "colorscale": [
             [
              0,
              "#0d0887"
             ],
             [
              0.1111111111111111,
              "#46039f"
             ],
             [
              0.2222222222222222,
              "#7201a8"
             ],
             [
              0.3333333333333333,
              "#9c179e"
             ],
             [
              0.4444444444444444,
              "#bd3786"
             ],
             [
              0.5555555555555556,
              "#d8576b"
             ],
             [
              0.6666666666666666,
              "#ed7953"
             ],
             [
              0.7777777777777778,
              "#fb9f3a"
             ],
             [
              0.8888888888888888,
              "#fdca26"
             ],
             [
              1,
              "#f0f921"
             ]
            ],
            "type": "heatmap"
           }
          ],
          "heatmapgl": [
           {
            "colorbar": {
             "outlinewidth": 0,
             "ticks": ""
            },
            "colorscale": [
             [
              0,
              "#0d0887"
             ],
             [
              0.1111111111111111,
              "#46039f"
             ],
             [
              0.2222222222222222,
              "#7201a8"
             ],
             [
              0.3333333333333333,
              "#9c179e"
             ],
             [
              0.4444444444444444,
              "#bd3786"
             ],
             [
              0.5555555555555556,
              "#d8576b"
             ],
             [
              0.6666666666666666,
              "#ed7953"
             ],
             [
              0.7777777777777778,
              "#fb9f3a"
             ],
             [
              0.8888888888888888,
              "#fdca26"
             ],
             [
              1,
              "#f0f921"
             ]
            ],
            "type": "heatmapgl"
           }
          ],
          "histogram": [
           {
            "marker": {
             "pattern": {
              "fillmode": "overlay",
              "size": 10,
              "solidity": 0.2
             }
            },
            "type": "histogram"
           }
          ],
          "histogram2d": [
           {
            "colorbar": {
             "outlinewidth": 0,
             "ticks": ""
            },
            "colorscale": [
             [
              0,
              "#0d0887"
             ],
             [
              0.1111111111111111,
              "#46039f"
             ],
             [
              0.2222222222222222,
              "#7201a8"
             ],
             [
              0.3333333333333333,
              "#9c179e"
             ],
             [
              0.4444444444444444,
              "#bd3786"
             ],
             [
              0.5555555555555556,
              "#d8576b"
             ],
             [
              0.6666666666666666,
              "#ed7953"
             ],
             [
              0.7777777777777778,
              "#fb9f3a"
             ],
             [
              0.8888888888888888,
              "#fdca26"
             ],
             [
              1,
              "#f0f921"
             ]
            ],
            "type": "histogram2d"
           }
          ],
          "histogram2dcontour": [
           {
            "colorbar": {
             "outlinewidth": 0,
             "ticks": ""
            },
            "colorscale": [
             [
              0,
              "#0d0887"
             ],
             [
              0.1111111111111111,
              "#46039f"
             ],
             [
              0.2222222222222222,
              "#7201a8"
             ],
             [
              0.3333333333333333,
              "#9c179e"
             ],
             [
              0.4444444444444444,
              "#bd3786"
             ],
             [
              0.5555555555555556,
              "#d8576b"
             ],
             [
              0.6666666666666666,
              "#ed7953"
             ],
             [
              0.7777777777777778,
              "#fb9f3a"
             ],
             [
              0.8888888888888888,
              "#fdca26"
             ],
             [
              1,
              "#f0f921"
             ]
            ],
            "type": "histogram2dcontour"
           }
          ],
          "mesh3d": [
           {
            "colorbar": {
             "outlinewidth": 0,
             "ticks": ""
            },
            "type": "mesh3d"
           }
          ],
          "parcoords": [
           {
            "line": {
             "colorbar": {
              "outlinewidth": 0,
              "ticks": ""
             }
            },
            "type": "parcoords"
           }
          ],
          "pie": [
           {
            "automargin": true,
            "type": "pie"
           }
          ],
          "scatter": [
           {
            "fillpattern": {
             "fillmode": "overlay",
             "size": 10,
             "solidity": 0.2
            },
            "type": "scatter"
           }
          ],
          "scatter3d": [
           {
            "line": {
             "colorbar": {
              "outlinewidth": 0,
              "ticks": ""
             }
            },
            "marker": {
             "colorbar": {
              "outlinewidth": 0,
              "ticks": ""
             }
            },
            "type": "scatter3d"
           }
          ],
          "scattercarpet": [
           {
            "marker": {
             "colorbar": {
              "outlinewidth": 0,
              "ticks": ""
             }
            },
            "type": "scattercarpet"
           }
          ],
          "scattergeo": [
           {
            "marker": {
             "colorbar": {
              "outlinewidth": 0,
              "ticks": ""
             }
            },
            "type": "scattergeo"
           }
          ],
          "scattergl": [
           {
            "marker": {
             "colorbar": {
              "outlinewidth": 0,
              "ticks": ""
             }
            },
            "type": "scattergl"
           }
          ],
          "scattermapbox": [
           {
            "marker": {
             "colorbar": {
              "outlinewidth": 0,
              "ticks": ""
             }
            },
            "type": "scattermapbox"
           }
          ],
          "scatterpolar": [
           {
            "marker": {
             "colorbar": {
              "outlinewidth": 0,
              "ticks": ""
             }
            },
            "type": "scatterpolar"
           }
          ],
          "scatterpolargl": [
           {
            "marker": {
             "colorbar": {
              "outlinewidth": 0,
              "ticks": ""
             }
            },
            "type": "scatterpolargl"
           }
          ],
          "scatterternary": [
           {
            "marker": {
             "colorbar": {
              "outlinewidth": 0,
              "ticks": ""
             }
            },
            "type": "scatterternary"
           }
          ],
          "surface": [
           {
            "colorbar": {
             "outlinewidth": 0,
             "ticks": ""
            },
            "colorscale": [
             [
              0,
              "#0d0887"
             ],
             [
              0.1111111111111111,
              "#46039f"
             ],
             [
              0.2222222222222222,
              "#7201a8"
             ],
             [
              0.3333333333333333,
              "#9c179e"
             ],
             [
              0.4444444444444444,
              "#bd3786"
             ],
             [
              0.5555555555555556,
              "#d8576b"
             ],
             [
              0.6666666666666666,
              "#ed7953"
             ],
             [
              0.7777777777777778,
              "#fb9f3a"
             ],
             [
              0.8888888888888888,
              "#fdca26"
             ],
             [
              1,
              "#f0f921"
             ]
            ],
            "type": "surface"
           }
          ],
          "table": [
           {
            "cells": {
             "fill": {
              "color": "#EBF0F8"
             },
             "line": {
              "color": "white"
             }
            },
            "header": {
             "fill": {
              "color": "#C8D4E3"
             },
             "line": {
              "color": "white"
             }
            },
            "type": "table"
           }
          ]
         },
         "layout": {
          "annotationdefaults": {
           "arrowcolor": "#2a3f5f",
           "arrowhead": 0,
           "arrowwidth": 1
          },
          "autotypenumbers": "strict",
          "coloraxis": {
           "colorbar": {
            "outlinewidth": 0,
            "ticks": ""
           }
          },
          "colorscale": {
           "diverging": [
            [
             0,
             "#8e0152"
            ],
            [
             0.1,
             "#c51b7d"
            ],
            [
             0.2,
             "#de77ae"
            ],
            [
             0.3,
             "#f1b6da"
            ],
            [
             0.4,
             "#fde0ef"
            ],
            [
             0.5,
             "#f7f7f7"
            ],
            [
             0.6,
             "#e6f5d0"
            ],
            [
             0.7,
             "#b8e186"
            ],
            [
             0.8,
             "#7fbc41"
            ],
            [
             0.9,
             "#4d9221"
            ],
            [
             1,
             "#276419"
            ]
           ],
           "sequential": [
            [
             0,
             "#0d0887"
            ],
            [
             0.1111111111111111,
             "#46039f"
            ],
            [
             0.2222222222222222,
             "#7201a8"
            ],
            [
             0.3333333333333333,
             "#9c179e"
            ],
            [
             0.4444444444444444,
             "#bd3786"
            ],
            [
             0.5555555555555556,
             "#d8576b"
            ],
            [
             0.6666666666666666,
             "#ed7953"
            ],
            [
             0.7777777777777778,
             "#fb9f3a"
            ],
            [
             0.8888888888888888,
             "#fdca26"
            ],
            [
             1,
             "#f0f921"
            ]
           ],
           "sequentialminus": [
            [
             0,
             "#0d0887"
            ],
            [
             0.1111111111111111,
             "#46039f"
            ],
            [
             0.2222222222222222,
             "#7201a8"
            ],
            [
             0.3333333333333333,
             "#9c179e"
            ],
            [
             0.4444444444444444,
             "#bd3786"
            ],
            [
             0.5555555555555556,
             "#d8576b"
            ],
            [
             0.6666666666666666,
             "#ed7953"
            ],
            [
             0.7777777777777778,
             "#fb9f3a"
            ],
            [
             0.8888888888888888,
             "#fdca26"
            ],
            [
             1,
             "#f0f921"
            ]
           ]
          },
          "colorway": [
           "#636efa",
           "#EF553B",
           "#00cc96",
           "#ab63fa",
           "#FFA15A",
           "#19d3f3",
           "#FF6692",
           "#B6E880",
           "#FF97FF",
           "#FECB52"
          ],
          "font": {
           "color": "#2a3f5f"
          },
          "geo": {
           "bgcolor": "white",
           "lakecolor": "white",
           "landcolor": "#E5ECF6",
           "showlakes": true,
           "showland": true,
           "subunitcolor": "white"
          },
          "hoverlabel": {
           "align": "left"
          },
          "hovermode": "closest",
          "mapbox": {
           "style": "light"
          },
          "paper_bgcolor": "white",
          "plot_bgcolor": "#E5ECF6",
          "polar": {
           "angularaxis": {
            "gridcolor": "white",
            "linecolor": "white",
            "ticks": ""
           },
           "bgcolor": "#E5ECF6",
           "radialaxis": {
            "gridcolor": "white",
            "linecolor": "white",
            "ticks": ""
           }
          },
          "scene": {
           "xaxis": {
            "backgroundcolor": "#E5ECF6",
            "gridcolor": "white",
            "gridwidth": 2,
            "linecolor": "white",
            "showbackground": true,
            "ticks": "",
            "zerolinecolor": "white"
           },
           "yaxis": {
            "backgroundcolor": "#E5ECF6",
            "gridcolor": "white",
            "gridwidth": 2,
            "linecolor": "white",
            "showbackground": true,
            "ticks": "",
            "zerolinecolor": "white"
           },
           "zaxis": {
            "backgroundcolor": "#E5ECF6",
            "gridcolor": "white",
            "gridwidth": 2,
            "linecolor": "white",
            "showbackground": true,
            "ticks": "",
            "zerolinecolor": "white"
           }
          },
          "shapedefaults": {
           "line": {
            "color": "#2a3f5f"
           }
          },
          "ternary": {
           "aaxis": {
            "gridcolor": "white",
            "linecolor": "white",
            "ticks": ""
           },
           "baxis": {
            "gridcolor": "white",
            "linecolor": "white",
            "ticks": ""
           },
           "bgcolor": "#E5ECF6",
           "caxis": {
            "gridcolor": "white",
            "linecolor": "white",
            "ticks": ""
           }
          },
          "title": {
           "x": 0.05
          },
          "xaxis": {
           "automargin": true,
           "gridcolor": "white",
           "linecolor": "white",
           "ticks": "",
           "title": {
            "standoff": 15
           },
           "zerolinecolor": "white",
           "zerolinewidth": 2
          },
          "yaxis": {
           "automargin": true,
           "gridcolor": "white",
           "linecolor": "white",
           "ticks": "",
           "title": {
            "standoff": 15
           },
           "zerolinecolor": "white",
           "zerolinewidth": 2
          }
         }
        },
        "width": 1000,
        "xaxis": {
         "range": [
          0,
          100
         ],
         "showgrid": false,
         "title": {
          "text": "Risk Allele Frequency (%)"
         },
         "zeroline": false
        },
        "yaxis": {
         "visible": false
        }
       }
      }
     },
     "metadata": {},
     "output_type": "display_data"
    }
   ],
   "source": [
    "import plotly.graph_objects as go\n",
    "\n",
    "fig = go.Figure()\n",
    "\n",
    "z_ = np.linspace(0, 100, 100)\n",
    "\n",
    "fig.add_trace(go.Heatmap(\n",
    "    z=[z_],\n",
    "    colorscale=[\n",
    "        #Create color scale 0-100 with 100 steps from blue to red\n",
    "        [0, '#008AA5'],\n",
    "        [1, '#F1423E']\n",
    "        ],\n",
    "    showscale=False,\n",
    "    colorbar=dict(\n",
    "        tick0=0,\n",
    "        dtick=1\n",
    "    )\n",
    "\n",
    "))\n",
    "\n",
    "#X scale from 0 to 100\n",
    "fig.update_layout(\n",
    "    xaxis=dict(\n",
    "        range=[0, 100]\n",
    "    )\n",
    ")\n",
    "\n",
    "#X-axis title\n",
    "fig.update_layout(\n",
    "    xaxis_title=\"Risk Allele Frequency (%)\",\n",
    ")\n",
    "#Add triangle-down marker at 50 on the x-axis and 0 on the y-axis with size 30 and black color\n",
    "fig.add_trace(go.Scatter(\n",
    "    x=[50],\n",
    "    y=[0.5],\n",
    "    mode='markers',\n",
    "    marker=dict(\n",
    "        symbol='triangle-down',\n",
    "        size=50,\n",
    "        color='black'\n",
    "    )\n",
    "))\n",
    "\n",
    "#Add line at 50 on the x-axis with width 2 and black color\n",
    "\n",
    "#set size of the plot\n",
    "fig.update_layout(\n",
    "    width=1000,\n",
    "    height=300\n",
    ")\n",
    "\n",
    "#Gide y-axis\n",
    "fig.update_layout(\n",
    "    yaxis=dict(\n",
    "        visible=False,\n",
    "    ),\n",
    "    showlegend=False,\n",
    "    xaxis=dict(\n",
    "        showgrid=False,\n",
    "        zeroline=False\n",
    "        ),\n",
    "    plot_bgcolor='rgba(0,0,0,0)',\n",
    "    paper_bgcolor='rgba(0,0,0,0)'\n",
    ")\n",
    "\n",
    "\n",
    "fig.update_layout(\n",
    "    font=dict(\n",
    "        size=16,  \n",
    "    )\n",
    ")\n",
    "\n",
    "#optimise margin\n",
    "fig.update_layout(\n",
    "    margin=dict(\n",
    "        l=0,\n",
    "        r=300,\n",
    "        b=300,\n",
    "        t=300,\n",
    "        pad=0\n",
    "    )\n",
    ")\n",
    "\n",
    "fig.show()"
   ]
  },
  {
   "cell_type": "code",
   "execution_count": 45,
   "metadata": {},
   "outputs": [
    {
     "data": {
      "application/vnd.plotly.v1+json": {
       "config": {
        "plotlyServerURL": "https://plot.ly"
       },
       "data": [
        {
         "alignmentgroup": "True",
         "hovertemplate": "<b>%{hovertext}</b><br><br>pop=%{x}<br>continent=%{y}<br>lifeExp=%{marker.color}<extra></extra>",
         "hovertext": [
          "Swaziland",
          "Mozambique",
          "Zambia",
          "Sierra Leone",
          "Lesotho",
          "Angola",
          "Zimbabwe",
          "Afghanistan",
          "Central African Republic",
          "Liberia",
          "Rwanda",
          "Guinea-Bissau",
          "Congo, Dem. Rep.",
          "Nigeria",
          "Somalia",
          "Malawi",
          "Cote d'Ivoire",
          "South Africa",
          "Burundi",
          "Cameroon",
          "Chad",
          "Botswana",
          "Uganda",
          "Equatorial Guinea",
          "Burkina Faso",
          "Tanzania",
          "Namibia",
          "Ethiopia",
          "Kenya",
          "Mali",
          "Djibouti",
          "Congo, Rep.",
          "Guinea",
          "Benin",
          "Gabon",
          "Niger",
          "Eritrea",
          "Togo",
          "Sudan",
          "Madagascar",
          "Gambia",
          "Iraq",
          "Cambodia",
          "Ghana",
          "Haiti",
          "Myanmar",
          "Yemen, Rep.",
          "Senegal",
          "Nepal",
          "Bangladesh",
          "Mauritania",
          "India",
          "Comoros",
          "Pakistan",
          "Sao Tome and Principe",
          "Bolivia",
          "Mongolia",
          "Korea, Dem. Rep.",
          "Trinidad and Tobago",
          "Honduras",
          "Guatemala",
          "Thailand",
          "Indonesia",
          "Iran",
          "Morocco",
          "Egypt",
          "Peru",
          "Philippines",
          "Paraguay",
          "Turkey",
          "El Salvador",
          "Lebanon",
          "Dominican Republic",
          "Algeria",
          "Brazil",
          "Sri Lanka",
          "Romania",
          "Jordan",
          "Jamaica",
          "Saudi Arabia",
          "Mauritius",
          "Colombia",
          "Nicaragua",
          "China",
          "Bulgaria",
          "Hungary",
          "West Bank and Gaza",
          "Venezuela",
          "Tunisia",
          "Libya",
          "Serbia",
          "Syria",
          "Malaysia",
          "Vietnam",
          "Montenegro",
          "Slovak Republic",
          "Bosnia and Herzegovina",
          "Ecuador",
          "Argentina",
          "Panama",
          "Poland",
          "Bahrain",
          "Oman",
          "Croatia",
          "Mexico",
          "Uruguay",
          "Albania",
          "Reunion",
          "Czech Republic",
          "Kuwait",
          "Slovenia",
          "Portugal",
          "United States",
          "Cuba",
          "Denmark",
          "Taiwan",
          "Chile",
          "Korea, Rep.",
          "Puerto Rico",
          "Costa Rica",
          "Ireland",
          "Finland",
          "Germany",
          "United Kingdom",
          "Belgium",
          "Greece",
          "Netherlands",
          "Austria",
          "Singapore",
          "Norway",
          "New Zealand",
          "Italy",
          "Canada",
          "France",
          "Israel",
          "Sweden",
          "Spain",
          "Australia",
          "Switzerland",
          "Iceland",
          "Hong Kong, China",
          "Japan"
         ],
         "legendgroup": "",
         "marker": {
          "color": [
           39.613,
           42.082,
           42.38399999999999,
           42.56800000000001,
           42.592,
           42.731,
           43.487,
           43.828,
           44.74100000000001,
           45.678,
           46.242,
           46.38800000000001,
           46.462,
           46.859,
           48.159,
           48.303,
           48.328,
           49.339,
           49.58,
           50.43,
           50.651,
           50.728,
           51.542,
           51.57899999999999,
           52.295,
           52.517,
           52.90600000000001,
           52.947,
           54.11,
           54.467,
           54.791,
           55.322,
           56.007,
           56.728,
           56.735,
           56.867,
           58.04,
           58.42,
           58.556,
           59.44300000000001,
           59.448,
           59.545,
           59.723,
           60.022,
           60.916,
           62.069,
           62.698,
           63.062,
           63.785,
           64.062,
           64.164,
           64.69800000000001,
           65.152,
           65.483,
           65.528,
           65.554,
           66.803,
           67.297,
           69.819,
           70.19800000000001,
           70.259,
           70.616,
           70.65,
           70.964,
           71.164,
           71.33800000000002,
           71.421,
           71.688,
           71.752,
           71.777,
           71.878,
           71.993,
           72.235,
           72.301,
           72.39,
           72.396,
           72.476,
           72.535,
           72.567,
           72.777,
           72.801,
           72.889,
           72.899,
           72.961,
           73.005,
           73.33800000000002,
           73.422,
           73.747,
           73.923,
           73.952,
           74.002,
           74.143,
           74.241,
           74.249,
           74.543,
           74.663,
           74.852,
           74.994,
           75.32,
           75.53699999999998,
           75.563,
           75.635,
           75.64,
           75.748,
           76.195,
           76.384,
           76.423,
           76.442,
           76.486,
           77.58800000000002,
           77.926,
           78.098,
           78.242,
           78.273,
           78.332,
           78.4,
           78.553,
           78.623,
           78.74600000000002,
           78.782,
           78.885,
           79.313,
           79.406,
           79.425,
           79.441,
           79.483,
           79.762,
           79.829,
           79.972,
           80.196,
           80.204,
           80.546,
           80.653,
           80.657,
           80.745,
           80.884,
           80.941,
           81.235,
           81.70100000000002,
           81.757,
           82.208,
           82.603
          ],
          "coloraxis": "coloraxis",
          "pattern": {
           "shape": ""
          }
         },
         "name": "",
         "offsetgroup": "",
         "orientation": "h",
         "showlegend": false,
         "textposition": "auto",
         "type": "bar",
         "x": [
          1133066,
          19951656,
          11746035,
          6144562,
          2012649,
          12420476,
          12311143,
          31889923,
          4369038,
          3193942,
          8860588,
          1472041,
          64606759,
          135031164,
          9118773,
          13327079,
          18013409,
          43997828,
          8390505,
          17696293,
          10238807,
          1639131,
          29170398,
          551201,
          14326203,
          38139640,
          2055080,
          76511887,
          35610177,
          12031795,
          496374,
          3800610,
          9947814,
          8078314,
          1454867,
          12894865,
          4906585,
          5701579,
          42292929,
          19167654,
          1688359,
          27499638,
          14131858,
          22873338,
          8502814,
          47761980,
          22211743,
          12267493,
          28901790,
          150448339,
          3270065,
          1110396331,
          710960,
          169270617,
          199579,
          9119152,
          2874127,
          23301725,
          1056608,
          7483763,
          12572928,
          65068149,
          223547000,
          69453570,
          33757175,
          80264543,
          28674757,
          91077287,
          6667147,
          71158647,
          6939688,
          3921278,
          9319622,
          33333216,
          190010647,
          20378239,
          22276056,
          6053193,
          2780132,
          27601038,
          1250882,
          44227550,
          5675356,
          1318683096,
          7322858,
          9956108,
          4018332,
          26084662,
          10276158,
          6036914,
          10150265,
          19314747,
          24821286,
          85262356,
          684736,
          5447502,
          4552198,
          13755680,
          40301927,
          3242173,
          38518241,
          708573,
          3204897,
          4493312,
          108700891,
          3447496,
          3600523,
          798094,
          10228744,
          2505559,
          2009245,
          10642836,
          301139947,
          11416987,
          5468120,
          23174294,
          16284741,
          49044790,
          3942491,
          4133884,
          4109086,
          5238460,
          82400996,
          60776238,
          10392226,
          10706290,
          16570613,
          8199783,
          4553009,
          4627926,
          4115771,
          58147733,
          33390141,
          61083916,
          6426679,
          9031088,
          40448191,
          20434176,
          7554661,
          301931,
          6980412,
          127467972
         ],
         "xaxis": "x",
         "y": [
          "Africa",
          "Africa",
          "Africa",
          "Africa",
          "Africa",
          "Africa",
          "Africa",
          "Asia",
          "Africa",
          "Africa",
          "Africa",
          "Africa",
          "Africa",
          "Africa",
          "Africa",
          "Africa",
          "Africa",
          "Africa",
          "Africa",
          "Africa",
          "Africa",
          "Africa",
          "Africa",
          "Africa",
          "Africa",
          "Africa",
          "Africa",
          "Africa",
          "Africa",
          "Africa",
          "Africa",
          "Africa",
          "Africa",
          "Africa",
          "Africa",
          "Africa",
          "Africa",
          "Africa",
          "Africa",
          "Africa",
          "Africa",
          "Asia",
          "Asia",
          "Africa",
          "Americas",
          "Asia",
          "Asia",
          "Africa",
          "Asia",
          "Asia",
          "Africa",
          "Asia",
          "Africa",
          "Asia",
          "Africa",
          "Americas",
          "Asia",
          "Asia",
          "Americas",
          "Americas",
          "Americas",
          "Asia",
          "Asia",
          "Asia",
          "Africa",
          "Africa",
          "Americas",
          "Asia",
          "Americas",
          "Europe",
          "Americas",
          "Asia",
          "Americas",
          "Africa",
          "Americas",
          "Asia",
          "Europe",
          "Asia",
          "Americas",
          "Asia",
          "Africa",
          "Americas",
          "Americas",
          "Asia",
          "Europe",
          "Europe",
          "Asia",
          "Americas",
          "Africa",
          "Africa",
          "Europe",
          "Asia",
          "Asia",
          "Asia",
          "Europe",
          "Europe",
          "Europe",
          "Americas",
          "Americas",
          "Americas",
          "Europe",
          "Asia",
          "Asia",
          "Europe",
          "Americas",
          "Americas",
          "Europe",
          "Africa",
          "Europe",
          "Asia",
          "Europe",
          "Europe",
          "Americas",
          "Americas",
          "Europe",
          "Asia",
          "Americas",
          "Asia",
          "Americas",
          "Americas",
          "Europe",
          "Europe",
          "Europe",
          "Europe",
          "Europe",
          "Europe",
          "Europe",
          "Europe",
          "Asia",
          "Europe",
          "Oceania",
          "Europe",
          "Americas",
          "Europe",
          "Asia",
          "Europe",
          "Europe",
          "Oceania",
          "Europe",
          "Europe",
          "Asia",
          "Asia"
         ],
         "yaxis": "y"
        }
       ],
       "layout": {
        "barmode": "relative",
        "coloraxis": {
         "colorbar": {
          "title": {
           "text": "lifeExp"
          }
         },
         "colorscale": [
          [
           0,
           "rgb(255,0,0)"
          ],
          [
           1,
           "rgb(0,0,255)"
          ]
         ]
        },
        "legend": {
         "tracegroupgap": 0
        },
        "margin": {
         "t": 60
        },
        "template": {
         "data": {
          "bar": [
           {
            "error_x": {
             "color": "#2a3f5f"
            },
            "error_y": {
             "color": "#2a3f5f"
            },
            "marker": {
             "line": {
              "color": "#E5ECF6",
              "width": 0.5
             },
             "pattern": {
              "fillmode": "overlay",
              "size": 10,
              "solidity": 0.2
             }
            },
            "type": "bar"
           }
          ],
          "barpolar": [
           {
            "marker": {
             "line": {
              "color": "#E5ECF6",
              "width": 0.5
             },
             "pattern": {
              "fillmode": "overlay",
              "size": 10,
              "solidity": 0.2
             }
            },
            "type": "barpolar"
           }
          ],
          "carpet": [
           {
            "aaxis": {
             "endlinecolor": "#2a3f5f",
             "gridcolor": "white",
             "linecolor": "white",
             "minorgridcolor": "white",
             "startlinecolor": "#2a3f5f"
            },
            "baxis": {
             "endlinecolor": "#2a3f5f",
             "gridcolor": "white",
             "linecolor": "white",
             "minorgridcolor": "white",
             "startlinecolor": "#2a3f5f"
            },
            "type": "carpet"
           }
          ],
          "choropleth": [
           {
            "colorbar": {
             "outlinewidth": 0,
             "ticks": ""
            },
            "type": "choropleth"
           }
          ],
          "contour": [
           {
            "colorbar": {
             "outlinewidth": 0,
             "ticks": ""
            },
            "colorscale": [
             [
              0,
              "#0d0887"
             ],
             [
              0.1111111111111111,
              "#46039f"
             ],
             [
              0.2222222222222222,
              "#7201a8"
             ],
             [
              0.3333333333333333,
              "#9c179e"
             ],
             [
              0.4444444444444444,
              "#bd3786"
             ],
             [
              0.5555555555555556,
              "#d8576b"
             ],
             [
              0.6666666666666666,
              "#ed7953"
             ],
             [
              0.7777777777777778,
              "#fb9f3a"
             ],
             [
              0.8888888888888888,
              "#fdca26"
             ],
             [
              1,
              "#f0f921"
             ]
            ],
            "type": "contour"
           }
          ],
          "contourcarpet": [
           {
            "colorbar": {
             "outlinewidth": 0,
             "ticks": ""
            },
            "type": "contourcarpet"
           }
          ],
          "heatmap": [
           {
            "colorbar": {
             "outlinewidth": 0,
             "ticks": ""
            },
            "colorscale": [
             [
              0,
              "#0d0887"
             ],
             [
              0.1111111111111111,
              "#46039f"
             ],
             [
              0.2222222222222222,
              "#7201a8"
             ],
             [
              0.3333333333333333,
              "#9c179e"
             ],
             [
              0.4444444444444444,
              "#bd3786"
             ],
             [
              0.5555555555555556,
              "#d8576b"
             ],
             [
              0.6666666666666666,
              "#ed7953"
             ],
             [
              0.7777777777777778,
              "#fb9f3a"
             ],
             [
              0.8888888888888888,
              "#fdca26"
             ],
             [
              1,
              "#f0f921"
             ]
            ],
            "type": "heatmap"
           }
          ],
          "heatmapgl": [
           {
            "colorbar": {
             "outlinewidth": 0,
             "ticks": ""
            },
            "colorscale": [
             [
              0,
              "#0d0887"
             ],
             [
              0.1111111111111111,
              "#46039f"
             ],
             [
              0.2222222222222222,
              "#7201a8"
             ],
             [
              0.3333333333333333,
              "#9c179e"
             ],
             [
              0.4444444444444444,
              "#bd3786"
             ],
             [
              0.5555555555555556,
              "#d8576b"
             ],
             [
              0.6666666666666666,
              "#ed7953"
             ],
             [
              0.7777777777777778,
              "#fb9f3a"
             ],
             [
              0.8888888888888888,
              "#fdca26"
             ],
             [
              1,
              "#f0f921"
             ]
            ],
            "type": "heatmapgl"
           }
          ],
          "histogram": [
           {
            "marker": {
             "pattern": {
              "fillmode": "overlay",
              "size": 10,
              "solidity": 0.2
             }
            },
            "type": "histogram"
           }
          ],
          "histogram2d": [
           {
            "colorbar": {
             "outlinewidth": 0,
             "ticks": ""
            },
            "colorscale": [
             [
              0,
              "#0d0887"
             ],
             [
              0.1111111111111111,
              "#46039f"
             ],
             [
              0.2222222222222222,
              "#7201a8"
             ],
             [
              0.3333333333333333,
              "#9c179e"
             ],
             [
              0.4444444444444444,
              "#bd3786"
             ],
             [
              0.5555555555555556,
              "#d8576b"
             ],
             [
              0.6666666666666666,
              "#ed7953"
             ],
             [
              0.7777777777777778,
              "#fb9f3a"
             ],
             [
              0.8888888888888888,
              "#fdca26"
             ],
             [
              1,
              "#f0f921"
             ]
            ],
            "type": "histogram2d"
           }
          ],
          "histogram2dcontour": [
           {
            "colorbar": {
             "outlinewidth": 0,
             "ticks": ""
            },
            "colorscale": [
             [
              0,
              "#0d0887"
             ],
             [
              0.1111111111111111,
              "#46039f"
             ],
             [
              0.2222222222222222,
              "#7201a8"
             ],
             [
              0.3333333333333333,
              "#9c179e"
             ],
             [
              0.4444444444444444,
              "#bd3786"
             ],
             [
              0.5555555555555556,
              "#d8576b"
             ],
             [
              0.6666666666666666,
              "#ed7953"
             ],
             [
              0.7777777777777778,
              "#fb9f3a"
             ],
             [
              0.8888888888888888,
              "#fdca26"
             ],
             [
              1,
              "#f0f921"
             ]
            ],
            "type": "histogram2dcontour"
           }
          ],
          "mesh3d": [
           {
            "colorbar": {
             "outlinewidth": 0,
             "ticks": ""
            },
            "type": "mesh3d"
           }
          ],
          "parcoords": [
           {
            "line": {
             "colorbar": {
              "outlinewidth": 0,
              "ticks": ""
             }
            },
            "type": "parcoords"
           }
          ],
          "pie": [
           {
            "automargin": true,
            "type": "pie"
           }
          ],
          "scatter": [
           {
            "fillpattern": {
             "fillmode": "overlay",
             "size": 10,
             "solidity": 0.2
            },
            "type": "scatter"
           }
          ],
          "scatter3d": [
           {
            "line": {
             "colorbar": {
              "outlinewidth": 0,
              "ticks": ""
             }
            },
            "marker": {
             "colorbar": {
              "outlinewidth": 0,
              "ticks": ""
             }
            },
            "type": "scatter3d"
           }
          ],
          "scattercarpet": [
           {
            "marker": {
             "colorbar": {
              "outlinewidth": 0,
              "ticks": ""
             }
            },
            "type": "scattercarpet"
           }
          ],
          "scattergeo": [
           {
            "marker": {
             "colorbar": {
              "outlinewidth": 0,
              "ticks": ""
             }
            },
            "type": "scattergeo"
           }
          ],
          "scattergl": [
           {
            "marker": {
             "colorbar": {
              "outlinewidth": 0,
              "ticks": ""
             }
            },
            "type": "scattergl"
           }
          ],
          "scattermapbox": [
           {
            "marker": {
             "colorbar": {
              "outlinewidth": 0,
              "ticks": ""
             }
            },
            "type": "scattermapbox"
           }
          ],
          "scatterpolar": [
           {
            "marker": {
             "colorbar": {
              "outlinewidth": 0,
              "ticks": ""
             }
            },
            "type": "scatterpolar"
           }
          ],
          "scatterpolargl": [
           {
            "marker": {
             "colorbar": {
              "outlinewidth": 0,
              "ticks": ""
             }
            },
            "type": "scatterpolargl"
           }
          ],
          "scatterternary": [
           {
            "marker": {
             "colorbar": {
              "outlinewidth": 0,
              "ticks": ""
             }
            },
            "type": "scatterternary"
           }
          ],
          "surface": [
           {
            "colorbar": {
             "outlinewidth": 0,
             "ticks": ""
            },
            "colorscale": [
             [
              0,
              "#0d0887"
             ],
             [
              0.1111111111111111,
              "#46039f"
             ],
             [
              0.2222222222222222,
              "#7201a8"
             ],
             [
              0.3333333333333333,
              "#9c179e"
             ],
             [
              0.4444444444444444,
              "#bd3786"
             ],
             [
              0.5555555555555556,
              "#d8576b"
             ],
             [
              0.6666666666666666,
              "#ed7953"
             ],
             [
              0.7777777777777778,
              "#fb9f3a"
             ],
             [
              0.8888888888888888,
              "#fdca26"
             ],
             [
              1,
              "#f0f921"
             ]
            ],
            "type": "surface"
           }
          ],
          "table": [
           {
            "cells": {
             "fill": {
              "color": "#EBF0F8"
             },
             "line": {
              "color": "white"
             }
            },
            "header": {
             "fill": {
              "color": "#C8D4E3"
             },
             "line": {
              "color": "white"
             }
            },
            "type": "table"
           }
          ]
         },
         "layout": {
          "annotationdefaults": {
           "arrowcolor": "#2a3f5f",
           "arrowhead": 0,
           "arrowwidth": 1
          },
          "autotypenumbers": "strict",
          "coloraxis": {
           "colorbar": {
            "outlinewidth": 0,
            "ticks": ""
           }
          },
          "colorscale": {
           "diverging": [
            [
             0,
             "#8e0152"
            ],
            [
             0.1,
             "#c51b7d"
            ],
            [
             0.2,
             "#de77ae"
            ],
            [
             0.3,
             "#f1b6da"
            ],
            [
             0.4,
             "#fde0ef"
            ],
            [
             0.5,
             "#f7f7f7"
            ],
            [
             0.6,
             "#e6f5d0"
            ],
            [
             0.7,
             "#b8e186"
            ],
            [
             0.8,
             "#7fbc41"
            ],
            [
             0.9,
             "#4d9221"
            ],
            [
             1,
             "#276419"
            ]
           ],
           "sequential": [
            [
             0,
             "#0d0887"
            ],
            [
             0.1111111111111111,
             "#46039f"
            ],
            [
             0.2222222222222222,
             "#7201a8"
            ],
            [
             0.3333333333333333,
             "#9c179e"
            ],
            [
             0.4444444444444444,
             "#bd3786"
            ],
            [
             0.5555555555555556,
             "#d8576b"
            ],
            [
             0.6666666666666666,
             "#ed7953"
            ],
            [
             0.7777777777777778,
             "#fb9f3a"
            ],
            [
             0.8888888888888888,
             "#fdca26"
            ],
            [
             1,
             "#f0f921"
            ]
           ],
           "sequentialminus": [
            [
             0,
             "#0d0887"
            ],
            [
             0.1111111111111111,
             "#46039f"
            ],
            [
             0.2222222222222222,
             "#7201a8"
            ],
            [
             0.3333333333333333,
             "#9c179e"
            ],
            [
             0.4444444444444444,
             "#bd3786"
            ],
            [
             0.5555555555555556,
             "#d8576b"
            ],
            [
             0.6666666666666666,
             "#ed7953"
            ],
            [
             0.7777777777777778,
             "#fb9f3a"
            ],
            [
             0.8888888888888888,
             "#fdca26"
            ],
            [
             1,
             "#f0f921"
            ]
           ]
          },
          "colorway": [
           "#636efa",
           "#EF553B",
           "#00cc96",
           "#ab63fa",
           "#FFA15A",
           "#19d3f3",
           "#FF6692",
           "#B6E880",
           "#FF97FF",
           "#FECB52"
          ],
          "font": {
           "color": "#2a3f5f"
          },
          "geo": {
           "bgcolor": "white",
           "lakecolor": "white",
           "landcolor": "#E5ECF6",
           "showlakes": true,
           "showland": true,
           "subunitcolor": "white"
          },
          "hoverlabel": {
           "align": "left"
          },
          "hovermode": "closest",
          "mapbox": {
           "style": "light"
          },
          "paper_bgcolor": "white",
          "plot_bgcolor": "#E5ECF6",
          "polar": {
           "angularaxis": {
            "gridcolor": "white",
            "linecolor": "white",
            "ticks": ""
           },
           "bgcolor": "#E5ECF6",
           "radialaxis": {
            "gridcolor": "white",
            "linecolor": "white",
            "ticks": ""
           }
          },
          "scene": {
           "xaxis": {
            "backgroundcolor": "#E5ECF6",
            "gridcolor": "white",
            "gridwidth": 2,
            "linecolor": "white",
            "showbackground": true,
            "ticks": "",
            "zerolinecolor": "white"
           },
           "yaxis": {
            "backgroundcolor": "#E5ECF6",
            "gridcolor": "white",
            "gridwidth": 2,
            "linecolor": "white",
            "showbackground": true,
            "ticks": "",
            "zerolinecolor": "white"
           },
           "zaxis": {
            "backgroundcolor": "#E5ECF6",
            "gridcolor": "white",
            "gridwidth": 2,
            "linecolor": "white",
            "showbackground": true,
            "ticks": "",
            "zerolinecolor": "white"
           }
          },
          "shapedefaults": {
           "line": {
            "color": "#2a3f5f"
           }
          },
          "ternary": {
           "aaxis": {
            "gridcolor": "white",
            "linecolor": "white",
            "ticks": ""
           },
           "baxis": {
            "gridcolor": "white",
            "linecolor": "white",
            "ticks": ""
           },
           "bgcolor": "#E5ECF6",
           "caxis": {
            "gridcolor": "white",
            "linecolor": "white",
            "ticks": ""
           }
          },
          "title": {
           "x": 0.05
          },
          "xaxis": {
           "automargin": true,
           "gridcolor": "white",
           "linecolor": "white",
           "ticks": "",
           "title": {
            "standoff": 15
           },
           "zerolinecolor": "white",
           "zerolinewidth": 2
          },
          "yaxis": {
           "automargin": true,
           "gridcolor": "white",
           "linecolor": "white",
           "ticks": "",
           "title": {
            "standoff": 15
           },
           "zerolinecolor": "white",
           "zerolinewidth": 2
          }
         }
        },
        "xaxis": {
         "anchor": "y",
         "domain": [
          0,
          1
         ],
         "title": {
          "text": "pop"
         }
        },
        "yaxis": {
         "anchor": "x",
         "domain": [
          0,
          1
         ],
         "title": {
          "text": "continent"
         }
        }
       }
      }
     },
     "metadata": {},
     "output_type": "display_data"
    }
   ],
   "source": [
    "\n",
    "fig = px.bar(df, y=\"continent\", x=\"pop\", color=\"lifeExp\", orientation=\"h\",\n",
    "             color_continuous_scale='Bluered_r', hover_name=\"country\")\n",
    "\n",
    "fig.show()"
   ]
  },
  {
   "cell_type": "code",
   "execution_count": 121,
   "metadata": {},
   "outputs": [
    {
     "name": "stdout",
     "output_type": "stream",
     "text": [
      "Step 1: Reading VCF file...\n",
      "Step 2: Reading GWAS catalog...\n"
     ]
    },
    {
     "name": "stderr",
     "output_type": "stream",
     "text": [
      "/Volumes/CAS9/Aeiwz/Project/ONT-WGS/pygwas.py:44: DtypeWarning:\n",
      "\n",
      "Columns (10,12,13,14,24,27) have mixed types. Specify dtype option on import or set low_memory=False.\n",
      "\n"
     ]
    },
    {
     "name": "stdout",
     "output_type": "stream",
     "text": [
      "Step 3: Normalizing chromosome identifiers...\n",
      "Step 4: Ensuring position columns are strings...\n",
      "Step 5: Merging VCF and GWAS data...\n",
      "Saving annotated data to CSV...\n",
      "Annotated data saved to Barcode09-map-gwas-QUAL0/report/data/in-house_report.csv\n",
      "Saving report data to CSV...\n",
      "Report saved to Barcode09-map-gwas-QUAL0/report/KKUNPhI_report.html\n",
      "Step 1: Reading VCF file...\n",
      "Step 2: Reading GWAS catalog...\n"
     ]
    },
    {
     "name": "stderr",
     "output_type": "stream",
     "text": [
      "/Volumes/CAS9/Aeiwz/Project/ONT-WGS/pygwas.py:44: DtypeWarning:\n",
      "\n",
      "Columns (10,12,13,14,24,27) have mixed types. Specify dtype option on import or set low_memory=False.\n",
      "\n"
     ]
    },
    {
     "name": "stdout",
     "output_type": "stream",
     "text": [
      "Step 3: Normalizing chromosome identifiers...\n",
      "Step 4: Ensuring position columns are strings...\n",
      "Step 5: Merging VCF and GWAS data...\n",
      "Saving annotated data to CSV...\n",
      "Annotated data saved to Barcode09-map-gwas-QUAL10/report/data/in-house_report.csv\n",
      "Saving report data to CSV...\n",
      "Report saved to Barcode09-map-gwas-QUAL10/report/KKUNPhI_report.html\n",
      "Step 1: Reading VCF file...\n",
      "Step 2: Reading GWAS catalog...\n"
     ]
    },
    {
     "name": "stderr",
     "output_type": "stream",
     "text": [
      "/Volumes/CAS9/Aeiwz/Project/ONT-WGS/pygwas.py:44: DtypeWarning:\n",
      "\n",
      "Columns (10,12,13,14,24,27) have mixed types. Specify dtype option on import or set low_memory=False.\n",
      "\n"
     ]
    },
    {
     "name": "stdout",
     "output_type": "stream",
     "text": [
      "Step 3: Normalizing chromosome identifiers...\n",
      "Step 4: Ensuring position columns are strings...\n",
      "Step 5: Merging VCF and GWAS data...\n",
      "Saving annotated data to CSV...\n",
      "Annotated data saved to Barcode09-map-gwas-QUAL20/report/data/in-house_report.csv\n",
      "Saving report data to CSV...\n",
      "Report saved to Barcode09-map-gwas-QUAL20/report/KKUNPhI_report.html\n",
      "Step 1: Reading VCF file...\n",
      "Step 2: Reading GWAS catalog...\n"
     ]
    },
    {
     "name": "stderr",
     "output_type": "stream",
     "text": [
      "/Volumes/CAS9/Aeiwz/Project/ONT-WGS/pygwas.py:44: DtypeWarning:\n",
      "\n",
      "Columns (10,12,13,14,24,27) have mixed types. Specify dtype option on import or set low_memory=False.\n",
      "\n"
     ]
    },
    {
     "name": "stdout",
     "output_type": "stream",
     "text": [
      "Step 3: Normalizing chromosome identifiers...\n",
      "Step 4: Ensuring position columns are strings...\n",
      "Step 5: Merging VCF and GWAS data...\n",
      "Saving annotated data to CSV...\n",
      "Annotated data saved to Barcode10-map-gwas-QUAL0/report/data/in-house_report.csv\n",
      "Saving report data to CSV...\n",
      "Report saved to Barcode10-map-gwas-QUAL0/report/KKUNPhI_report.html\n",
      "Step 1: Reading VCF file...\n",
      "Step 2: Reading GWAS catalog...\n"
     ]
    },
    {
     "name": "stderr",
     "output_type": "stream",
     "text": [
      "/Volumes/CAS9/Aeiwz/Project/ONT-WGS/pygwas.py:44: DtypeWarning:\n",
      "\n",
      "Columns (10,12,13,14,24,27) have mixed types. Specify dtype option on import or set low_memory=False.\n",
      "\n"
     ]
    },
    {
     "name": "stdout",
     "output_type": "stream",
     "text": [
      "Step 3: Normalizing chromosome identifiers...\n",
      "Step 4: Ensuring position columns are strings...\n",
      "Step 5: Merging VCF and GWAS data...\n",
      "Saving annotated data to CSV...\n",
      "Annotated data saved to Barcode10-map-gwas-QUAL10/report/data/in-house_report.csv\n",
      "Saving report data to CSV...\n",
      "Report saved to Barcode10-map-gwas-QUAL10/report/KKUNPhI_report.html\n",
      "Step 1: Reading VCF file...\n",
      "Step 2: Reading GWAS catalog...\n"
     ]
    },
    {
     "name": "stderr",
     "output_type": "stream",
     "text": [
      "/Volumes/CAS9/Aeiwz/Project/ONT-WGS/pygwas.py:44: DtypeWarning:\n",
      "\n",
      "Columns (10,12,13,14,24,27) have mixed types. Specify dtype option on import or set low_memory=False.\n",
      "\n"
     ]
    },
    {
     "name": "stdout",
     "output_type": "stream",
     "text": [
      "Step 3: Normalizing chromosome identifiers...\n",
      "Step 4: Ensuring position columns are strings...\n",
      "Step 5: Merging VCF and GWAS data...\n",
      "Saving annotated data to CSV...\n",
      "Annotated data saved to Barcode10-map-gwas-QUAL20/report/data/in-house_report.csv\n",
      "Saving report data to CSV...\n",
      "Report saved to Barcode10-map-gwas-QUAL20/report/KKUNPhI_report.html\n"
     ]
    }
   ],
   "source": [
    "barcode = ['Barcode09', 'Barcode10']\n",
    "filter_Q = [0, 10, 20]\n",
    "gwas_file = \"gwas_catalog_grouped.csv\"\n",
    "\n",
    "for i in barcode:\n",
    "    for j in filter_Q:\n",
    "        path = f'{i}/medaka-variant-out/medaka.annotated.vcf'\n",
    "        out = f'{i}-map-gwas-QUAL{j}'\n",
    "\n",
    "        mapper = MapGWASSNPs(path, gwas_file, out, cut_off_qual=j, filt_nr_disease=True)\n",
    "        annotated_df = mapper.map_snps()\n",
    "        mapper.generate_report()"
   ]
  }
 ],
 "metadata": {
  "kernelspec": {
   "display_name": "Python 3",
   "language": "python",
   "name": "python3"
  },
  "language_info": {
   "codemirror_mode": {
    "name": "ipython",
    "version": 3
   },
   "file_extension": ".py",
   "mimetype": "text/x-python",
   "name": "python",
   "nbconvert_exporter": "python",
   "pygments_lexer": "ipython3",
   "version": "3.13.0"
  }
 },
 "nbformat": 4,
 "nbformat_minor": 2
}
